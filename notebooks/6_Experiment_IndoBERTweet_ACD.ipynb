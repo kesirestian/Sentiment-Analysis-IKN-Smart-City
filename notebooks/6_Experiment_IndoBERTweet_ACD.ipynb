{
  "nbformat": 4,
  "nbformat_minor": 0,
  "metadata": {
    "colab": {
      "provenance": [],
      "gpuType": "T4"
    },
    "kernelspec": {
      "name": "python3",
      "display_name": "Python 3"
    },
    "language_info": {
      "name": "python"
    },
    "accelerator": "GPU",
    "widgets": {
      "application/vnd.jupyter.widget-state+json": {
        "8917d71d1707422188442b60d38fd2c5": {
          "model_module": "@jupyter-widgets/controls",
          "model_name": "HBoxModel",
          "model_module_version": "1.5.0",
          "state": {
            "_dom_classes": [],
            "_model_module": "@jupyter-widgets/controls",
            "_model_module_version": "1.5.0",
            "_model_name": "HBoxModel",
            "_view_count": null,
            "_view_module": "@jupyter-widgets/controls",
            "_view_module_version": "1.5.0",
            "_view_name": "HBoxView",
            "box_style": "",
            "children": [
              "IPY_MODEL_348f51b556044d6e8f502d02af0e08c1",
              "IPY_MODEL_818bdb6fcedd4ecb9251e04e1c41df2e",
              "IPY_MODEL_c2ecb0d67de54b02b3cab721b574d892"
            ],
            "layout": "IPY_MODEL_b5dcc86f6d604b02bf3d7dca893b378b"
          }
        },
        "348f51b556044d6e8f502d02af0e08c1": {
          "model_module": "@jupyter-widgets/controls",
          "model_name": "HTMLModel",
          "model_module_version": "1.5.0",
          "state": {
            "_dom_classes": [],
            "_model_module": "@jupyter-widgets/controls",
            "_model_module_version": "1.5.0",
            "_model_name": "HTMLModel",
            "_view_count": null,
            "_view_module": "@jupyter-widgets/controls",
            "_view_module_version": "1.5.0",
            "_view_name": "HTMLView",
            "description": "",
            "description_tooltip": null,
            "layout": "IPY_MODEL_b0712fdf4bd24d5abded7d0128214acd",
            "placeholder": "​",
            "style": "IPY_MODEL_0887dda393614039a213bad03c710c65",
            "value": "tokenizer_config.json: 100%"
          }
        },
        "818bdb6fcedd4ecb9251e04e1c41df2e": {
          "model_module": "@jupyter-widgets/controls",
          "model_name": "FloatProgressModel",
          "model_module_version": "1.5.0",
          "state": {
            "_dom_classes": [],
            "_model_module": "@jupyter-widgets/controls",
            "_model_module_version": "1.5.0",
            "_model_name": "FloatProgressModel",
            "_view_count": null,
            "_view_module": "@jupyter-widgets/controls",
            "_view_module_version": "1.5.0",
            "_view_name": "ProgressView",
            "bar_style": "success",
            "description": "",
            "description_tooltip": null,
            "layout": "IPY_MODEL_d8517b5b6f8a4b3885af2815d788c2d4",
            "max": 2,
            "min": 0,
            "orientation": "horizontal",
            "style": "IPY_MODEL_50bbd09f605f44fb855cf44e664e9c77",
            "value": 2
          }
        },
        "c2ecb0d67de54b02b3cab721b574d892": {
          "model_module": "@jupyter-widgets/controls",
          "model_name": "HTMLModel",
          "model_module_version": "1.5.0",
          "state": {
            "_dom_classes": [],
            "_model_module": "@jupyter-widgets/controls",
            "_model_module_version": "1.5.0",
            "_model_name": "HTMLModel",
            "_view_count": null,
            "_view_module": "@jupyter-widgets/controls",
            "_view_module_version": "1.5.0",
            "_view_name": "HTMLView",
            "description": "",
            "description_tooltip": null,
            "layout": "IPY_MODEL_b8b6a1e995664b4da2a1e39be9063a32",
            "placeholder": "​",
            "style": "IPY_MODEL_66765920375847b5a908cd711f58beb4",
            "value": " 2.00/2.00 [00:00&lt;00:00, 71.1B/s]"
          }
        },
        "b5dcc86f6d604b02bf3d7dca893b378b": {
          "model_module": "@jupyter-widgets/base",
          "model_name": "LayoutModel",
          "model_module_version": "1.2.0",
          "state": {
            "_model_module": "@jupyter-widgets/base",
            "_model_module_version": "1.2.0",
            "_model_name": "LayoutModel",
            "_view_count": null,
            "_view_module": "@jupyter-widgets/base",
            "_view_module_version": "1.2.0",
            "_view_name": "LayoutView",
            "align_content": null,
            "align_items": null,
            "align_self": null,
            "border": null,
            "bottom": null,
            "display": null,
            "flex": null,
            "flex_flow": null,
            "grid_area": null,
            "grid_auto_columns": null,
            "grid_auto_flow": null,
            "grid_auto_rows": null,
            "grid_column": null,
            "grid_gap": null,
            "grid_row": null,
            "grid_template_areas": null,
            "grid_template_columns": null,
            "grid_template_rows": null,
            "height": null,
            "justify_content": null,
            "justify_items": null,
            "left": null,
            "margin": null,
            "max_height": null,
            "max_width": null,
            "min_height": null,
            "min_width": null,
            "object_fit": null,
            "object_position": null,
            "order": null,
            "overflow": null,
            "overflow_x": null,
            "overflow_y": null,
            "padding": null,
            "right": null,
            "top": null,
            "visibility": null,
            "width": null
          }
        },
        "b0712fdf4bd24d5abded7d0128214acd": {
          "model_module": "@jupyter-widgets/base",
          "model_name": "LayoutModel",
          "model_module_version": "1.2.0",
          "state": {
            "_model_module": "@jupyter-widgets/base",
            "_model_module_version": "1.2.0",
            "_model_name": "LayoutModel",
            "_view_count": null,
            "_view_module": "@jupyter-widgets/base",
            "_view_module_version": "1.2.0",
            "_view_name": "LayoutView",
            "align_content": null,
            "align_items": null,
            "align_self": null,
            "border": null,
            "bottom": null,
            "display": null,
            "flex": null,
            "flex_flow": null,
            "grid_area": null,
            "grid_auto_columns": null,
            "grid_auto_flow": null,
            "grid_auto_rows": null,
            "grid_column": null,
            "grid_gap": null,
            "grid_row": null,
            "grid_template_areas": null,
            "grid_template_columns": null,
            "grid_template_rows": null,
            "height": null,
            "justify_content": null,
            "justify_items": null,
            "left": null,
            "margin": null,
            "max_height": null,
            "max_width": null,
            "min_height": null,
            "min_width": null,
            "object_fit": null,
            "object_position": null,
            "order": null,
            "overflow": null,
            "overflow_x": null,
            "overflow_y": null,
            "padding": null,
            "right": null,
            "top": null,
            "visibility": null,
            "width": null
          }
        },
        "0887dda393614039a213bad03c710c65": {
          "model_module": "@jupyter-widgets/controls",
          "model_name": "DescriptionStyleModel",
          "model_module_version": "1.5.0",
          "state": {
            "_model_module": "@jupyter-widgets/controls",
            "_model_module_version": "1.5.0",
            "_model_name": "DescriptionStyleModel",
            "_view_count": null,
            "_view_module": "@jupyter-widgets/base",
            "_view_module_version": "1.2.0",
            "_view_name": "StyleView",
            "description_width": ""
          }
        },
        "d8517b5b6f8a4b3885af2815d788c2d4": {
          "model_module": "@jupyter-widgets/base",
          "model_name": "LayoutModel",
          "model_module_version": "1.2.0",
          "state": {
            "_model_module": "@jupyter-widgets/base",
            "_model_module_version": "1.2.0",
            "_model_name": "LayoutModel",
            "_view_count": null,
            "_view_module": "@jupyter-widgets/base",
            "_view_module_version": "1.2.0",
            "_view_name": "LayoutView",
            "align_content": null,
            "align_items": null,
            "align_self": null,
            "border": null,
            "bottom": null,
            "display": null,
            "flex": null,
            "flex_flow": null,
            "grid_area": null,
            "grid_auto_columns": null,
            "grid_auto_flow": null,
            "grid_auto_rows": null,
            "grid_column": null,
            "grid_gap": null,
            "grid_row": null,
            "grid_template_areas": null,
            "grid_template_columns": null,
            "grid_template_rows": null,
            "height": null,
            "justify_content": null,
            "justify_items": null,
            "left": null,
            "margin": null,
            "max_height": null,
            "max_width": null,
            "min_height": null,
            "min_width": null,
            "object_fit": null,
            "object_position": null,
            "order": null,
            "overflow": null,
            "overflow_x": null,
            "overflow_y": null,
            "padding": null,
            "right": null,
            "top": null,
            "visibility": null,
            "width": null
          }
        },
        "50bbd09f605f44fb855cf44e664e9c77": {
          "model_module": "@jupyter-widgets/controls",
          "model_name": "ProgressStyleModel",
          "model_module_version": "1.5.0",
          "state": {
            "_model_module": "@jupyter-widgets/controls",
            "_model_module_version": "1.5.0",
            "_model_name": "ProgressStyleModel",
            "_view_count": null,
            "_view_module": "@jupyter-widgets/base",
            "_view_module_version": "1.2.0",
            "_view_name": "StyleView",
            "bar_color": null,
            "description_width": ""
          }
        },
        "b8b6a1e995664b4da2a1e39be9063a32": {
          "model_module": "@jupyter-widgets/base",
          "model_name": "LayoutModel",
          "model_module_version": "1.2.0",
          "state": {
            "_model_module": "@jupyter-widgets/base",
            "_model_module_version": "1.2.0",
            "_model_name": "LayoutModel",
            "_view_count": null,
            "_view_module": "@jupyter-widgets/base",
            "_view_module_version": "1.2.0",
            "_view_name": "LayoutView",
            "align_content": null,
            "align_items": null,
            "align_self": null,
            "border": null,
            "bottom": null,
            "display": null,
            "flex": null,
            "flex_flow": null,
            "grid_area": null,
            "grid_auto_columns": null,
            "grid_auto_flow": null,
            "grid_auto_rows": null,
            "grid_column": null,
            "grid_gap": null,
            "grid_row": null,
            "grid_template_areas": null,
            "grid_template_columns": null,
            "grid_template_rows": null,
            "height": null,
            "justify_content": null,
            "justify_items": null,
            "left": null,
            "margin": null,
            "max_height": null,
            "max_width": null,
            "min_height": null,
            "min_width": null,
            "object_fit": null,
            "object_position": null,
            "order": null,
            "overflow": null,
            "overflow_x": null,
            "overflow_y": null,
            "padding": null,
            "right": null,
            "top": null,
            "visibility": null,
            "width": null
          }
        },
        "66765920375847b5a908cd711f58beb4": {
          "model_module": "@jupyter-widgets/controls",
          "model_name": "DescriptionStyleModel",
          "model_module_version": "1.5.0",
          "state": {
            "_model_module": "@jupyter-widgets/controls",
            "_model_module_version": "1.5.0",
            "_model_name": "DescriptionStyleModel",
            "_view_count": null,
            "_view_module": "@jupyter-widgets/base",
            "_view_module_version": "1.2.0",
            "_view_name": "StyleView",
            "description_width": ""
          }
        },
        "019bc1b2a7474aeda8ca9065c6c237d5": {
          "model_module": "@jupyter-widgets/controls",
          "model_name": "HBoxModel",
          "model_module_version": "1.5.0",
          "state": {
            "_dom_classes": [],
            "_model_module": "@jupyter-widgets/controls",
            "_model_module_version": "1.5.0",
            "_model_name": "HBoxModel",
            "_view_count": null,
            "_view_module": "@jupyter-widgets/controls",
            "_view_module_version": "1.5.0",
            "_view_name": "HBoxView",
            "box_style": "",
            "children": [
              "IPY_MODEL_641b46d530ba44fba13a04b8cdacef1c",
              "IPY_MODEL_1f5f74978c1244e8932f4d485a5f4c97",
              "IPY_MODEL_5050a3bcf9f1453d9bdc203653d895c4"
            ],
            "layout": "IPY_MODEL_6e34ebf4ec6e45cebfae5653ce58f9a5"
          }
        },
        "641b46d530ba44fba13a04b8cdacef1c": {
          "model_module": "@jupyter-widgets/controls",
          "model_name": "HTMLModel",
          "model_module_version": "1.5.0",
          "state": {
            "_dom_classes": [],
            "_model_module": "@jupyter-widgets/controls",
            "_model_module_version": "1.5.0",
            "_model_name": "HTMLModel",
            "_view_count": null,
            "_view_module": "@jupyter-widgets/controls",
            "_view_module_version": "1.5.0",
            "_view_name": "HTMLView",
            "description": "",
            "description_tooltip": null,
            "layout": "IPY_MODEL_0b27ba2d7a544afd9b86de64ae6dc8e6",
            "placeholder": "​",
            "style": "IPY_MODEL_68385e4728ea4191a5ca31b52bf309c9",
            "value": "config.json: "
          }
        },
        "1f5f74978c1244e8932f4d485a5f4c97": {
          "model_module": "@jupyter-widgets/controls",
          "model_name": "FloatProgressModel",
          "model_module_version": "1.5.0",
          "state": {
            "_dom_classes": [],
            "_model_module": "@jupyter-widgets/controls",
            "_model_module_version": "1.5.0",
            "_model_name": "FloatProgressModel",
            "_view_count": null,
            "_view_module": "@jupyter-widgets/controls",
            "_view_module_version": "1.5.0",
            "_view_name": "ProgressView",
            "bar_style": "success",
            "description": "",
            "description_tooltip": null,
            "layout": "IPY_MODEL_febdda9f464e4fc4bd87457edd0655e3",
            "max": 1,
            "min": 0,
            "orientation": "horizontal",
            "style": "IPY_MODEL_2f5ffd36bbe14f209706b1386108399b",
            "value": 1
          }
        },
        "5050a3bcf9f1453d9bdc203653d895c4": {
          "model_module": "@jupyter-widgets/controls",
          "model_name": "HTMLModel",
          "model_module_version": "1.5.0",
          "state": {
            "_dom_classes": [],
            "_model_module": "@jupyter-widgets/controls",
            "_model_module_version": "1.5.0",
            "_model_name": "HTMLModel",
            "_view_count": null,
            "_view_module": "@jupyter-widgets/controls",
            "_view_module_version": "1.5.0",
            "_view_name": "HTMLView",
            "description": "",
            "description_tooltip": null,
            "layout": "IPY_MODEL_20f8b1fbf3d548dd8544fdb66427bd4b",
            "placeholder": "​",
            "style": "IPY_MODEL_7823043b69ea444990191b57c54e5af0",
            "value": " 1.10k/? [00:00&lt;00:00, 30.4kB/s]"
          }
        },
        "6e34ebf4ec6e45cebfae5653ce58f9a5": {
          "model_module": "@jupyter-widgets/base",
          "model_name": "LayoutModel",
          "model_module_version": "1.2.0",
          "state": {
            "_model_module": "@jupyter-widgets/base",
            "_model_module_version": "1.2.0",
            "_model_name": "LayoutModel",
            "_view_count": null,
            "_view_module": "@jupyter-widgets/base",
            "_view_module_version": "1.2.0",
            "_view_name": "LayoutView",
            "align_content": null,
            "align_items": null,
            "align_self": null,
            "border": null,
            "bottom": null,
            "display": null,
            "flex": null,
            "flex_flow": null,
            "grid_area": null,
            "grid_auto_columns": null,
            "grid_auto_flow": null,
            "grid_auto_rows": null,
            "grid_column": null,
            "grid_gap": null,
            "grid_row": null,
            "grid_template_areas": null,
            "grid_template_columns": null,
            "grid_template_rows": null,
            "height": null,
            "justify_content": null,
            "justify_items": null,
            "left": null,
            "margin": null,
            "max_height": null,
            "max_width": null,
            "min_height": null,
            "min_width": null,
            "object_fit": null,
            "object_position": null,
            "order": null,
            "overflow": null,
            "overflow_x": null,
            "overflow_y": null,
            "padding": null,
            "right": null,
            "top": null,
            "visibility": null,
            "width": null
          }
        },
        "0b27ba2d7a544afd9b86de64ae6dc8e6": {
          "model_module": "@jupyter-widgets/base",
          "model_name": "LayoutModel",
          "model_module_version": "1.2.0",
          "state": {
            "_model_module": "@jupyter-widgets/base",
            "_model_module_version": "1.2.0",
            "_model_name": "LayoutModel",
            "_view_count": null,
            "_view_module": "@jupyter-widgets/base",
            "_view_module_version": "1.2.0",
            "_view_name": "LayoutView",
            "align_content": null,
            "align_items": null,
            "align_self": null,
            "border": null,
            "bottom": null,
            "display": null,
            "flex": null,
            "flex_flow": null,
            "grid_area": null,
            "grid_auto_columns": null,
            "grid_auto_flow": null,
            "grid_auto_rows": null,
            "grid_column": null,
            "grid_gap": null,
            "grid_row": null,
            "grid_template_areas": null,
            "grid_template_columns": null,
            "grid_template_rows": null,
            "height": null,
            "justify_content": null,
            "justify_items": null,
            "left": null,
            "margin": null,
            "max_height": null,
            "max_width": null,
            "min_height": null,
            "min_width": null,
            "object_fit": null,
            "object_position": null,
            "order": null,
            "overflow": null,
            "overflow_x": null,
            "overflow_y": null,
            "padding": null,
            "right": null,
            "top": null,
            "visibility": null,
            "width": null
          }
        },
        "68385e4728ea4191a5ca31b52bf309c9": {
          "model_module": "@jupyter-widgets/controls",
          "model_name": "DescriptionStyleModel",
          "model_module_version": "1.5.0",
          "state": {
            "_model_module": "@jupyter-widgets/controls",
            "_model_module_version": "1.5.0",
            "_model_name": "DescriptionStyleModel",
            "_view_count": null,
            "_view_module": "@jupyter-widgets/base",
            "_view_module_version": "1.2.0",
            "_view_name": "StyleView",
            "description_width": ""
          }
        },
        "febdda9f464e4fc4bd87457edd0655e3": {
          "model_module": "@jupyter-widgets/base",
          "model_name": "LayoutModel",
          "model_module_version": "1.2.0",
          "state": {
            "_model_module": "@jupyter-widgets/base",
            "_model_module_version": "1.2.0",
            "_model_name": "LayoutModel",
            "_view_count": null,
            "_view_module": "@jupyter-widgets/base",
            "_view_module_version": "1.2.0",
            "_view_name": "LayoutView",
            "align_content": null,
            "align_items": null,
            "align_self": null,
            "border": null,
            "bottom": null,
            "display": null,
            "flex": null,
            "flex_flow": null,
            "grid_area": null,
            "grid_auto_columns": null,
            "grid_auto_flow": null,
            "grid_auto_rows": null,
            "grid_column": null,
            "grid_gap": null,
            "grid_row": null,
            "grid_template_areas": null,
            "grid_template_columns": null,
            "grid_template_rows": null,
            "height": null,
            "justify_content": null,
            "justify_items": null,
            "left": null,
            "margin": null,
            "max_height": null,
            "max_width": null,
            "min_height": null,
            "min_width": null,
            "object_fit": null,
            "object_position": null,
            "order": null,
            "overflow": null,
            "overflow_x": null,
            "overflow_y": null,
            "padding": null,
            "right": null,
            "top": null,
            "visibility": null,
            "width": "20px"
          }
        },
        "2f5ffd36bbe14f209706b1386108399b": {
          "model_module": "@jupyter-widgets/controls",
          "model_name": "ProgressStyleModel",
          "model_module_version": "1.5.0",
          "state": {
            "_model_module": "@jupyter-widgets/controls",
            "_model_module_version": "1.5.0",
            "_model_name": "ProgressStyleModel",
            "_view_count": null,
            "_view_module": "@jupyter-widgets/base",
            "_view_module_version": "1.2.0",
            "_view_name": "StyleView",
            "bar_color": null,
            "description_width": ""
          }
        },
        "20f8b1fbf3d548dd8544fdb66427bd4b": {
          "model_module": "@jupyter-widgets/base",
          "model_name": "LayoutModel",
          "model_module_version": "1.2.0",
          "state": {
            "_model_module": "@jupyter-widgets/base",
            "_model_module_version": "1.2.0",
            "_model_name": "LayoutModel",
            "_view_count": null,
            "_view_module": "@jupyter-widgets/base",
            "_view_module_version": "1.2.0",
            "_view_name": "LayoutView",
            "align_content": null,
            "align_items": null,
            "align_self": null,
            "border": null,
            "bottom": null,
            "display": null,
            "flex": null,
            "flex_flow": null,
            "grid_area": null,
            "grid_auto_columns": null,
            "grid_auto_flow": null,
            "grid_auto_rows": null,
            "grid_column": null,
            "grid_gap": null,
            "grid_row": null,
            "grid_template_areas": null,
            "grid_template_columns": null,
            "grid_template_rows": null,
            "height": null,
            "justify_content": null,
            "justify_items": null,
            "left": null,
            "margin": null,
            "max_height": null,
            "max_width": null,
            "min_height": null,
            "min_width": null,
            "object_fit": null,
            "object_position": null,
            "order": null,
            "overflow": null,
            "overflow_x": null,
            "overflow_y": null,
            "padding": null,
            "right": null,
            "top": null,
            "visibility": null,
            "width": null
          }
        },
        "7823043b69ea444990191b57c54e5af0": {
          "model_module": "@jupyter-widgets/controls",
          "model_name": "DescriptionStyleModel",
          "model_module_version": "1.5.0",
          "state": {
            "_model_module": "@jupyter-widgets/controls",
            "_model_module_version": "1.5.0",
            "_model_name": "DescriptionStyleModel",
            "_view_count": null,
            "_view_module": "@jupyter-widgets/base",
            "_view_module_version": "1.2.0",
            "_view_name": "StyleView",
            "description_width": ""
          }
        },
        "2cec0be9ed9c48dfbf56722e51607dca": {
          "model_module": "@jupyter-widgets/controls",
          "model_name": "HBoxModel",
          "model_module_version": "1.5.0",
          "state": {
            "_dom_classes": [],
            "_model_module": "@jupyter-widgets/controls",
            "_model_module_version": "1.5.0",
            "_model_name": "HBoxModel",
            "_view_count": null,
            "_view_module": "@jupyter-widgets/controls",
            "_view_module_version": "1.5.0",
            "_view_name": "HBoxView",
            "box_style": "",
            "children": [
              "IPY_MODEL_d995e8a34d0440468ac2d3f9f2493b91",
              "IPY_MODEL_99db7c9e5ece42f4a1373880118ff264",
              "IPY_MODEL_5aee049b334845528afb2da2d4a83695"
            ],
            "layout": "IPY_MODEL_aec349e5b4c2447cbc5bef42a83be594"
          }
        },
        "d995e8a34d0440468ac2d3f9f2493b91": {
          "model_module": "@jupyter-widgets/controls",
          "model_name": "HTMLModel",
          "model_module_version": "1.5.0",
          "state": {
            "_dom_classes": [],
            "_model_module": "@jupyter-widgets/controls",
            "_model_module_version": "1.5.0",
            "_model_name": "HTMLModel",
            "_view_count": null,
            "_view_module": "@jupyter-widgets/controls",
            "_view_module_version": "1.5.0",
            "_view_name": "HTMLView",
            "description": "",
            "description_tooltip": null,
            "layout": "IPY_MODEL_05367eb55df044ac8f9dc52b2e049dcb",
            "placeholder": "​",
            "style": "IPY_MODEL_e88609b04acf41398eeb4d18348c9156",
            "value": "vocab.txt: "
          }
        },
        "99db7c9e5ece42f4a1373880118ff264": {
          "model_module": "@jupyter-widgets/controls",
          "model_name": "FloatProgressModel",
          "model_module_version": "1.5.0",
          "state": {
            "_dom_classes": [],
            "_model_module": "@jupyter-widgets/controls",
            "_model_module_version": "1.5.0",
            "_model_name": "FloatProgressModel",
            "_view_count": null,
            "_view_module": "@jupyter-widgets/controls",
            "_view_module_version": "1.5.0",
            "_view_name": "ProgressView",
            "bar_style": "success",
            "description": "",
            "description_tooltip": null,
            "layout": "IPY_MODEL_2e8a62527140424f971b9a0b4814845a",
            "max": 1,
            "min": 0,
            "orientation": "horizontal",
            "style": "IPY_MODEL_4f003a5643464578b4c1a43b0eabc0f5",
            "value": 1
          }
        },
        "5aee049b334845528afb2da2d4a83695": {
          "model_module": "@jupyter-widgets/controls",
          "model_name": "HTMLModel",
          "model_module_version": "1.5.0",
          "state": {
            "_dom_classes": [],
            "_model_module": "@jupyter-widgets/controls",
            "_model_module_version": "1.5.0",
            "_model_name": "HTMLModel",
            "_view_count": null,
            "_view_module": "@jupyter-widgets/controls",
            "_view_module_version": "1.5.0",
            "_view_name": "HTMLView",
            "description": "",
            "description_tooltip": null,
            "layout": "IPY_MODEL_3c6cb3a89632466db0bca5289e1b62af",
            "placeholder": "​",
            "style": "IPY_MODEL_5c16104eb93444b3ba03f9d2c64260b3",
            "value": " 235k/? [00:00&lt;00:00, 4.81MB/s]"
          }
        },
        "aec349e5b4c2447cbc5bef42a83be594": {
          "model_module": "@jupyter-widgets/base",
          "model_name": "LayoutModel",
          "model_module_version": "1.2.0",
          "state": {
            "_model_module": "@jupyter-widgets/base",
            "_model_module_version": "1.2.0",
            "_model_name": "LayoutModel",
            "_view_count": null,
            "_view_module": "@jupyter-widgets/base",
            "_view_module_version": "1.2.0",
            "_view_name": "LayoutView",
            "align_content": null,
            "align_items": null,
            "align_self": null,
            "border": null,
            "bottom": null,
            "display": null,
            "flex": null,
            "flex_flow": null,
            "grid_area": null,
            "grid_auto_columns": null,
            "grid_auto_flow": null,
            "grid_auto_rows": null,
            "grid_column": null,
            "grid_gap": null,
            "grid_row": null,
            "grid_template_areas": null,
            "grid_template_columns": null,
            "grid_template_rows": null,
            "height": null,
            "justify_content": null,
            "justify_items": null,
            "left": null,
            "margin": null,
            "max_height": null,
            "max_width": null,
            "min_height": null,
            "min_width": null,
            "object_fit": null,
            "object_position": null,
            "order": null,
            "overflow": null,
            "overflow_x": null,
            "overflow_y": null,
            "padding": null,
            "right": null,
            "top": null,
            "visibility": null,
            "width": null
          }
        },
        "05367eb55df044ac8f9dc52b2e049dcb": {
          "model_module": "@jupyter-widgets/base",
          "model_name": "LayoutModel",
          "model_module_version": "1.2.0",
          "state": {
            "_model_module": "@jupyter-widgets/base",
            "_model_module_version": "1.2.0",
            "_model_name": "LayoutModel",
            "_view_count": null,
            "_view_module": "@jupyter-widgets/base",
            "_view_module_version": "1.2.0",
            "_view_name": "LayoutView",
            "align_content": null,
            "align_items": null,
            "align_self": null,
            "border": null,
            "bottom": null,
            "display": null,
            "flex": null,
            "flex_flow": null,
            "grid_area": null,
            "grid_auto_columns": null,
            "grid_auto_flow": null,
            "grid_auto_rows": null,
            "grid_column": null,
            "grid_gap": null,
            "grid_row": null,
            "grid_template_areas": null,
            "grid_template_columns": null,
            "grid_template_rows": null,
            "height": null,
            "justify_content": null,
            "justify_items": null,
            "left": null,
            "margin": null,
            "max_height": null,
            "max_width": null,
            "min_height": null,
            "min_width": null,
            "object_fit": null,
            "object_position": null,
            "order": null,
            "overflow": null,
            "overflow_x": null,
            "overflow_y": null,
            "padding": null,
            "right": null,
            "top": null,
            "visibility": null,
            "width": null
          }
        },
        "e88609b04acf41398eeb4d18348c9156": {
          "model_module": "@jupyter-widgets/controls",
          "model_name": "DescriptionStyleModel",
          "model_module_version": "1.5.0",
          "state": {
            "_model_module": "@jupyter-widgets/controls",
            "_model_module_version": "1.5.0",
            "_model_name": "DescriptionStyleModel",
            "_view_count": null,
            "_view_module": "@jupyter-widgets/base",
            "_view_module_version": "1.2.0",
            "_view_name": "StyleView",
            "description_width": ""
          }
        },
        "2e8a62527140424f971b9a0b4814845a": {
          "model_module": "@jupyter-widgets/base",
          "model_name": "LayoutModel",
          "model_module_version": "1.2.0",
          "state": {
            "_model_module": "@jupyter-widgets/base",
            "_model_module_version": "1.2.0",
            "_model_name": "LayoutModel",
            "_view_count": null,
            "_view_module": "@jupyter-widgets/base",
            "_view_module_version": "1.2.0",
            "_view_name": "LayoutView",
            "align_content": null,
            "align_items": null,
            "align_self": null,
            "border": null,
            "bottom": null,
            "display": null,
            "flex": null,
            "flex_flow": null,
            "grid_area": null,
            "grid_auto_columns": null,
            "grid_auto_flow": null,
            "grid_auto_rows": null,
            "grid_column": null,
            "grid_gap": null,
            "grid_row": null,
            "grid_template_areas": null,
            "grid_template_columns": null,
            "grid_template_rows": null,
            "height": null,
            "justify_content": null,
            "justify_items": null,
            "left": null,
            "margin": null,
            "max_height": null,
            "max_width": null,
            "min_height": null,
            "min_width": null,
            "object_fit": null,
            "object_position": null,
            "order": null,
            "overflow": null,
            "overflow_x": null,
            "overflow_y": null,
            "padding": null,
            "right": null,
            "top": null,
            "visibility": null,
            "width": "20px"
          }
        },
        "4f003a5643464578b4c1a43b0eabc0f5": {
          "model_module": "@jupyter-widgets/controls",
          "model_name": "ProgressStyleModel",
          "model_module_version": "1.5.0",
          "state": {
            "_model_module": "@jupyter-widgets/controls",
            "_model_module_version": "1.5.0",
            "_model_name": "ProgressStyleModel",
            "_view_count": null,
            "_view_module": "@jupyter-widgets/base",
            "_view_module_version": "1.2.0",
            "_view_name": "StyleView",
            "bar_color": null,
            "description_width": ""
          }
        },
        "3c6cb3a89632466db0bca5289e1b62af": {
          "model_module": "@jupyter-widgets/base",
          "model_name": "LayoutModel",
          "model_module_version": "1.2.0",
          "state": {
            "_model_module": "@jupyter-widgets/base",
            "_model_module_version": "1.2.0",
            "_model_name": "LayoutModel",
            "_view_count": null,
            "_view_module": "@jupyter-widgets/base",
            "_view_module_version": "1.2.0",
            "_view_name": "LayoutView",
            "align_content": null,
            "align_items": null,
            "align_self": null,
            "border": null,
            "bottom": null,
            "display": null,
            "flex": null,
            "flex_flow": null,
            "grid_area": null,
            "grid_auto_columns": null,
            "grid_auto_flow": null,
            "grid_auto_rows": null,
            "grid_column": null,
            "grid_gap": null,
            "grid_row": null,
            "grid_template_areas": null,
            "grid_template_columns": null,
            "grid_template_rows": null,
            "height": null,
            "justify_content": null,
            "justify_items": null,
            "left": null,
            "margin": null,
            "max_height": null,
            "max_width": null,
            "min_height": null,
            "min_width": null,
            "object_fit": null,
            "object_position": null,
            "order": null,
            "overflow": null,
            "overflow_x": null,
            "overflow_y": null,
            "padding": null,
            "right": null,
            "top": null,
            "visibility": null,
            "width": null
          }
        },
        "5c16104eb93444b3ba03f9d2c64260b3": {
          "model_module": "@jupyter-widgets/controls",
          "model_name": "DescriptionStyleModel",
          "model_module_version": "1.5.0",
          "state": {
            "_model_module": "@jupyter-widgets/controls",
            "_model_module_version": "1.5.0",
            "_model_name": "DescriptionStyleModel",
            "_view_count": null,
            "_view_module": "@jupyter-widgets/base",
            "_view_module_version": "1.2.0",
            "_view_name": "StyleView",
            "description_width": ""
          }
        },
        "44a018b6402b4fc2805c3dd574fcf758": {
          "model_module": "@jupyter-widgets/controls",
          "model_name": "HBoxModel",
          "model_module_version": "1.5.0",
          "state": {
            "_dom_classes": [],
            "_model_module": "@jupyter-widgets/controls",
            "_model_module_version": "1.5.0",
            "_model_name": "HBoxModel",
            "_view_count": null,
            "_view_module": "@jupyter-widgets/controls",
            "_view_module_version": "1.5.0",
            "_view_name": "HBoxView",
            "box_style": "",
            "children": [
              "IPY_MODEL_b79a8fa170dc44a7b597f5d0c30083be",
              "IPY_MODEL_2ab7361f5e6e474fbf5fc9b67235c3b1",
              "IPY_MODEL_1564fd9bbe404fd3a1ae02a932773ba3"
            ],
            "layout": "IPY_MODEL_e8b33e6520f7435491b0949baba0ccde"
          }
        },
        "b79a8fa170dc44a7b597f5d0c30083be": {
          "model_module": "@jupyter-widgets/controls",
          "model_name": "HTMLModel",
          "model_module_version": "1.5.0",
          "state": {
            "_dom_classes": [],
            "_model_module": "@jupyter-widgets/controls",
            "_model_module_version": "1.5.0",
            "_model_name": "HTMLModel",
            "_view_count": null,
            "_view_module": "@jupyter-widgets/controls",
            "_view_module_version": "1.5.0",
            "_view_name": "HTMLView",
            "description": "",
            "description_tooltip": null,
            "layout": "IPY_MODEL_c616667f9f364c8097f27f9dc908ff13",
            "placeholder": "​",
            "style": "IPY_MODEL_c3d598f7867441608e4f1b9088a59c1b",
            "value": "special_tokens_map.json: 100%"
          }
        },
        "2ab7361f5e6e474fbf5fc9b67235c3b1": {
          "model_module": "@jupyter-widgets/controls",
          "model_name": "FloatProgressModel",
          "model_module_version": "1.5.0",
          "state": {
            "_dom_classes": [],
            "_model_module": "@jupyter-widgets/controls",
            "_model_module_version": "1.5.0",
            "_model_name": "FloatProgressModel",
            "_view_count": null,
            "_view_module": "@jupyter-widgets/controls",
            "_view_module_version": "1.5.0",
            "_view_name": "ProgressView",
            "bar_style": "success",
            "description": "",
            "description_tooltip": null,
            "layout": "IPY_MODEL_b5f613577c764793b0a333f31d1ed05b",
            "max": 112,
            "min": 0,
            "orientation": "horizontal",
            "style": "IPY_MODEL_6cb1b6d5d7cf4588aeca1d513af6a1c6",
            "value": 112
          }
        },
        "1564fd9bbe404fd3a1ae02a932773ba3": {
          "model_module": "@jupyter-widgets/controls",
          "model_name": "HTMLModel",
          "model_module_version": "1.5.0",
          "state": {
            "_dom_classes": [],
            "_model_module": "@jupyter-widgets/controls",
            "_model_module_version": "1.5.0",
            "_model_name": "HTMLModel",
            "_view_count": null,
            "_view_module": "@jupyter-widgets/controls",
            "_view_module_version": "1.5.0",
            "_view_name": "HTMLView",
            "description": "",
            "description_tooltip": null,
            "layout": "IPY_MODEL_d7adf95723a74f6c843121318708359f",
            "placeholder": "​",
            "style": "IPY_MODEL_d02efd6db12c4c5090a1fa710334845f",
            "value": " 112/112 [00:00&lt;00:00, 7.42kB/s]"
          }
        },
        "e8b33e6520f7435491b0949baba0ccde": {
          "model_module": "@jupyter-widgets/base",
          "model_name": "LayoutModel",
          "model_module_version": "1.2.0",
          "state": {
            "_model_module": "@jupyter-widgets/base",
            "_model_module_version": "1.2.0",
            "_model_name": "LayoutModel",
            "_view_count": null,
            "_view_module": "@jupyter-widgets/base",
            "_view_module_version": "1.2.0",
            "_view_name": "LayoutView",
            "align_content": null,
            "align_items": null,
            "align_self": null,
            "border": null,
            "bottom": null,
            "display": null,
            "flex": null,
            "flex_flow": null,
            "grid_area": null,
            "grid_auto_columns": null,
            "grid_auto_flow": null,
            "grid_auto_rows": null,
            "grid_column": null,
            "grid_gap": null,
            "grid_row": null,
            "grid_template_areas": null,
            "grid_template_columns": null,
            "grid_template_rows": null,
            "height": null,
            "justify_content": null,
            "justify_items": null,
            "left": null,
            "margin": null,
            "max_height": null,
            "max_width": null,
            "min_height": null,
            "min_width": null,
            "object_fit": null,
            "object_position": null,
            "order": null,
            "overflow": null,
            "overflow_x": null,
            "overflow_y": null,
            "padding": null,
            "right": null,
            "top": null,
            "visibility": null,
            "width": null
          }
        },
        "c616667f9f364c8097f27f9dc908ff13": {
          "model_module": "@jupyter-widgets/base",
          "model_name": "LayoutModel",
          "model_module_version": "1.2.0",
          "state": {
            "_model_module": "@jupyter-widgets/base",
            "_model_module_version": "1.2.0",
            "_model_name": "LayoutModel",
            "_view_count": null,
            "_view_module": "@jupyter-widgets/base",
            "_view_module_version": "1.2.0",
            "_view_name": "LayoutView",
            "align_content": null,
            "align_items": null,
            "align_self": null,
            "border": null,
            "bottom": null,
            "display": null,
            "flex": null,
            "flex_flow": null,
            "grid_area": null,
            "grid_auto_columns": null,
            "grid_auto_flow": null,
            "grid_auto_rows": null,
            "grid_column": null,
            "grid_gap": null,
            "grid_row": null,
            "grid_template_areas": null,
            "grid_template_columns": null,
            "grid_template_rows": null,
            "height": null,
            "justify_content": null,
            "justify_items": null,
            "left": null,
            "margin": null,
            "max_height": null,
            "max_width": null,
            "min_height": null,
            "min_width": null,
            "object_fit": null,
            "object_position": null,
            "order": null,
            "overflow": null,
            "overflow_x": null,
            "overflow_y": null,
            "padding": null,
            "right": null,
            "top": null,
            "visibility": null,
            "width": null
          }
        },
        "c3d598f7867441608e4f1b9088a59c1b": {
          "model_module": "@jupyter-widgets/controls",
          "model_name": "DescriptionStyleModel",
          "model_module_version": "1.5.0",
          "state": {
            "_model_module": "@jupyter-widgets/controls",
            "_model_module_version": "1.5.0",
            "_model_name": "DescriptionStyleModel",
            "_view_count": null,
            "_view_module": "@jupyter-widgets/base",
            "_view_module_version": "1.2.0",
            "_view_name": "StyleView",
            "description_width": ""
          }
        },
        "b5f613577c764793b0a333f31d1ed05b": {
          "model_module": "@jupyter-widgets/base",
          "model_name": "LayoutModel",
          "model_module_version": "1.2.0",
          "state": {
            "_model_module": "@jupyter-widgets/base",
            "_model_module_version": "1.2.0",
            "_model_name": "LayoutModel",
            "_view_count": null,
            "_view_module": "@jupyter-widgets/base",
            "_view_module_version": "1.2.0",
            "_view_name": "LayoutView",
            "align_content": null,
            "align_items": null,
            "align_self": null,
            "border": null,
            "bottom": null,
            "display": null,
            "flex": null,
            "flex_flow": null,
            "grid_area": null,
            "grid_auto_columns": null,
            "grid_auto_flow": null,
            "grid_auto_rows": null,
            "grid_column": null,
            "grid_gap": null,
            "grid_row": null,
            "grid_template_areas": null,
            "grid_template_columns": null,
            "grid_template_rows": null,
            "height": null,
            "justify_content": null,
            "justify_items": null,
            "left": null,
            "margin": null,
            "max_height": null,
            "max_width": null,
            "min_height": null,
            "min_width": null,
            "object_fit": null,
            "object_position": null,
            "order": null,
            "overflow": null,
            "overflow_x": null,
            "overflow_y": null,
            "padding": null,
            "right": null,
            "top": null,
            "visibility": null,
            "width": null
          }
        },
        "6cb1b6d5d7cf4588aeca1d513af6a1c6": {
          "model_module": "@jupyter-widgets/controls",
          "model_name": "ProgressStyleModel",
          "model_module_version": "1.5.0",
          "state": {
            "_model_module": "@jupyter-widgets/controls",
            "_model_module_version": "1.5.0",
            "_model_name": "ProgressStyleModel",
            "_view_count": null,
            "_view_module": "@jupyter-widgets/base",
            "_view_module_version": "1.2.0",
            "_view_name": "StyleView",
            "bar_color": null,
            "description_width": ""
          }
        },
        "d7adf95723a74f6c843121318708359f": {
          "model_module": "@jupyter-widgets/base",
          "model_name": "LayoutModel",
          "model_module_version": "1.2.0",
          "state": {
            "_model_module": "@jupyter-widgets/base",
            "_model_module_version": "1.2.0",
            "_model_name": "LayoutModel",
            "_view_count": null,
            "_view_module": "@jupyter-widgets/base",
            "_view_module_version": "1.2.0",
            "_view_name": "LayoutView",
            "align_content": null,
            "align_items": null,
            "align_self": null,
            "border": null,
            "bottom": null,
            "display": null,
            "flex": null,
            "flex_flow": null,
            "grid_area": null,
            "grid_auto_columns": null,
            "grid_auto_flow": null,
            "grid_auto_rows": null,
            "grid_column": null,
            "grid_gap": null,
            "grid_row": null,
            "grid_template_areas": null,
            "grid_template_columns": null,
            "grid_template_rows": null,
            "height": null,
            "justify_content": null,
            "justify_items": null,
            "left": null,
            "margin": null,
            "max_height": null,
            "max_width": null,
            "min_height": null,
            "min_width": null,
            "object_fit": null,
            "object_position": null,
            "order": null,
            "overflow": null,
            "overflow_x": null,
            "overflow_y": null,
            "padding": null,
            "right": null,
            "top": null,
            "visibility": null,
            "width": null
          }
        },
        "d02efd6db12c4c5090a1fa710334845f": {
          "model_module": "@jupyter-widgets/controls",
          "model_name": "DescriptionStyleModel",
          "model_module_version": "1.5.0",
          "state": {
            "_model_module": "@jupyter-widgets/controls",
            "_model_module_version": "1.5.0",
            "_model_name": "DescriptionStyleModel",
            "_view_count": null,
            "_view_module": "@jupyter-widgets/base",
            "_view_module_version": "1.2.0",
            "_view_name": "StyleView",
            "description_width": ""
          }
        },
        "42b02e937a4e4c29b751dd0c96d8ee46": {
          "model_module": "@jupyter-widgets/controls",
          "model_name": "HBoxModel",
          "model_module_version": "1.5.0",
          "state": {
            "_dom_classes": [],
            "_model_module": "@jupyter-widgets/controls",
            "_model_module_version": "1.5.0",
            "_model_name": "HBoxModel",
            "_view_count": null,
            "_view_module": "@jupyter-widgets/controls",
            "_view_module_version": "1.5.0",
            "_view_name": "HBoxView",
            "box_style": "",
            "children": [
              "IPY_MODEL_a025df0ba6424edfb415761a146d2bb5",
              "IPY_MODEL_ffd05236a77c48c99af1debf19752b40",
              "IPY_MODEL_7b8a7d2eac144c80b9e4b2de36a1f5d3"
            ],
            "layout": "IPY_MODEL_790ef0ce2b7947649b2e91651469b2c1"
          }
        },
        "a025df0ba6424edfb415761a146d2bb5": {
          "model_module": "@jupyter-widgets/controls",
          "model_name": "HTMLModel",
          "model_module_version": "1.5.0",
          "state": {
            "_dom_classes": [],
            "_model_module": "@jupyter-widgets/controls",
            "_model_module_version": "1.5.0",
            "_model_name": "HTMLModel",
            "_view_count": null,
            "_view_module": "@jupyter-widgets/controls",
            "_view_module_version": "1.5.0",
            "_view_name": "HTMLView",
            "description": "",
            "description_tooltip": null,
            "layout": "IPY_MODEL_a2f25fc2f7844b9aacb1a7b8b5c29375",
            "placeholder": "​",
            "style": "IPY_MODEL_b4ea81ebd3ec47bbb9e4629747f9e7de",
            "value": "pytorch_model.bin: 100%"
          }
        },
        "ffd05236a77c48c99af1debf19752b40": {
          "model_module": "@jupyter-widgets/controls",
          "model_name": "FloatProgressModel",
          "model_module_version": "1.5.0",
          "state": {
            "_dom_classes": [],
            "_model_module": "@jupyter-widgets/controls",
            "_model_module_version": "1.5.0",
            "_model_name": "FloatProgressModel",
            "_view_count": null,
            "_view_module": "@jupyter-widgets/controls",
            "_view_module_version": "1.5.0",
            "_view_name": "ProgressView",
            "bar_style": "success",
            "description": "",
            "description_tooltip": null,
            "layout": "IPY_MODEL_a29188d74310416f838eb78a2c61e1a3",
            "max": 444780374,
            "min": 0,
            "orientation": "horizontal",
            "style": "IPY_MODEL_d09073da89fb402fbee352306c5ce8de",
            "value": 444780374
          }
        },
        "7b8a7d2eac144c80b9e4b2de36a1f5d3": {
          "model_module": "@jupyter-widgets/controls",
          "model_name": "HTMLModel",
          "model_module_version": "1.5.0",
          "state": {
            "_dom_classes": [],
            "_model_module": "@jupyter-widgets/controls",
            "_model_module_version": "1.5.0",
            "_model_name": "HTMLModel",
            "_view_count": null,
            "_view_module": "@jupyter-widgets/controls",
            "_view_module_version": "1.5.0",
            "_view_name": "HTMLView",
            "description": "",
            "description_tooltip": null,
            "layout": "IPY_MODEL_56024969c5234d3e9d9823496088d62a",
            "placeholder": "​",
            "style": "IPY_MODEL_7163b36c72d04b96abd7815e26c428d5",
            "value": " 445M/445M [00:06&lt;00:00, 52.7MB/s]"
          }
        },
        "790ef0ce2b7947649b2e91651469b2c1": {
          "model_module": "@jupyter-widgets/base",
          "model_name": "LayoutModel",
          "model_module_version": "1.2.0",
          "state": {
            "_model_module": "@jupyter-widgets/base",
            "_model_module_version": "1.2.0",
            "_model_name": "LayoutModel",
            "_view_count": null,
            "_view_module": "@jupyter-widgets/base",
            "_view_module_version": "1.2.0",
            "_view_name": "LayoutView",
            "align_content": null,
            "align_items": null,
            "align_self": null,
            "border": null,
            "bottom": null,
            "display": null,
            "flex": null,
            "flex_flow": null,
            "grid_area": null,
            "grid_auto_columns": null,
            "grid_auto_flow": null,
            "grid_auto_rows": null,
            "grid_column": null,
            "grid_gap": null,
            "grid_row": null,
            "grid_template_areas": null,
            "grid_template_columns": null,
            "grid_template_rows": null,
            "height": null,
            "justify_content": null,
            "justify_items": null,
            "left": null,
            "margin": null,
            "max_height": null,
            "max_width": null,
            "min_height": null,
            "min_width": null,
            "object_fit": null,
            "object_position": null,
            "order": null,
            "overflow": null,
            "overflow_x": null,
            "overflow_y": null,
            "padding": null,
            "right": null,
            "top": null,
            "visibility": null,
            "width": null
          }
        },
        "a2f25fc2f7844b9aacb1a7b8b5c29375": {
          "model_module": "@jupyter-widgets/base",
          "model_name": "LayoutModel",
          "model_module_version": "1.2.0",
          "state": {
            "_model_module": "@jupyter-widgets/base",
            "_model_module_version": "1.2.0",
            "_model_name": "LayoutModel",
            "_view_count": null,
            "_view_module": "@jupyter-widgets/base",
            "_view_module_version": "1.2.0",
            "_view_name": "LayoutView",
            "align_content": null,
            "align_items": null,
            "align_self": null,
            "border": null,
            "bottom": null,
            "display": null,
            "flex": null,
            "flex_flow": null,
            "grid_area": null,
            "grid_auto_columns": null,
            "grid_auto_flow": null,
            "grid_auto_rows": null,
            "grid_column": null,
            "grid_gap": null,
            "grid_row": null,
            "grid_template_areas": null,
            "grid_template_columns": null,
            "grid_template_rows": null,
            "height": null,
            "justify_content": null,
            "justify_items": null,
            "left": null,
            "margin": null,
            "max_height": null,
            "max_width": null,
            "min_height": null,
            "min_width": null,
            "object_fit": null,
            "object_position": null,
            "order": null,
            "overflow": null,
            "overflow_x": null,
            "overflow_y": null,
            "padding": null,
            "right": null,
            "top": null,
            "visibility": null,
            "width": null
          }
        },
        "b4ea81ebd3ec47bbb9e4629747f9e7de": {
          "model_module": "@jupyter-widgets/controls",
          "model_name": "DescriptionStyleModel",
          "model_module_version": "1.5.0",
          "state": {
            "_model_module": "@jupyter-widgets/controls",
            "_model_module_version": "1.5.0",
            "_model_name": "DescriptionStyleModel",
            "_view_count": null,
            "_view_module": "@jupyter-widgets/base",
            "_view_module_version": "1.2.0",
            "_view_name": "StyleView",
            "description_width": ""
          }
        },
        "a29188d74310416f838eb78a2c61e1a3": {
          "model_module": "@jupyter-widgets/base",
          "model_name": "LayoutModel",
          "model_module_version": "1.2.0",
          "state": {
            "_model_module": "@jupyter-widgets/base",
            "_model_module_version": "1.2.0",
            "_model_name": "LayoutModel",
            "_view_count": null,
            "_view_module": "@jupyter-widgets/base",
            "_view_module_version": "1.2.0",
            "_view_name": "LayoutView",
            "align_content": null,
            "align_items": null,
            "align_self": null,
            "border": null,
            "bottom": null,
            "display": null,
            "flex": null,
            "flex_flow": null,
            "grid_area": null,
            "grid_auto_columns": null,
            "grid_auto_flow": null,
            "grid_auto_rows": null,
            "grid_column": null,
            "grid_gap": null,
            "grid_row": null,
            "grid_template_areas": null,
            "grid_template_columns": null,
            "grid_template_rows": null,
            "height": null,
            "justify_content": null,
            "justify_items": null,
            "left": null,
            "margin": null,
            "max_height": null,
            "max_width": null,
            "min_height": null,
            "min_width": null,
            "object_fit": null,
            "object_position": null,
            "order": null,
            "overflow": null,
            "overflow_x": null,
            "overflow_y": null,
            "padding": null,
            "right": null,
            "top": null,
            "visibility": null,
            "width": null
          }
        },
        "d09073da89fb402fbee352306c5ce8de": {
          "model_module": "@jupyter-widgets/controls",
          "model_name": "ProgressStyleModel",
          "model_module_version": "1.5.0",
          "state": {
            "_model_module": "@jupyter-widgets/controls",
            "_model_module_version": "1.5.0",
            "_model_name": "ProgressStyleModel",
            "_view_count": null,
            "_view_module": "@jupyter-widgets/base",
            "_view_module_version": "1.2.0",
            "_view_name": "StyleView",
            "bar_color": null,
            "description_width": ""
          }
        },
        "56024969c5234d3e9d9823496088d62a": {
          "model_module": "@jupyter-widgets/base",
          "model_name": "LayoutModel",
          "model_module_version": "1.2.0",
          "state": {
            "_model_module": "@jupyter-widgets/base",
            "_model_module_version": "1.2.0",
            "_model_name": "LayoutModel",
            "_view_count": null,
            "_view_module": "@jupyter-widgets/base",
            "_view_module_version": "1.2.0",
            "_view_name": "LayoutView",
            "align_content": null,
            "align_items": null,
            "align_self": null,
            "border": null,
            "bottom": null,
            "display": null,
            "flex": null,
            "flex_flow": null,
            "grid_area": null,
            "grid_auto_columns": null,
            "grid_auto_flow": null,
            "grid_auto_rows": null,
            "grid_column": null,
            "grid_gap": null,
            "grid_row": null,
            "grid_template_areas": null,
            "grid_template_columns": null,
            "grid_template_rows": null,
            "height": null,
            "justify_content": null,
            "justify_items": null,
            "left": null,
            "margin": null,
            "max_height": null,
            "max_width": null,
            "min_height": null,
            "min_width": null,
            "object_fit": null,
            "object_position": null,
            "order": null,
            "overflow": null,
            "overflow_x": null,
            "overflow_y": null,
            "padding": null,
            "right": null,
            "top": null,
            "visibility": null,
            "width": null
          }
        },
        "7163b36c72d04b96abd7815e26c428d5": {
          "model_module": "@jupyter-widgets/controls",
          "model_name": "DescriptionStyleModel",
          "model_module_version": "1.5.0",
          "state": {
            "_model_module": "@jupyter-widgets/controls",
            "_model_module_version": "1.5.0",
            "_model_name": "DescriptionStyleModel",
            "_view_count": null,
            "_view_module": "@jupyter-widgets/base",
            "_view_module_version": "1.2.0",
            "_view_name": "StyleView",
            "description_width": ""
          }
        },
        "6e69439d999f49928d2327bc3db96dfc": {
          "model_module": "@jupyter-widgets/controls",
          "model_name": "HBoxModel",
          "model_module_version": "1.5.0",
          "state": {
            "_dom_classes": [],
            "_model_module": "@jupyter-widgets/controls",
            "_model_module_version": "1.5.0",
            "_model_name": "HBoxModel",
            "_view_count": null,
            "_view_module": "@jupyter-widgets/controls",
            "_view_module_version": "1.5.0",
            "_view_name": "HBoxView",
            "box_style": "",
            "children": [
              "IPY_MODEL_608b8d76a9344aa48254528fcb703012",
              "IPY_MODEL_6aa8224daf324f959c664a61c33223d4",
              "IPY_MODEL_496f2875fa044a16ab069cd7f29a1e44"
            ],
            "layout": "IPY_MODEL_da868d92410543ff85f4ce03018b8eb9"
          }
        },
        "608b8d76a9344aa48254528fcb703012": {
          "model_module": "@jupyter-widgets/controls",
          "model_name": "HTMLModel",
          "model_module_version": "1.5.0",
          "state": {
            "_dom_classes": [],
            "_model_module": "@jupyter-widgets/controls",
            "_model_module_version": "1.5.0",
            "_model_name": "HTMLModel",
            "_view_count": null,
            "_view_module": "@jupyter-widgets/controls",
            "_view_module_version": "1.5.0",
            "_view_name": "HTMLView",
            "description": "",
            "description_tooltip": null,
            "layout": "IPY_MODEL_a51500fc39534ee9adc9f5d4eec46812",
            "placeholder": "​",
            "style": "IPY_MODEL_51f3d3d251b44dfb9c39ceb7cc24c572",
            "value": "model.safetensors: 100%"
          }
        },
        "6aa8224daf324f959c664a61c33223d4": {
          "model_module": "@jupyter-widgets/controls",
          "model_name": "FloatProgressModel",
          "model_module_version": "1.5.0",
          "state": {
            "_dom_classes": [],
            "_model_module": "@jupyter-widgets/controls",
            "_model_module_version": "1.5.0",
            "_model_name": "FloatProgressModel",
            "_view_count": null,
            "_view_module": "@jupyter-widgets/controls",
            "_view_module_version": "1.5.0",
            "_view_name": "ProgressView",
            "bar_style": "success",
            "description": "",
            "description_tooltip": null,
            "layout": "IPY_MODEL_3ae1fd099de34eb697138a8fc3cebaac",
            "max": 444752936,
            "min": 0,
            "orientation": "horizontal",
            "style": "IPY_MODEL_af43ca329ad14df09c6cd5f108a16b00",
            "value": 444752936
          }
        },
        "496f2875fa044a16ab069cd7f29a1e44": {
          "model_module": "@jupyter-widgets/controls",
          "model_name": "HTMLModel",
          "model_module_version": "1.5.0",
          "state": {
            "_dom_classes": [],
            "_model_module": "@jupyter-widgets/controls",
            "_model_module_version": "1.5.0",
            "_model_name": "HTMLModel",
            "_view_count": null,
            "_view_module": "@jupyter-widgets/controls",
            "_view_module_version": "1.5.0",
            "_view_name": "HTMLView",
            "description": "",
            "description_tooltip": null,
            "layout": "IPY_MODEL_82f4dd5727604ef7a80199f2162bd0ff",
            "placeholder": "​",
            "style": "IPY_MODEL_dc9790d6c5a3498db2e23f09de39e281",
            "value": " 445M/445M [00:03&lt;00:00, 144MB/s]"
          }
        },
        "da868d92410543ff85f4ce03018b8eb9": {
          "model_module": "@jupyter-widgets/base",
          "model_name": "LayoutModel",
          "model_module_version": "1.2.0",
          "state": {
            "_model_module": "@jupyter-widgets/base",
            "_model_module_version": "1.2.0",
            "_model_name": "LayoutModel",
            "_view_count": null,
            "_view_module": "@jupyter-widgets/base",
            "_view_module_version": "1.2.0",
            "_view_name": "LayoutView",
            "align_content": null,
            "align_items": null,
            "align_self": null,
            "border": null,
            "bottom": null,
            "display": null,
            "flex": null,
            "flex_flow": null,
            "grid_area": null,
            "grid_auto_columns": null,
            "grid_auto_flow": null,
            "grid_auto_rows": null,
            "grid_column": null,
            "grid_gap": null,
            "grid_row": null,
            "grid_template_areas": null,
            "grid_template_columns": null,
            "grid_template_rows": null,
            "height": null,
            "justify_content": null,
            "justify_items": null,
            "left": null,
            "margin": null,
            "max_height": null,
            "max_width": null,
            "min_height": null,
            "min_width": null,
            "object_fit": null,
            "object_position": null,
            "order": null,
            "overflow": null,
            "overflow_x": null,
            "overflow_y": null,
            "padding": null,
            "right": null,
            "top": null,
            "visibility": null,
            "width": null
          }
        },
        "a51500fc39534ee9adc9f5d4eec46812": {
          "model_module": "@jupyter-widgets/base",
          "model_name": "LayoutModel",
          "model_module_version": "1.2.0",
          "state": {
            "_model_module": "@jupyter-widgets/base",
            "_model_module_version": "1.2.0",
            "_model_name": "LayoutModel",
            "_view_count": null,
            "_view_module": "@jupyter-widgets/base",
            "_view_module_version": "1.2.0",
            "_view_name": "LayoutView",
            "align_content": null,
            "align_items": null,
            "align_self": null,
            "border": null,
            "bottom": null,
            "display": null,
            "flex": null,
            "flex_flow": null,
            "grid_area": null,
            "grid_auto_columns": null,
            "grid_auto_flow": null,
            "grid_auto_rows": null,
            "grid_column": null,
            "grid_gap": null,
            "grid_row": null,
            "grid_template_areas": null,
            "grid_template_columns": null,
            "grid_template_rows": null,
            "height": null,
            "justify_content": null,
            "justify_items": null,
            "left": null,
            "margin": null,
            "max_height": null,
            "max_width": null,
            "min_height": null,
            "min_width": null,
            "object_fit": null,
            "object_position": null,
            "order": null,
            "overflow": null,
            "overflow_x": null,
            "overflow_y": null,
            "padding": null,
            "right": null,
            "top": null,
            "visibility": null,
            "width": null
          }
        },
        "51f3d3d251b44dfb9c39ceb7cc24c572": {
          "model_module": "@jupyter-widgets/controls",
          "model_name": "DescriptionStyleModel",
          "model_module_version": "1.5.0",
          "state": {
            "_model_module": "@jupyter-widgets/controls",
            "_model_module_version": "1.5.0",
            "_model_name": "DescriptionStyleModel",
            "_view_count": null,
            "_view_module": "@jupyter-widgets/base",
            "_view_module_version": "1.2.0",
            "_view_name": "StyleView",
            "description_width": ""
          }
        },
        "3ae1fd099de34eb697138a8fc3cebaac": {
          "model_module": "@jupyter-widgets/base",
          "model_name": "LayoutModel",
          "model_module_version": "1.2.0",
          "state": {
            "_model_module": "@jupyter-widgets/base",
            "_model_module_version": "1.2.0",
            "_model_name": "LayoutModel",
            "_view_count": null,
            "_view_module": "@jupyter-widgets/base",
            "_view_module_version": "1.2.0",
            "_view_name": "LayoutView",
            "align_content": null,
            "align_items": null,
            "align_self": null,
            "border": null,
            "bottom": null,
            "display": null,
            "flex": null,
            "flex_flow": null,
            "grid_area": null,
            "grid_auto_columns": null,
            "grid_auto_flow": null,
            "grid_auto_rows": null,
            "grid_column": null,
            "grid_gap": null,
            "grid_row": null,
            "grid_template_areas": null,
            "grid_template_columns": null,
            "grid_template_rows": null,
            "height": null,
            "justify_content": null,
            "justify_items": null,
            "left": null,
            "margin": null,
            "max_height": null,
            "max_width": null,
            "min_height": null,
            "min_width": null,
            "object_fit": null,
            "object_position": null,
            "order": null,
            "overflow": null,
            "overflow_x": null,
            "overflow_y": null,
            "padding": null,
            "right": null,
            "top": null,
            "visibility": null,
            "width": null
          }
        },
        "af43ca329ad14df09c6cd5f108a16b00": {
          "model_module": "@jupyter-widgets/controls",
          "model_name": "ProgressStyleModel",
          "model_module_version": "1.5.0",
          "state": {
            "_model_module": "@jupyter-widgets/controls",
            "_model_module_version": "1.5.0",
            "_model_name": "ProgressStyleModel",
            "_view_count": null,
            "_view_module": "@jupyter-widgets/base",
            "_view_module_version": "1.2.0",
            "_view_name": "StyleView",
            "bar_color": null,
            "description_width": ""
          }
        },
        "82f4dd5727604ef7a80199f2162bd0ff": {
          "model_module": "@jupyter-widgets/base",
          "model_name": "LayoutModel",
          "model_module_version": "1.2.0",
          "state": {
            "_model_module": "@jupyter-widgets/base",
            "_model_module_version": "1.2.0",
            "_model_name": "LayoutModel",
            "_view_count": null,
            "_view_module": "@jupyter-widgets/base",
            "_view_module_version": "1.2.0",
            "_view_name": "LayoutView",
            "align_content": null,
            "align_items": null,
            "align_self": null,
            "border": null,
            "bottom": null,
            "display": null,
            "flex": null,
            "flex_flow": null,
            "grid_area": null,
            "grid_auto_columns": null,
            "grid_auto_flow": null,
            "grid_auto_rows": null,
            "grid_column": null,
            "grid_gap": null,
            "grid_row": null,
            "grid_template_areas": null,
            "grid_template_columns": null,
            "grid_template_rows": null,
            "height": null,
            "justify_content": null,
            "justify_items": null,
            "left": null,
            "margin": null,
            "max_height": null,
            "max_width": null,
            "min_height": null,
            "min_width": null,
            "object_fit": null,
            "object_position": null,
            "order": null,
            "overflow": null,
            "overflow_x": null,
            "overflow_y": null,
            "padding": null,
            "right": null,
            "top": null,
            "visibility": null,
            "width": null
          }
        },
        "dc9790d6c5a3498db2e23f09de39e281": {
          "model_module": "@jupyter-widgets/controls",
          "model_name": "DescriptionStyleModel",
          "model_module_version": "1.5.0",
          "state": {
            "_model_module": "@jupyter-widgets/controls",
            "_model_module_version": "1.5.0",
            "_model_name": "DescriptionStyleModel",
            "_view_count": null,
            "_view_module": "@jupyter-widgets/base",
            "_view_module_version": "1.2.0",
            "_view_name": "StyleView",
            "description_width": ""
          }
        }
      }
    }
  },
  "cells": [
    {
      "cell_type": "code",
      "execution_count": null,
      "metadata": {
        "colab": {
          "base_uri": "https://localhost:8080/"
        },
        "id": "FbOI2N_uFjc_",
        "outputId": "cc3e2c9f-0245-4908-f812-7b5e5c5be5e1"
      },
      "outputs": [
        {
          "output_type": "stream",
          "name": "stdout",
          "text": [
            "--> Uninstalling existing versions...\n",
            "Found existing installation: transformers 4.55.1\n",
            "Uninstalling transformers-4.55.1:\n",
            "  Successfully uninstalled transformers-4.55.1\n",
            "Found existing installation: accelerate 1.10.0\n",
            "Uninstalling accelerate-1.10.0:\n",
            "  Successfully uninstalled accelerate-1.10.0\n",
            "Found existing installation: datasets 4.0.0\n",
            "Uninstalling datasets-4.0.0:\n",
            "  Successfully uninstalled datasets-4.0.0\n",
            "\n",
            "--> Reinstalling core libraries...\n",
            "Collecting transformers\n",
            "  Downloading transformers-4.55.2-py3-none-any.whl.metadata (41 kB)\n",
            "\u001b[2K     \u001b[90m━━━━━━━━━━━━━━━━━━━━━━━━━━━━━━━━━━━━━━━━\u001b[0m \u001b[32m42.0/42.0 kB\u001b[0m \u001b[31m1.7 MB/s\u001b[0m eta \u001b[36m0:00:00\u001b[0m\n",
            "\u001b[?25hCollecting accelerate\n",
            "  Downloading accelerate-1.10.0-py3-none-any.whl.metadata (19 kB)\n",
            "Collecting datasets\n",
            "  Downloading datasets-4.0.0-py3-none-any.whl.metadata (19 kB)\n",
            "Requirement already satisfied: filelock in /usr/local/lib/python3.11/dist-packages (from transformers) (3.18.0)\n",
            "Requirement already satisfied: huggingface-hub<1.0,>=0.34.0 in /usr/local/lib/python3.11/dist-packages (from transformers) (0.34.4)\n",
            "Requirement already satisfied: numpy>=1.17 in /usr/local/lib/python3.11/dist-packages (from transformers) (2.0.2)\n",
            "Requirement already satisfied: packaging>=20.0 in /usr/local/lib/python3.11/dist-packages (from transformers) (25.0)\n",
            "Requirement already satisfied: pyyaml>=5.1 in /usr/local/lib/python3.11/dist-packages (from transformers) (6.0.2)\n",
            "Requirement already satisfied: regex!=2019.12.17 in /usr/local/lib/python3.11/dist-packages (from transformers) (2024.11.6)\n",
            "Requirement already satisfied: requests in /usr/local/lib/python3.11/dist-packages (from transformers) (2.32.3)\n",
            "Requirement already satisfied: tokenizers<0.22,>=0.21 in /usr/local/lib/python3.11/dist-packages (from transformers) (0.21.4)\n",
            "Requirement already satisfied: safetensors>=0.4.3 in /usr/local/lib/python3.11/dist-packages (from transformers) (0.6.2)\n",
            "Requirement already satisfied: tqdm>=4.27 in /usr/local/lib/python3.11/dist-packages (from transformers) (4.67.1)\n",
            "Requirement already satisfied: psutil in /usr/local/lib/python3.11/dist-packages (from accelerate) (5.9.5)\n",
            "Requirement already satisfied: torch>=2.0.0 in /usr/local/lib/python3.11/dist-packages (from accelerate) (2.6.0+cu124)\n",
            "Requirement already satisfied: pyarrow>=15.0.0 in /usr/local/lib/python3.11/dist-packages (from datasets) (18.1.0)\n",
            "Requirement already satisfied: dill<0.3.9,>=0.3.0 in /usr/local/lib/python3.11/dist-packages (from datasets) (0.3.8)\n",
            "Requirement already satisfied: pandas in /usr/local/lib/python3.11/dist-packages (from datasets) (2.2.2)\n",
            "Requirement already satisfied: xxhash in /usr/local/lib/python3.11/dist-packages (from datasets) (3.5.0)\n",
            "Requirement already satisfied: multiprocess<0.70.17 in /usr/local/lib/python3.11/dist-packages (from datasets) (0.70.16)\n",
            "Requirement already satisfied: fsspec<=2025.3.0,>=2023.1.0 in /usr/local/lib/python3.11/dist-packages (from fsspec[http]<=2025.3.0,>=2023.1.0->datasets) (2025.3.0)\n",
            "Requirement already satisfied: aiohttp!=4.0.0a0,!=4.0.0a1 in /usr/local/lib/python3.11/dist-packages (from fsspec[http]<=2025.3.0,>=2023.1.0->datasets) (3.12.15)\n",
            "Requirement already satisfied: typing-extensions>=3.7.4.3 in /usr/local/lib/python3.11/dist-packages (from huggingface-hub<1.0,>=0.34.0->transformers) (4.14.1)\n",
            "Requirement already satisfied: hf-xet<2.0.0,>=1.1.3 in /usr/local/lib/python3.11/dist-packages (from huggingface-hub<1.0,>=0.34.0->transformers) (1.1.7)\n",
            "Requirement already satisfied: charset-normalizer<4,>=2 in /usr/local/lib/python3.11/dist-packages (from requests->transformers) (3.4.3)\n",
            "Requirement already satisfied: idna<4,>=2.5 in /usr/local/lib/python3.11/dist-packages (from requests->transformers) (3.10)\n",
            "Requirement already satisfied: urllib3<3,>=1.21.1 in /usr/local/lib/python3.11/dist-packages (from requests->transformers) (2.5.0)\n",
            "Requirement already satisfied: certifi>=2017.4.17 in /usr/local/lib/python3.11/dist-packages (from requests->transformers) (2025.8.3)\n",
            "Requirement already satisfied: networkx in /usr/local/lib/python3.11/dist-packages (from torch>=2.0.0->accelerate) (3.5)\n",
            "Requirement already satisfied: jinja2 in /usr/local/lib/python3.11/dist-packages (from torch>=2.0.0->accelerate) (3.1.6)\n",
            "Collecting nvidia-cuda-nvrtc-cu12==12.4.127 (from torch>=2.0.0->accelerate)\n",
            "  Downloading nvidia_cuda_nvrtc_cu12-12.4.127-py3-none-manylinux2014_x86_64.whl.metadata (1.5 kB)\n",
            "Collecting nvidia-cuda-runtime-cu12==12.4.127 (from torch>=2.0.0->accelerate)\n",
            "  Downloading nvidia_cuda_runtime_cu12-12.4.127-py3-none-manylinux2014_x86_64.whl.metadata (1.5 kB)\n",
            "Collecting nvidia-cuda-cupti-cu12==12.4.127 (from torch>=2.0.0->accelerate)\n",
            "  Downloading nvidia_cuda_cupti_cu12-12.4.127-py3-none-manylinux2014_x86_64.whl.metadata (1.6 kB)\n",
            "Collecting nvidia-cudnn-cu12==9.1.0.70 (from torch>=2.0.0->accelerate)\n",
            "  Downloading nvidia_cudnn_cu12-9.1.0.70-py3-none-manylinux2014_x86_64.whl.metadata (1.6 kB)\n",
            "Collecting nvidia-cublas-cu12==12.4.5.8 (from torch>=2.0.0->accelerate)\n",
            "  Downloading nvidia_cublas_cu12-12.4.5.8-py3-none-manylinux2014_x86_64.whl.metadata (1.5 kB)\n",
            "Collecting nvidia-cufft-cu12==11.2.1.3 (from torch>=2.0.0->accelerate)\n",
            "  Downloading nvidia_cufft_cu12-11.2.1.3-py3-none-manylinux2014_x86_64.whl.metadata (1.5 kB)\n",
            "Collecting nvidia-curand-cu12==10.3.5.147 (from torch>=2.0.0->accelerate)\n",
            "  Downloading nvidia_curand_cu12-10.3.5.147-py3-none-manylinux2014_x86_64.whl.metadata (1.5 kB)\n",
            "Collecting nvidia-cusolver-cu12==11.6.1.9 (from torch>=2.0.0->accelerate)\n",
            "  Downloading nvidia_cusolver_cu12-11.6.1.9-py3-none-manylinux2014_x86_64.whl.metadata (1.6 kB)\n",
            "Collecting nvidia-cusparse-cu12==12.3.1.170 (from torch>=2.0.0->accelerate)\n",
            "  Downloading nvidia_cusparse_cu12-12.3.1.170-py3-none-manylinux2014_x86_64.whl.metadata (1.6 kB)\n",
            "Requirement already satisfied: nvidia-cusparselt-cu12==0.6.2 in /usr/local/lib/python3.11/dist-packages (from torch>=2.0.0->accelerate) (0.6.2)\n",
            "Collecting nvidia-nccl-cu12==2.21.5 (from torch>=2.0.0->accelerate)\n",
            "  Downloading nvidia_nccl_cu12-2.21.5-py3-none-manylinux2014_x86_64.whl.metadata (1.8 kB)\n",
            "Requirement already satisfied: nvidia-nvtx-cu12==12.4.127 in /usr/local/lib/python3.11/dist-packages (from torch>=2.0.0->accelerate) (12.4.127)\n",
            "Collecting nvidia-nvjitlink-cu12==12.4.127 (from torch>=2.0.0->accelerate)\n",
            "  Downloading nvidia_nvjitlink_cu12-12.4.127-py3-none-manylinux2014_x86_64.whl.metadata (1.5 kB)\n",
            "Requirement already satisfied: triton==3.2.0 in /usr/local/lib/python3.11/dist-packages (from torch>=2.0.0->accelerate) (3.2.0)\n",
            "Requirement already satisfied: sympy==1.13.1 in /usr/local/lib/python3.11/dist-packages (from torch>=2.0.0->accelerate) (1.13.1)\n",
            "Requirement already satisfied: mpmath<1.4,>=1.1.0 in /usr/local/lib/python3.11/dist-packages (from sympy==1.13.1->torch>=2.0.0->accelerate) (1.3.0)\n",
            "Requirement already satisfied: python-dateutil>=2.8.2 in /usr/local/lib/python3.11/dist-packages (from pandas->datasets) (2.9.0.post0)\n",
            "Requirement already satisfied: pytz>=2020.1 in /usr/local/lib/python3.11/dist-packages (from pandas->datasets) (2025.2)\n",
            "Requirement already satisfied: tzdata>=2022.7 in /usr/local/lib/python3.11/dist-packages (from pandas->datasets) (2025.2)\n",
            "Requirement already satisfied: aiohappyeyeballs>=2.5.0 in /usr/local/lib/python3.11/dist-packages (from aiohttp!=4.0.0a0,!=4.0.0a1->fsspec[http]<=2025.3.0,>=2023.1.0->datasets) (2.6.1)\n",
            "Requirement already satisfied: aiosignal>=1.4.0 in /usr/local/lib/python3.11/dist-packages (from aiohttp!=4.0.0a0,!=4.0.0a1->fsspec[http]<=2025.3.0,>=2023.1.0->datasets) (1.4.0)\n",
            "Requirement already satisfied: attrs>=17.3.0 in /usr/local/lib/python3.11/dist-packages (from aiohttp!=4.0.0a0,!=4.0.0a1->fsspec[http]<=2025.3.0,>=2023.1.0->datasets) (25.3.0)\n",
            "Requirement already satisfied: frozenlist>=1.1.1 in /usr/local/lib/python3.11/dist-packages (from aiohttp!=4.0.0a0,!=4.0.0a1->fsspec[http]<=2025.3.0,>=2023.1.0->datasets) (1.7.0)\n",
            "Requirement already satisfied: multidict<7.0,>=4.5 in /usr/local/lib/python3.11/dist-packages (from aiohttp!=4.0.0a0,!=4.0.0a1->fsspec[http]<=2025.3.0,>=2023.1.0->datasets) (6.6.4)\n",
            "Requirement already satisfied: propcache>=0.2.0 in /usr/local/lib/python3.11/dist-packages (from aiohttp!=4.0.0a0,!=4.0.0a1->fsspec[http]<=2025.3.0,>=2023.1.0->datasets) (0.3.2)\n",
            "Requirement already satisfied: yarl<2.0,>=1.17.0 in /usr/local/lib/python3.11/dist-packages (from aiohttp!=4.0.0a0,!=4.0.0a1->fsspec[http]<=2025.3.0,>=2023.1.0->datasets) (1.20.1)\n",
            "Requirement already satisfied: six>=1.5 in /usr/local/lib/python3.11/dist-packages (from python-dateutil>=2.8.2->pandas->datasets) (1.17.0)\n",
            "Requirement already satisfied: MarkupSafe>=2.0 in /usr/local/lib/python3.11/dist-packages (from jinja2->torch>=2.0.0->accelerate) (3.0.2)\n",
            "Downloading transformers-4.55.2-py3-none-any.whl (11.3 MB)\n",
            "\u001b[2K   \u001b[90m━━━━━━━━━━━━━━━━━━━━━━━━━━━━━━━━━━━━━━━━\u001b[0m \u001b[32m11.3/11.3 MB\u001b[0m \u001b[31m70.4 MB/s\u001b[0m eta \u001b[36m0:00:00\u001b[0m\n",
            "\u001b[?25hDownloading accelerate-1.10.0-py3-none-any.whl (374 kB)\n",
            "\u001b[2K   \u001b[90m━━━━━━━━━━━━━━━━━━━━━━━━━━━━━━━━━━━━━━━━\u001b[0m \u001b[32m374.7/374.7 kB\u001b[0m \u001b[31m31.5 MB/s\u001b[0m eta \u001b[36m0:00:00\u001b[0m\n",
            "\u001b[?25hDownloading datasets-4.0.0-py3-none-any.whl (494 kB)\n",
            "\u001b[2K   \u001b[90m━━━━━━━━━━━━━━━━━━━━━━━━━━━━━━━━━━━━━━━━\u001b[0m \u001b[32m494.8/494.8 kB\u001b[0m \u001b[31m25.9 MB/s\u001b[0m eta \u001b[36m0:00:00\u001b[0m\n",
            "\u001b[?25hDownloading nvidia_cublas_cu12-12.4.5.8-py3-none-manylinux2014_x86_64.whl (363.4 MB)\n",
            "\u001b[2K   \u001b[90m━━━━━━━━━━━━━━━━━━━━━━━━━━━━━━━━━━━━━━━━\u001b[0m \u001b[32m363.4/363.4 MB\u001b[0m \u001b[31m5.4 MB/s\u001b[0m eta \u001b[36m0:00:00\u001b[0m\n",
            "\u001b[?25hDownloading nvidia_cuda_cupti_cu12-12.4.127-py3-none-manylinux2014_x86_64.whl (13.8 MB)\n",
            "\u001b[2K   \u001b[90m━━━━━━━━━━━━━━━━━━━━━━━━━━━━━━━━━━━━━━━━\u001b[0m \u001b[32m13.8/13.8 MB\u001b[0m \u001b[31m122.1 MB/s\u001b[0m eta \u001b[36m0:00:00\u001b[0m\n",
            "\u001b[?25hDownloading nvidia_cuda_nvrtc_cu12-12.4.127-py3-none-manylinux2014_x86_64.whl (24.6 MB)\n",
            "\u001b[2K   \u001b[90m━━━━━━━━━━━━━━━━━━━━━━━━━━━━━━━━━━━━━━━━\u001b[0m \u001b[32m24.6/24.6 MB\u001b[0m \u001b[31m94.1 MB/s\u001b[0m eta \u001b[36m0:00:00\u001b[0m\n",
            "\u001b[?25hDownloading nvidia_cuda_runtime_cu12-12.4.127-py3-none-manylinux2014_x86_64.whl (883 kB)\n",
            "\u001b[2K   \u001b[90m━━━━━━━━━━━━━━━━━━━━━━━━━━━━━━━━━━━━━━━━\u001b[0m \u001b[32m883.7/883.7 kB\u001b[0m \u001b[31m46.7 MB/s\u001b[0m eta \u001b[36m0:00:00\u001b[0m\n",
            "\u001b[?25hDownloading nvidia_cudnn_cu12-9.1.0.70-py3-none-manylinux2014_x86_64.whl (664.8 MB)\n",
            "\u001b[2K   \u001b[90m━━━━━━━━━━━━━━━━━━━━━━━━━━━━━━━━━━━━━━━\u001b[0m \u001b[32m664.8/664.8 MB\u001b[0m \u001b[31m746.0 kB/s\u001b[0m eta \u001b[36m0:00:00\u001b[0m\n",
            "\u001b[?25hDownloading nvidia_cufft_cu12-11.2.1.3-py3-none-manylinux2014_x86_64.whl (211.5 MB)\n",
            "\u001b[2K   \u001b[90m━━━━━━━━━━━━━━━━━━━━━━━━━━━━━━━━━━━━━━━━\u001b[0m \u001b[32m211.5/211.5 MB\u001b[0m \u001b[31m6.1 MB/s\u001b[0m eta \u001b[36m0:00:00\u001b[0m\n",
            "\u001b[?25hDownloading nvidia_curand_cu12-10.3.5.147-py3-none-manylinux2014_x86_64.whl (56.3 MB)\n",
            "\u001b[2K   \u001b[90m━━━━━━━━━━━━━━━━━━━━━━━━━━━━━━━━━━━━━━━━\u001b[0m \u001b[32m56.3/56.3 MB\u001b[0m \u001b[31m12.6 MB/s\u001b[0m eta \u001b[36m0:00:00\u001b[0m\n",
            "\u001b[?25hDownloading nvidia_cusolver_cu12-11.6.1.9-py3-none-manylinux2014_x86_64.whl (127.9 MB)\n",
            "\u001b[2K   \u001b[90m━━━━━━━━━━━━━━━━━━━━━━━━━━━━━━━━━━━━━━━━\u001b[0m \u001b[32m127.9/127.9 MB\u001b[0m \u001b[31m7.6 MB/s\u001b[0m eta \u001b[36m0:00:00\u001b[0m\n",
            "\u001b[?25hDownloading nvidia_cusparse_cu12-12.3.1.170-py3-none-manylinux2014_x86_64.whl (207.5 MB)\n",
            "\u001b[2K   \u001b[90m━━━━━━━━━━━━━━━━━━━━━━━━━━━━━━━━━━━━━━━━\u001b[0m \u001b[32m207.5/207.5 MB\u001b[0m \u001b[31m6.0 MB/s\u001b[0m eta \u001b[36m0:00:00\u001b[0m\n",
            "\u001b[?25hDownloading nvidia_nccl_cu12-2.21.5-py3-none-manylinux2014_x86_64.whl (188.7 MB)\n",
            "\u001b[2K   \u001b[90m━━━━━━━━━━━━━━━━━━━━━━━━━━━━━━━━━━━━━━━━\u001b[0m \u001b[32m188.7/188.7 MB\u001b[0m \u001b[31m6.4 MB/s\u001b[0m eta \u001b[36m0:00:00\u001b[0m\n",
            "\u001b[?25hDownloading nvidia_nvjitlink_cu12-12.4.127-py3-none-manylinux2014_x86_64.whl (21.1 MB)\n",
            "\u001b[2K   \u001b[90m━━━━━━━━━━━━━━━━━━━━━━━━━━━━━━━━━━━━━━━━\u001b[0m \u001b[32m21.1/21.1 MB\u001b[0m \u001b[31m106.8 MB/s\u001b[0m eta \u001b[36m0:00:00\u001b[0m\n",
            "\u001b[?25hInstalling collected packages: nvidia-nvjitlink-cu12, nvidia-nccl-cu12, nvidia-curand-cu12, nvidia-cufft-cu12, nvidia-cuda-runtime-cu12, nvidia-cuda-nvrtc-cu12, nvidia-cuda-cupti-cu12, nvidia-cublas-cu12, nvidia-cusparse-cu12, nvidia-cudnn-cu12, nvidia-cusolver-cu12, transformers, datasets, accelerate\n",
            "  Attempting uninstall: nvidia-nvjitlink-cu12\n",
            "    Found existing installation: nvidia-nvjitlink-cu12 12.5.82\n",
            "    Uninstalling nvidia-nvjitlink-cu12-12.5.82:\n",
            "      Successfully uninstalled nvidia-nvjitlink-cu12-12.5.82\n",
            "  Attempting uninstall: nvidia-nccl-cu12\n",
            "    Found existing installation: nvidia-nccl-cu12 2.23.4\n",
            "    Uninstalling nvidia-nccl-cu12-2.23.4:\n",
            "      Successfully uninstalled nvidia-nccl-cu12-2.23.4\n",
            "  Attempting uninstall: nvidia-curand-cu12\n",
            "    Found existing installation: nvidia-curand-cu12 10.3.6.82\n",
            "    Uninstalling nvidia-curand-cu12-10.3.6.82:\n",
            "      Successfully uninstalled nvidia-curand-cu12-10.3.6.82\n",
            "  Attempting uninstall: nvidia-cufft-cu12\n",
            "    Found existing installation: nvidia-cufft-cu12 11.2.3.61\n",
            "    Uninstalling nvidia-cufft-cu12-11.2.3.61:\n",
            "      Successfully uninstalled nvidia-cufft-cu12-11.2.3.61\n",
            "  Attempting uninstall: nvidia-cuda-runtime-cu12\n",
            "    Found existing installation: nvidia-cuda-runtime-cu12 12.5.82\n",
            "    Uninstalling nvidia-cuda-runtime-cu12-12.5.82:\n",
            "      Successfully uninstalled nvidia-cuda-runtime-cu12-12.5.82\n",
            "  Attempting uninstall: nvidia-cuda-nvrtc-cu12\n",
            "    Found existing installation: nvidia-cuda-nvrtc-cu12 12.5.82\n",
            "    Uninstalling nvidia-cuda-nvrtc-cu12-12.5.82:\n",
            "      Successfully uninstalled nvidia-cuda-nvrtc-cu12-12.5.82\n",
            "  Attempting uninstall: nvidia-cuda-cupti-cu12\n",
            "    Found existing installation: nvidia-cuda-cupti-cu12 12.5.82\n",
            "    Uninstalling nvidia-cuda-cupti-cu12-12.5.82:\n",
            "      Successfully uninstalled nvidia-cuda-cupti-cu12-12.5.82\n",
            "  Attempting uninstall: nvidia-cublas-cu12\n",
            "    Found existing installation: nvidia-cublas-cu12 12.5.3.2\n",
            "    Uninstalling nvidia-cublas-cu12-12.5.3.2:\n",
            "      Successfully uninstalled nvidia-cublas-cu12-12.5.3.2\n",
            "  Attempting uninstall: nvidia-cusparse-cu12\n",
            "    Found existing installation: nvidia-cusparse-cu12 12.5.1.3\n",
            "    Uninstalling nvidia-cusparse-cu12-12.5.1.3:\n",
            "      Successfully uninstalled nvidia-cusparse-cu12-12.5.1.3\n",
            "  Attempting uninstall: nvidia-cudnn-cu12\n",
            "    Found existing installation: nvidia-cudnn-cu12 9.3.0.75\n",
            "    Uninstalling nvidia-cudnn-cu12-9.3.0.75:\n",
            "      Successfully uninstalled nvidia-cudnn-cu12-9.3.0.75\n",
            "  Attempting uninstall: nvidia-cusolver-cu12\n",
            "    Found existing installation: nvidia-cusolver-cu12 11.6.3.83\n",
            "    Uninstalling nvidia-cusolver-cu12-11.6.3.83:\n",
            "      Successfully uninstalled nvidia-cusolver-cu12-11.6.3.83\n",
            "Successfully installed accelerate-1.10.0 datasets-4.0.0 nvidia-cublas-cu12-12.4.5.8 nvidia-cuda-cupti-cu12-12.4.127 nvidia-cuda-nvrtc-cu12-12.4.127 nvidia-cuda-runtime-cu12-12.4.127 nvidia-cudnn-cu12-9.1.0.70 nvidia-cufft-cu12-11.2.1.3 nvidia-curand-cu12-10.3.5.147 nvidia-cusolver-cu12-11.6.1.9 nvidia-cusparse-cu12-12.3.1.170 nvidia-nccl-cu12-2.21.5 nvidia-nvjitlink-cu12-12.4.127 transformers-4.55.2\n",
            "\n",
            "--> Installing other required libraries...\n",
            "\n",
            "✅ All libraries have been reinstalled.\n"
          ]
        }
      ],
      "source": [
        "# Cell 1 (REVISED): Uninstall and Reinstall Key Libraries\n",
        "\n",
        "# Step 1: Clean up any potentially conflicting versions\n",
        "print(\"--> Uninstalling existing versions...\")\n",
        "!pip uninstall -y transformers accelerate datasets\n",
        "\n",
        "# Step 2: Reinstall a stable, compatible set of the core libraries\n",
        "print(\"\\n--> Reinstalling core libraries...\")\n",
        "!pip install transformers accelerate datasets\n",
        "\n",
        "# Step 3: Install the remaining libraries\n",
        "print(\"\\n--> Installing other required libraries...\")\n",
        "!pip install scikit-learn pandas imbalanced-learn -q\n",
        "\n",
        "print(\"\\n✅ All libraries have been reinstalled.\")"
      ]
    },
    {
      "cell_type": "code",
      "source": [
        "# <-- NEW: Check library versions\n",
        "# This output should be noted for the 'reproducibility' section of the paper\n",
        "!pip freeze | grep -E \"transformers|torch|scikit-learn|imbalanced-learn|datasets\""
      ],
      "metadata": {
        "colab": {
          "base_uri": "https://localhost:8080/"
        },
        "id": "P4z8A-6WF9aD",
        "outputId": "6ec3ca2d-e986-4df0-fb34-bc1ec8be3a18"
      },
      "execution_count": null,
      "outputs": [
        {
          "output_type": "stream",
          "name": "stdout",
          "text": [
            "datasets==4.0.0\n",
            "imbalanced-learn==0.13.0\n",
            "scikit-learn==1.6.1\n",
            "sentence-transformers==5.1.0\n",
            "tensorflow-datasets==4.9.9\n",
            "torch @ https://download.pytorch.org/whl/cu124/torch-2.6.0%2Bcu124-cp311-cp311-linux_x86_64.whl\n",
            "torchao==0.10.0\n",
            "torchaudio @ https://download.pytorch.org/whl/cu124/torchaudio-2.6.0%2Bcu124-cp311-cp311-linux_x86_64.whl\n",
            "torchdata==0.11.0\n",
            "torchsummary==1.5.1\n",
            "torchtune==0.6.1\n",
            "torchvision @ https://download.pytorch.org/whl/cu124/torchvision-0.21.0%2Bcu124-cp311-cp311-linux_x86_64.whl\n",
            "transformers==4.55.2\n",
            "vega-datasets==0.9.0\n"
          ]
        }
      ]
    },
    {
      "cell_type": "code",
      "source": [
        "from google.colab import drive\n",
        "import pandas as pd\n",
        "import numpy as np\n",
        "import pickle\n",
        "import os\n",
        "import json\n",
        "import torch\n",
        "from sklearn.model_selection import StratifiedKFold\n",
        "from sklearn.metrics import classification_report\n",
        "from sklearn.utils.class_weight import compute_class_weight\n",
        "from imblearn.over_sampling import RandomOverSampler\n",
        "from transformers import AutoTokenizer, AutoModelForSequenceClassification, Trainer, TrainingArguments\n",
        "from datasets import Dataset\n",
        "\n",
        "# Mount Google Drive\n",
        "drive.mount('/content/drive')\n",
        "\n",
        "# --- KEY SETTINGS ---\n",
        "SEED = 42\n",
        "GDRIVE_PATH = '/content/drive/MyDrive/eecsi_revise/'\n",
        "MODEL_NAME = \"indolem/indobertweet-base-uncased\"\n",
        "\n",
        "# Set seed for reproducibility across all libraries\n",
        "np.random.seed(SEED)\n",
        "torch.manual_seed(SEED)\n",
        "torch.cuda.manual_seed_all(SEED)\n",
        "\n",
        "print(f\"✅ Setup complete. Working inside folder: {GDRIVE_PATH}\")"
      ],
      "metadata": {
        "colab": {
          "base_uri": "https://localhost:8080/"
        },
        "id": "fbhjVoM5GCAO",
        "outputId": "d9901939-a9e5-45c6-976e-99f2690be322"
      },
      "execution_count": null,
      "outputs": [
        {
          "output_type": "stream",
          "name": "stdout",
          "text": [
            "Drive already mounted at /content/drive; to attempt to forcibly remount, call drive.mount(\"/content/drive\", force_remount=True).\n",
            "✅ Setup complete. Working inside folder: /content/drive/MyDrive/eecsi_revise/\n"
          ]
        }
      ]
    },
    {
      "cell_type": "code",
      "source": [
        "# Define file paths\n",
        "file_path_csv = os.path.join(GDRIVE_PATH, 'final_golden_dataset_eecsi.csv')\n",
        "file_path_split = os.path.join(GDRIVE_PATH, 'kfold_splits.pkl')\n",
        "\n",
        "# Load the dataset and the split file\n",
        "try:\n",
        "    df = pd.read_csv(file_path_csv)\n",
        "    with open(file_path_split, 'rb') as f:\n",
        "        kfold_splits = pickle.load(f)\n",
        "    print(\"✅ Successfully loaded dataset and 5-fold splits.\")\n",
        "except FileNotFoundError as e:\n",
        "    print(f\"❌ ERROR: File not found. Please ensure '{e.filename}' is in the 'eecsi_revise' folder in your Google Drive.\")"
      ],
      "metadata": {
        "colab": {
          "base_uri": "https://localhost:8080/"
        },
        "id": "1KK-byvtGFK8",
        "outputId": "2ee4f6b1-0e80-447e-9a95-9ce877708235"
      },
      "execution_count": null,
      "outputs": [
        {
          "output_type": "stream",
          "name": "stdout",
          "text": [
            "✅ Successfully loaded dataset and 5-fold splits.\n"
          ]
        }
      ]
    },
    {
      "cell_type": "code",
      "source": [
        "# Cell 5: Prepare Helper Functions & Classes\n",
        "\n",
        "# 1. Custom PyTorch Dataset Class\n",
        "class AspectDataset(torch.utils.data.Dataset):\n",
        "    def __init__(self, encodings, labels):\n",
        "        self.encodings = encodings\n",
        "        self.labels = labels\n",
        "\n",
        "    def __getitem__(self, idx):\n",
        "        item = {key: torch.tensor(val[idx]) for key, val in self.encodings.items()}\n",
        "        item['labels'] = torch.tensor(self.labels[idx])\n",
        "        return item\n",
        "\n",
        "    def __len__(self):\n",
        "        return len(self.labels)\n",
        "\n",
        "# 2. Function to compute metrics\n",
        "def compute_metrics(p):\n",
        "    preds = np.argmax(p.predictions, axis=1)\n",
        "    report = classification_report(p.label_ids, preds, output_dict=True, zero_division=0)\n",
        "    # The labels parameter is needed for a consistent report structure\n",
        "    class_labels = [id2label[i] for i in range(len(id2label))]\n",
        "    detailed_report = classification_report(p.label_ids, preds, labels=list(range(len(class_labels))), target_names=class_labels, output_dict=True, zero_division=0)\n",
        "    return {\"macro_f1\": detailed_report[\"macro avg\"][\"f1-score\"], \"detailed_report\": detailed_report}\n",
        "\n",
        "# 3. Custom Trainer for Weighted Loss\n",
        "class WeightedLossTrainer(Trainer):\n",
        "    def __init__(self, *args, class_weights=None, **kwargs):\n",
        "        super().__init__(*args, **kwargs)\n",
        "        self.class_weights = class_weights\n",
        "\n",
        "    # --- THE CHANGE IS HERE: Added **kwargs ---\n",
        "    def compute_loss(self, model, inputs, return_outputs=False, **kwargs):\n",
        "        labels = inputs.get(\"labels\")\n",
        "        outputs = model(**inputs)\n",
        "        logits = outputs.get(\"logits\")\n",
        "        # Move class_weights to the same device as logits\n",
        "        weights = self.class_weights.to(logits.device)\n",
        "        loss_fct = torch.nn.CrossEntropyLoss(weight=weights)\n",
        "        loss = loss_fct(logits.view(-1, self.model.config.num_labels), labels.view(-1))\n",
        "        return (loss, outputs) if return_outputs else loss\n",
        "\n",
        "print(\"✅ Helper functions and classes are ready.\")"
      ],
      "metadata": {
        "colab": {
          "base_uri": "https://localhost:8080/"
        },
        "id": "dFG8oz11YYqg",
        "outputId": "0c33c3a8-0bb1-4f68-fdc7-bdfde1889801"
      },
      "execution_count": null,
      "outputs": [
        {
          "output_type": "stream",
          "name": "stdout",
          "text": [
            "✅ Helper functions and classes are ready.\n"
          ]
        }
      ]
    },
    {
      "cell_type": "code",
      "source": [
        "# List to store the evaluation results from each fold\n",
        "fold_results = []\n",
        "# Create label mappings for consistency\n",
        "labels = np.array(sorted(df['aspect'].unique()))\n",
        "label2id = {label: i for i, label in enumerate(labels)}\n",
        "id2label = {i: label for i, label in enumerate(labels)}\n",
        "\n",
        "for i, fold in enumerate(kfold_splits):\n",
        "    print(f\"--- Running Fold {i+1}/5 ---\")\n",
        "\n",
        "    # 1. Split data for the current fold\n",
        "    train_index, test_index = fold['train'], fold['test']\n",
        "    train_df = df.iloc[train_index]\n",
        "    test_df = df.iloc[test_index]\n",
        "\n",
        "    # 2. Apply Random Oversampling ONLY on the training data\n",
        "    ros = RandomOverSampler(random_state=SEED)\n",
        "    X_train_resampled, y_train_resampled = ros.fit_resample(train_df[['cleaned_text']], train_df['aspect'])\n",
        "    train_df_resampled = pd.concat([X_train_resampled, y_train_resampled], axis=1)\n",
        "\n",
        "    # 3. Compute Class Weights from the ORIGINAL imbalanced training data for this fold\n",
        "    class_weights = compute_class_weight('balanced', classes=labels, y=train_df['aspect'])\n",
        "    class_weights_tensor = torch.tensor(class_weights, dtype=torch.float)\n",
        "\n",
        "    # 4. Tokenize data\n",
        "    tokenizer = AutoTokenizer.from_pretrained(MODEL_NAME)\n",
        "    train_encodings = tokenizer(list(train_df_resampled['cleaned_text']), truncation=True, padding=True, max_length=128)\n",
        "    test_encodings = tokenizer(list(test_df['cleaned_text']), truncation=True, padding=True, max_length=128)\n",
        "\n",
        "    # Convert labels to integers\n",
        "    train_labels = [label2id[label] for label in train_df_resampled['aspect']]\n",
        "    test_labels = [label2id[label] for label in test_df['aspect']]\n",
        "\n",
        "    # Create PyTorch Datasets\n",
        "    train_dataset = AspectDataset(train_encodings, train_labels)\n",
        "    test_dataset = AspectDataset(test_encodings, test_labels)\n",
        "\n",
        "    # 5. Initialize the model for each fold to prevent weight leakage\n",
        "    model = AutoModelForSequenceClassification.from_pretrained(\n",
        "        MODEL_NAME,\n",
        "        num_labels=len(labels),\n",
        "        label2id=label2id,\n",
        "        id2label=id2label\n",
        "    )\n",
        "\n",
        "    # <-- NEW: Print model parameter count (only for the first fold)\n",
        "    if i == 0:\n",
        "        print(f\"Model Parameters: {model.num_parameters()/1e6:.2f}M\")\n",
        "\n",
        "    # 6. Define Training Arguments\n",
        "    training_args = TrainingArguments(\n",
        "        output_dir=os.path.join(GDRIVE_PATH, f'results_fold_{i+1}'),\n",
        "        num_train_epochs=5,\n",
        "        per_device_train_batch_size=16,\n",
        "        per_device_eval_batch_size=16,\n",
        "        learning_rate=2e-5,\n",
        "        eval_strategy=\"epoch\",\n",
        "        save_strategy=\"epoch\",\n",
        "        load_best_model_at_end=True,\n",
        "        metric_for_best_model=\"macro_f1\",\n",
        "        weight_decay=0.01,\n",
        "        logging_dir='./logs',\n",
        "        logging_steps=10,\n",
        "        seed=SEED,\n",
        "    )\n",
        "\n",
        "    # 7. Use the custom WeightedLossTrainer\n",
        "    trainer = WeightedLossTrainer(\n",
        "        model=model,\n",
        "        args=training_args,\n",
        "        train_dataset=train_dataset,\n",
        "        eval_dataset=test_dataset,\n",
        "        compute_metrics=compute_metrics,\n",
        "        class_weights=class_weights_tensor,\n",
        "    )\n",
        "\n",
        "    # 8. Train the model\n",
        "    trainer.train()\n",
        "\n",
        "    # 9. Evaluate and store the results\n",
        "    eval_results = trainer.evaluate()\n",
        "    fold_results.append(eval_results)\n",
        "    print(f\"Fold {i+1} complete. Evaluation results: {eval_results}\")\n",
        "\n",
        "print(\"\\n✅ 5-fold cross-validation process for IndoBERT finished.\")"
      ],
      "metadata": {
        "colab": {
          "base_uri": "https://localhost:8080/",
          "height": 1000,
          "referenced_widgets": [
            "8917d71d1707422188442b60d38fd2c5",
            "348f51b556044d6e8f502d02af0e08c1",
            "818bdb6fcedd4ecb9251e04e1c41df2e",
            "c2ecb0d67de54b02b3cab721b574d892",
            "b5dcc86f6d604b02bf3d7dca893b378b",
            "b0712fdf4bd24d5abded7d0128214acd",
            "0887dda393614039a213bad03c710c65",
            "d8517b5b6f8a4b3885af2815d788c2d4",
            "50bbd09f605f44fb855cf44e664e9c77",
            "b8b6a1e995664b4da2a1e39be9063a32",
            "66765920375847b5a908cd711f58beb4",
            "019bc1b2a7474aeda8ca9065c6c237d5",
            "641b46d530ba44fba13a04b8cdacef1c",
            "1f5f74978c1244e8932f4d485a5f4c97",
            "5050a3bcf9f1453d9bdc203653d895c4",
            "6e34ebf4ec6e45cebfae5653ce58f9a5",
            "0b27ba2d7a544afd9b86de64ae6dc8e6",
            "68385e4728ea4191a5ca31b52bf309c9",
            "febdda9f464e4fc4bd87457edd0655e3",
            "2f5ffd36bbe14f209706b1386108399b",
            "20f8b1fbf3d548dd8544fdb66427bd4b",
            "7823043b69ea444990191b57c54e5af0",
            "2cec0be9ed9c48dfbf56722e51607dca",
            "d995e8a34d0440468ac2d3f9f2493b91",
            "99db7c9e5ece42f4a1373880118ff264",
            "5aee049b334845528afb2da2d4a83695",
            "aec349e5b4c2447cbc5bef42a83be594",
            "05367eb55df044ac8f9dc52b2e049dcb",
            "e88609b04acf41398eeb4d18348c9156",
            "2e8a62527140424f971b9a0b4814845a",
            "4f003a5643464578b4c1a43b0eabc0f5",
            "3c6cb3a89632466db0bca5289e1b62af",
            "5c16104eb93444b3ba03f9d2c64260b3",
            "44a018b6402b4fc2805c3dd574fcf758",
            "b79a8fa170dc44a7b597f5d0c30083be",
            "2ab7361f5e6e474fbf5fc9b67235c3b1",
            "1564fd9bbe404fd3a1ae02a932773ba3",
            "e8b33e6520f7435491b0949baba0ccde",
            "c616667f9f364c8097f27f9dc908ff13",
            "c3d598f7867441608e4f1b9088a59c1b",
            "b5f613577c764793b0a333f31d1ed05b",
            "6cb1b6d5d7cf4588aeca1d513af6a1c6",
            "d7adf95723a74f6c843121318708359f",
            "d02efd6db12c4c5090a1fa710334845f",
            "42b02e937a4e4c29b751dd0c96d8ee46",
            "a025df0ba6424edfb415761a146d2bb5",
            "ffd05236a77c48c99af1debf19752b40",
            "7b8a7d2eac144c80b9e4b2de36a1f5d3",
            "790ef0ce2b7947649b2e91651469b2c1",
            "a2f25fc2f7844b9aacb1a7b8b5c29375",
            "b4ea81ebd3ec47bbb9e4629747f9e7de",
            "a29188d74310416f838eb78a2c61e1a3",
            "d09073da89fb402fbee352306c5ce8de",
            "56024969c5234d3e9d9823496088d62a",
            "7163b36c72d04b96abd7815e26c428d5",
            "6e69439d999f49928d2327bc3db96dfc",
            "608b8d76a9344aa48254528fcb703012",
            "6aa8224daf324f959c664a61c33223d4",
            "496f2875fa044a16ab069cd7f29a1e44",
            "da868d92410543ff85f4ce03018b8eb9",
            "a51500fc39534ee9adc9f5d4eec46812",
            "51f3d3d251b44dfb9c39ceb7cc24c572",
            "3ae1fd099de34eb697138a8fc3cebaac",
            "af43ca329ad14df09c6cd5f108a16b00",
            "82f4dd5727604ef7a80199f2162bd0ff",
            "dc9790d6c5a3498db2e23f09de39e281"
          ]
        },
        "id": "aOsiDV8jGLuq",
        "outputId": "4a0307a6-0f42-48ca-bcce-b8205473a657"
      },
      "execution_count": null,
      "outputs": [
        {
          "metadata": {
            "tags": null
          },
          "name": "stdout",
          "output_type": "stream",
          "text": [
            "--- Running Fold 1/5 ---\n"
          ]
        },
        {
          "data": {
            "application/vnd.jupyter.widget-view+json": {
              "model_id": "8917d71d1707422188442b60d38fd2c5",
              "version_major": 2,
              "version_minor": 0
            },
            "text/plain": [
              "tokenizer_config.json:   0%|          | 0.00/2.00 [00:00<?, ?B/s]"
            ]
          },
          "metadata": {},
          "output_type": "display_data"
        },
        {
          "data": {
            "application/vnd.jupyter.widget-view+json": {
              "model_id": "019bc1b2a7474aeda8ca9065c6c237d5",
              "version_major": 2,
              "version_minor": 0
            },
            "text/plain": [
              "config.json: 0.00B [00:00, ?B/s]"
            ]
          },
          "metadata": {},
          "output_type": "display_data"
        },
        {
          "data": {
            "application/vnd.jupyter.widget-view+json": {
              "model_id": "2cec0be9ed9c48dfbf56722e51607dca",
              "version_major": 2,
              "version_minor": 0
            },
            "text/plain": [
              "vocab.txt: 0.00B [00:00, ?B/s]"
            ]
          },
          "metadata": {},
          "output_type": "display_data"
        },
        {
          "data": {
            "application/vnd.jupyter.widget-view+json": {
              "model_id": "44a018b6402b4fc2805c3dd574fcf758",
              "version_major": 2,
              "version_minor": 0
            },
            "text/plain": [
              "special_tokens_map.json:   0%|          | 0.00/112 [00:00<?, ?B/s]"
            ]
          },
          "metadata": {},
          "output_type": "display_data"
        },
        {
          "data": {
            "application/vnd.jupyter.widget-view+json": {
              "model_id": "42b02e937a4e4c29b751dd0c96d8ee46",
              "version_major": 2,
              "version_minor": 0
            },
            "text/plain": [
              "pytorch_model.bin:   0%|          | 0.00/445M [00:00<?, ?B/s]"
            ]
          },
          "metadata": {},
          "output_type": "display_data"
        },
        {
          "metadata": {
            "tags": null
          },
          "name": "stderr",
          "output_type": "stream",
          "text": [
            "Some weights of BertForSequenceClassification were not initialized from the model checkpoint at indolem/indobertweet-base-uncased and are newly initialized: ['classifier.bias', 'classifier.weight']\n",
            "You should probably TRAIN this model on a down-stream task to be able to use it for predictions and inference.\n"
          ]
        },
        {
          "metadata": {
            "tags": null
          },
          "name": "stdout",
          "output_type": "stream",
          "text": [
            "Model Parameters: 110.56M\n"
          ]
        },
        {
          "data": {
            "application/vnd.jupyter.widget-view+json": {
              "model_id": "6e69439d999f49928d2327bc3db96dfc",
              "version_major": 2,
              "version_minor": 0
            },
            "text/plain": [
              "model.safetensors:   0%|          | 0.00/445M [00:00<?, ?B/s]"
            ]
          },
          "metadata": {},
          "output_type": "display_data"
        },
        {
          "data": {
            "application/javascript": [
              "\n",
              "        window._wandbApiKey = new Promise((resolve, reject) => {\n",
              "            function loadScript(url) {\n",
              "            return new Promise(function(resolve, reject) {\n",
              "                let newScript = document.createElement(\"script\");\n",
              "                newScript.onerror = reject;\n",
              "                newScript.onload = resolve;\n",
              "                document.body.appendChild(newScript);\n",
              "                newScript.src = url;\n",
              "            });\n",
              "            }\n",
              "            loadScript(\"https://cdn.jsdelivr.net/npm/postmate/build/postmate.min.js\").then(() => {\n",
              "            const iframe = document.createElement('iframe')\n",
              "            iframe.style.cssText = \"width:0;height:0;border:none\"\n",
              "            document.body.appendChild(iframe)\n",
              "            const handshake = new Postmate({\n",
              "                container: iframe,\n",
              "                url: 'https://wandb.ai/authorize'\n",
              "            });\n",
              "            const timeout = setTimeout(() => reject(\"Couldn't auto authenticate\"), 5000)\n",
              "            handshake.then(function(child) {\n",
              "                child.on('authorize', data => {\n",
              "                    clearTimeout(timeout)\n",
              "                    resolve(data)\n",
              "                });\n",
              "            });\n",
              "            })\n",
              "        });\n",
              "    "
            ],
            "text/plain": [
              "<IPython.core.display.Javascript object>"
            ]
          },
          "metadata": {},
          "output_type": "display_data"
        },
        {
          "metadata": {
            "tags": null
          },
          "name": "stderr",
          "output_type": "stream",
          "text": [
            "\u001b[34m\u001b[1mwandb\u001b[0m: Logging into wandb.ai. (Learn how to deploy a W&B server locally: https://wandb.me/wandb-server)\n",
            "\u001b[34m\u001b[1mwandb\u001b[0m: You can find your API key in your browser here: https://wandb.ai/authorize?ref=models\n",
            "wandb: Paste an API key from your profile and hit enter:\u001b[34m\u001b[1mwandb\u001b[0m: \u001b[33mWARNING\u001b[0m If you're specifying your api key in code, ensure this code is not shared publicly.\n",
            "\u001b[34m\u001b[1mwandb\u001b[0m: \u001b[33mWARNING\u001b[0m Consider setting the WANDB_API_KEY environment variable, or running `wandb login` from the command line.\n",
            "\u001b[34m\u001b[1mwandb\u001b[0m: No netrc file found, creating one.\n",
            "\u001b[34m\u001b[1mwandb\u001b[0m: Appending key for api.wandb.ai to your netrc file: /root/.netrc\n",
            "\u001b[34m\u001b[1mwandb\u001b[0m: Currently logged in as: \u001b[33mitaeyeong2532\u001b[0m (\u001b[33mitaeyeong2532-telkom-university\u001b[0m) to \u001b[32mhttps://api.wandb.ai\u001b[0m. Use \u001b[1m`wandb login --relogin`\u001b[0m to force relogin\n"
          ]
        },
        {
          "data": {
            "text/html": [
              "Tracking run with wandb version 0.21.1"
            ],
            "text/plain": [
              "<IPython.core.display.HTML object>"
            ]
          },
          "metadata": {},
          "output_type": "display_data"
        },
        {
          "data": {
            "text/html": [
              "Run data is saved locally in <code>/content/wandb/run-20250817_120230-cyjw42ch</code>"
            ],
            "text/plain": [
              "<IPython.core.display.HTML object>"
            ]
          },
          "metadata": {},
          "output_type": "display_data"
        },
        {
          "data": {
            "text/html": [
              "Syncing run <strong><a href='https://wandb.ai/itaeyeong2532-telkom-university/huggingface/runs/cyjw42ch' target=\"_blank\">ruby-firebrand-11</a></strong> to <a href='https://wandb.ai/itaeyeong2532-telkom-university/huggingface' target=\"_blank\">Weights & Biases</a> (<a href='https://wandb.me/developer-guide' target=\"_blank\">docs</a>)<br>"
            ],
            "text/plain": [
              "<IPython.core.display.HTML object>"
            ]
          },
          "metadata": {},
          "output_type": "display_data"
        },
        {
          "data": {
            "text/html": [
              " View project at <a href='https://wandb.ai/itaeyeong2532-telkom-university/huggingface' target=\"_blank\">https://wandb.ai/itaeyeong2532-telkom-university/huggingface</a>"
            ],
            "text/plain": [
              "<IPython.core.display.HTML object>"
            ]
          },
          "metadata": {},
          "output_type": "display_data"
        },
        {
          "data": {
            "text/html": [
              " View run at <a href='https://wandb.ai/itaeyeong2532-telkom-university/huggingface/runs/cyjw42ch' target=\"_blank\">https://wandb.ai/itaeyeong2532-telkom-university/huggingface/runs/cyjw42ch</a>"
            ],
            "text/plain": [
              "<IPython.core.display.HTML object>"
            ]
          },
          "metadata": {},
          "output_type": "display_data"
        },
        {
          "data": {
            "text/html": [
              "\n",
              "    <div>\n",
              "      \n",
              "      <progress value='1740' max='1740' style='width:300px; height:20px; vertical-align: middle;'></progress>\n",
              "      [1740/1740 07:17, Epoch 5/5]\n",
              "    </div>\n",
              "    <table border=\"1\" class=\"dataframe\">\n",
              "  <thead>\n",
              " <tr style=\"text-align: left;\">\n",
              "      <th>Epoch</th>\n",
              "      <th>Training Loss</th>\n",
              "      <th>Validation Loss</th>\n",
              "      <th>Macro F1</th>\n",
              "      <th>Detailed Report</th>\n",
              "    </tr>\n",
              "  </thead>\n",
              "  <tbody>\n",
              "    <tr>\n",
              "      <td>1</td>\n",
              "      <td>0.269700</td>\n",
              "      <td>1.060220</td>\n",
              "      <td>0.660523</td>\n",
              "      <td>{np.str_('Irrelevant'): {'precision': 0.9387755102040817, 'recall': 0.4623115577889447, 'f1-score': 0.6195286195286195, 'support': 199.0}, np.str_('Smart Economy'): {'precision': 0.5934065934065934, 'recall': 0.8852459016393442, 'f1-score': 0.7105263157894737, 'support': 61.0}, np.str_('Smart Environment'): {'precision': 0.7586206896551724, 'recall': 0.8301886792452831, 'f1-score': 0.7927927927927928, 'support': 53.0}, np.str_('Smart Governance'): {'precision': 0.75, 'recall': 0.5625, 'f1-score': 0.6428571428571429, 'support': 144.0}, np.str_('Smart Living'): {'precision': 0.34328358208955223, 'recall': 0.7931034482758621, 'f1-score': 0.4791666666666667, 'support': 58.0}, np.str_('Smart Mobility'): {'precision': 0.7352941176470589, 'recall': 0.9615384615384616, 'f1-score': 0.8333333333333334, 'support': 52.0}, np.str_('Smart People'): {'precision': 0.4897959183673469, 'recall': 0.6153846153846154, 'f1-score': 0.5454545454545454, 'support': 39.0}, 'accuracy': 0.6452145214521452, 'macro avg': {'precision': 0.6584537730528293, 'recall': 0.7300389519817873, 'f1-score': 0.6605227737746535, 'support': 606.0}, 'weighted avg': {'precision': 0.7400475379130464, 'recall': 0.6452145214521452, 'f1-score': 0.6495304858276023, 'support': 606.0}}</td>\n",
              "    </tr>\n",
              "    <tr>\n",
              "      <td>2</td>\n",
              "      <td>0.100900</td>\n",
              "      <td>0.932051</td>\n",
              "      <td>0.745176</td>\n",
              "      <td>{np.str_('Irrelevant'): {'precision': 0.9084507042253521, 'recall': 0.6482412060301508, 'f1-score': 0.7565982404692082, 'support': 199.0}, np.str_('Smart Economy'): {'precision': 0.6901408450704225, 'recall': 0.8032786885245902, 'f1-score': 0.7424242424242424, 'support': 61.0}, np.str_('Smart Environment'): {'precision': 0.8, 'recall': 0.8301886792452831, 'f1-score': 0.8148148148148148, 'support': 53.0}, np.str_('Smart Governance'): {'precision': 0.6927710843373494, 'recall': 0.7986111111111112, 'f1-score': 0.7419354838709677, 'support': 144.0}, np.str_('Smart Living'): {'precision': 0.6612903225806451, 'recall': 0.7068965517241379, 'f1-score': 0.6833333333333333, 'support': 58.0}, np.str_('Smart Mobility'): {'precision': 0.8333333333333334, 'recall': 0.9615384615384616, 'f1-score': 0.8928571428571429, 'support': 52.0}, np.str_('Smart People'): {'precision': 0.52, 'recall': 0.6666666666666666, 'f1-score': 0.5842696629213483, 'support': 39.0}, 'accuracy': 0.7491749174917491, 'macro avg': {'precision': 0.7294266127924433, 'recall': 0.7736316235486288, 'f1-score': 0.745176131527294, 'support': 606.0}, 'weighted avg': {'precision': 0.7706394222404785, 'recall': 0.7491749174917491, 'f1-score': 0.7503683912866222, 'support': 606.0}}</td>\n",
              "    </tr>\n",
              "    <tr>\n",
              "      <td>3</td>\n",
              "      <td>0.016900</td>\n",
              "      <td>0.964995</td>\n",
              "      <td>0.762684</td>\n",
              "      <td>{np.str_('Irrelevant'): {'precision': 0.8855421686746988, 'recall': 0.7386934673366834, 'f1-score': 0.8054794520547945, 'support': 199.0}, np.str_('Smart Economy'): {'precision': 0.6911764705882353, 'recall': 0.7704918032786885, 'f1-score': 0.7286821705426356, 'support': 61.0}, np.str_('Smart Environment'): {'precision': 0.7857142857142857, 'recall': 0.8301886792452831, 'f1-score': 0.8073394495412844, 'support': 53.0}, np.str_('Smart Governance'): {'precision': 0.7261146496815286, 'recall': 0.7916666666666666, 'f1-score': 0.7574750830564784, 'support': 144.0}, np.str_('Smart Living'): {'precision': 0.7090909090909091, 'recall': 0.6724137931034483, 'f1-score': 0.6902654867256637, 'support': 58.0}, np.str_('Smart Mobility'): {'precision': 0.8305084745762712, 'recall': 0.9423076923076923, 'f1-score': 0.8828828828828829, 'support': 52.0}, np.str_('Smart People'): {'precision': 0.6222222222222222, 'recall': 0.717948717948718, 'f1-score': 0.6666666666666666, 'support': 39.0}, 'accuracy': 0.7722772277227723, 'macro avg': {'precision': 0.7500527400783071, 'recall': 0.78053011712674, 'f1-score': 0.7626844559243438, 'support': 606.0}, 'weighted avg': {'precision': 0.7808059456122941, 'recall': 0.7722772277227723, 'f1-score': 0.7731860301779278, 'support': 606.0}}</td>\n",
              "    </tr>\n",
              "    <tr>\n",
              "      <td>4</td>\n",
              "      <td>0.029400</td>\n",
              "      <td>1.020185</td>\n",
              "      <td>0.772127</td>\n",
              "      <td>{np.str_('Irrelevant'): {'precision': 0.8722222222222222, 'recall': 0.7889447236180904, 'f1-score': 0.8284960422163589, 'support': 199.0}, np.str_('Smart Economy'): {'precision': 0.7014925373134329, 'recall': 0.7704918032786885, 'f1-score': 0.734375, 'support': 61.0}, np.str_('Smart Environment'): {'precision': 0.8113207547169812, 'recall': 0.8113207547169812, 'f1-score': 0.8113207547169812, 'support': 53.0}, np.str_('Smart Governance'): {'precision': 0.7295597484276729, 'recall': 0.8055555555555556, 'f1-score': 0.7656765676567657, 'support': 144.0}, np.str_('Smart Living'): {'precision': 0.7090909090909091, 'recall': 0.6724137931034483, 'f1-score': 0.6902654867256637, 'support': 58.0}, np.str_('Smart Mobility'): {'precision': 0.8596491228070176, 'recall': 0.9423076923076923, 'f1-score': 0.8990825688073395, 'support': 52.0}, np.str_('Smart People'): {'precision': 0.7142857142857143, 'recall': 0.6410256410256411, 'f1-score': 0.6756756756756757, 'support': 39.0}, 'accuracy': 0.7854785478547854, 'macro avg': {'precision': 0.7710887155519928, 'recall': 0.7760085662294426, 'f1-score': 0.7721274422569692, 'support': 606.0}, 'weighted avg': {'precision': 0.7889538626110677, 'recall': 0.7854785478547854, 'f1-score': 0.7855842513251671, 'support': 606.0}}</td>\n",
              "    </tr>\n",
              "    <tr>\n",
              "      <td>5</td>\n",
              "      <td>0.003300</td>\n",
              "      <td>1.067838</td>\n",
              "      <td>0.761899</td>\n",
              "      <td>{np.str_('Irrelevant'): {'precision': 0.893491124260355, 'recall': 0.7587939698492462, 'f1-score': 0.8206521739130435, 'support': 199.0}, np.str_('Smart Economy'): {'precision': 0.7121212121212122, 'recall': 0.7704918032786885, 'f1-score': 0.7401574803149606, 'support': 61.0}, np.str_('Smart Environment'): {'precision': 0.8269230769230769, 'recall': 0.8113207547169812, 'f1-score': 0.819047619047619, 'support': 53.0}, np.str_('Smart Governance'): {'precision': 0.725, 'recall': 0.8055555555555556, 'f1-score': 0.7631578947368421, 'support': 144.0}, np.str_('Smart Living'): {'precision': 0.6724137931034483, 'recall': 0.6724137931034483, 'f1-score': 0.6724137931034483, 'support': 58.0}, np.str_('Smart Mobility'): {'precision': 0.819672131147541, 'recall': 0.9615384615384616, 'f1-score': 0.8849557522123894, 'support': 52.0}, np.str_('Smart People'): {'precision': 0.625, 'recall': 0.6410256410256411, 'f1-score': 0.6329113924050633, 'support': 39.0}, 'accuracy': 0.7772277227722773, 'macro avg': {'precision': 0.7535173339365191, 'recall': 0.774448568438289, 'f1-score': 0.7618994436761951, 'support': 606.0}, 'weighted avg': {'precision': 0.7846023128115508, 'recall': 0.7772277227722773, 'f1-score': 0.7779948729016156, 'support': 606.0}}</td>\n",
              "    </tr>\n",
              "  </tbody>\n",
              "</table><p>"
            ],
            "text/plain": [
              "<IPython.core.display.HTML object>"
            ]
          },
          "metadata": {},
          "output_type": "display_data"
        },
        {
          "metadata": {
            "tags": null
          },
          "name": "stderr",
          "output_type": "stream",
          "text": [
            "Trainer is attempting to log a value of \"{np.str_('Irrelevant'): {'precision': 0.9387755102040817, 'recall': 0.4623115577889447, 'f1-score': 0.6195286195286195, 'support': 199.0}, np.str_('Smart Economy'): {'precision': 0.5934065934065934, 'recall': 0.8852459016393442, 'f1-score': 0.7105263157894737, 'support': 61.0}, np.str_('Smart Environment'): {'precision': 0.7586206896551724, 'recall': 0.8301886792452831, 'f1-score': 0.7927927927927928, 'support': 53.0}, np.str_('Smart Governance'): {'precision': 0.75, 'recall': 0.5625, 'f1-score': 0.6428571428571429, 'support': 144.0}, np.str_('Smart Living'): {'precision': 0.34328358208955223, 'recall': 0.7931034482758621, 'f1-score': 0.4791666666666667, 'support': 58.0}, np.str_('Smart Mobility'): {'precision': 0.7352941176470589, 'recall': 0.9615384615384616, 'f1-score': 0.8333333333333334, 'support': 52.0}, np.str_('Smart People'): {'precision': 0.4897959183673469, 'recall': 0.6153846153846154, 'f1-score': 0.5454545454545454, 'support': 39.0}, 'accuracy': 0.6452145214521452, 'macro avg': {'precision': 0.6584537730528293, 'recall': 0.7300389519817873, 'f1-score': 0.6605227737746535, 'support': 606.0}, 'weighted avg': {'precision': 0.7400475379130464, 'recall': 0.6452145214521452, 'f1-score': 0.6495304858276023, 'support': 606.0}}\" of type <class 'dict'> for key \"eval/detailed_report\" as a scalar. This invocation of Tensorboard's writer.add_scalar() is incorrect so we dropped this attribute.\n",
            "Trainer is attempting to log a value of \"{np.str_('Irrelevant'): {'precision': 0.9084507042253521, 'recall': 0.6482412060301508, 'f1-score': 0.7565982404692082, 'support': 199.0}, np.str_('Smart Economy'): {'precision': 0.6901408450704225, 'recall': 0.8032786885245902, 'f1-score': 0.7424242424242424, 'support': 61.0}, np.str_('Smart Environment'): {'precision': 0.8, 'recall': 0.8301886792452831, 'f1-score': 0.8148148148148148, 'support': 53.0}, np.str_('Smart Governance'): {'precision': 0.6927710843373494, 'recall': 0.7986111111111112, 'f1-score': 0.7419354838709677, 'support': 144.0}, np.str_('Smart Living'): {'precision': 0.6612903225806451, 'recall': 0.7068965517241379, 'f1-score': 0.6833333333333333, 'support': 58.0}, np.str_('Smart Mobility'): {'precision': 0.8333333333333334, 'recall': 0.9615384615384616, 'f1-score': 0.8928571428571429, 'support': 52.0}, np.str_('Smart People'): {'precision': 0.52, 'recall': 0.6666666666666666, 'f1-score': 0.5842696629213483, 'support': 39.0}, 'accuracy': 0.7491749174917491, 'macro avg': {'precision': 0.7294266127924433, 'recall': 0.7736316235486288, 'f1-score': 0.745176131527294, 'support': 606.0}, 'weighted avg': {'precision': 0.7706394222404785, 'recall': 0.7491749174917491, 'f1-score': 0.7503683912866222, 'support': 606.0}}\" of type <class 'dict'> for key \"eval/detailed_report\" as a scalar. This invocation of Tensorboard's writer.add_scalar() is incorrect so we dropped this attribute.\n",
            "Trainer is attempting to log a value of \"{np.str_('Irrelevant'): {'precision': 0.8855421686746988, 'recall': 0.7386934673366834, 'f1-score': 0.8054794520547945, 'support': 199.0}, np.str_('Smart Economy'): {'precision': 0.6911764705882353, 'recall': 0.7704918032786885, 'f1-score': 0.7286821705426356, 'support': 61.0}, np.str_('Smart Environment'): {'precision': 0.7857142857142857, 'recall': 0.8301886792452831, 'f1-score': 0.8073394495412844, 'support': 53.0}, np.str_('Smart Governance'): {'precision': 0.7261146496815286, 'recall': 0.7916666666666666, 'f1-score': 0.7574750830564784, 'support': 144.0}, np.str_('Smart Living'): {'precision': 0.7090909090909091, 'recall': 0.6724137931034483, 'f1-score': 0.6902654867256637, 'support': 58.0}, np.str_('Smart Mobility'): {'precision': 0.8305084745762712, 'recall': 0.9423076923076923, 'f1-score': 0.8828828828828829, 'support': 52.0}, np.str_('Smart People'): {'precision': 0.6222222222222222, 'recall': 0.717948717948718, 'f1-score': 0.6666666666666666, 'support': 39.0}, 'accuracy': 0.7722772277227723, 'macro avg': {'precision': 0.7500527400783071, 'recall': 0.78053011712674, 'f1-score': 0.7626844559243438, 'support': 606.0}, 'weighted avg': {'precision': 0.7808059456122941, 'recall': 0.7722772277227723, 'f1-score': 0.7731860301779278, 'support': 606.0}}\" of type <class 'dict'> for key \"eval/detailed_report\" as a scalar. This invocation of Tensorboard's writer.add_scalar() is incorrect so we dropped this attribute.\n",
            "Trainer is attempting to log a value of \"{np.str_('Irrelevant'): {'precision': 0.8722222222222222, 'recall': 0.7889447236180904, 'f1-score': 0.8284960422163589, 'support': 199.0}, np.str_('Smart Economy'): {'precision': 0.7014925373134329, 'recall': 0.7704918032786885, 'f1-score': 0.734375, 'support': 61.0}, np.str_('Smart Environment'): {'precision': 0.8113207547169812, 'recall': 0.8113207547169812, 'f1-score': 0.8113207547169812, 'support': 53.0}, np.str_('Smart Governance'): {'precision': 0.7295597484276729, 'recall': 0.8055555555555556, 'f1-score': 0.7656765676567657, 'support': 144.0}, np.str_('Smart Living'): {'precision': 0.7090909090909091, 'recall': 0.6724137931034483, 'f1-score': 0.6902654867256637, 'support': 58.0}, np.str_('Smart Mobility'): {'precision': 0.8596491228070176, 'recall': 0.9423076923076923, 'f1-score': 0.8990825688073395, 'support': 52.0}, np.str_('Smart People'): {'precision': 0.7142857142857143, 'recall': 0.6410256410256411, 'f1-score': 0.6756756756756757, 'support': 39.0}, 'accuracy': 0.7854785478547854, 'macro avg': {'precision': 0.7710887155519928, 'recall': 0.7760085662294426, 'f1-score': 0.7721274422569692, 'support': 606.0}, 'weighted avg': {'precision': 0.7889538626110677, 'recall': 0.7854785478547854, 'f1-score': 0.7855842513251671, 'support': 606.0}}\" of type <class 'dict'> for key \"eval/detailed_report\" as a scalar. This invocation of Tensorboard's writer.add_scalar() is incorrect so we dropped this attribute.\n",
            "Trainer is attempting to log a value of \"{np.str_('Irrelevant'): {'precision': 0.893491124260355, 'recall': 0.7587939698492462, 'f1-score': 0.8206521739130435, 'support': 199.0}, np.str_('Smart Economy'): {'precision': 0.7121212121212122, 'recall': 0.7704918032786885, 'f1-score': 0.7401574803149606, 'support': 61.0}, np.str_('Smart Environment'): {'precision': 0.8269230769230769, 'recall': 0.8113207547169812, 'f1-score': 0.819047619047619, 'support': 53.0}, np.str_('Smart Governance'): {'precision': 0.725, 'recall': 0.8055555555555556, 'f1-score': 0.7631578947368421, 'support': 144.0}, np.str_('Smart Living'): {'precision': 0.6724137931034483, 'recall': 0.6724137931034483, 'f1-score': 0.6724137931034483, 'support': 58.0}, np.str_('Smart Mobility'): {'precision': 0.819672131147541, 'recall': 0.9615384615384616, 'f1-score': 0.8849557522123894, 'support': 52.0}, np.str_('Smart People'): {'precision': 0.625, 'recall': 0.6410256410256411, 'f1-score': 0.6329113924050633, 'support': 39.0}, 'accuracy': 0.7772277227722773, 'macro avg': {'precision': 0.7535173339365191, 'recall': 0.774448568438289, 'f1-score': 0.7618994436761951, 'support': 606.0}, 'weighted avg': {'precision': 0.7846023128115508, 'recall': 0.7772277227722773, 'f1-score': 0.7779948729016156, 'support': 606.0}}\" of type <class 'dict'> for key \"eval/detailed_report\" as a scalar. This invocation of Tensorboard's writer.add_scalar() is incorrect so we dropped this attribute.\n"
          ]
        },
        {
          "data": {
            "text/html": [
              "\n",
              "    <div>\n",
              "      \n",
              "      <progress value='38' max='38' style='width:300px; height:20px; vertical-align: middle;'></progress>\n",
              "      [38/38 00:01]\n",
              "    </div>\n",
              "    "
            ],
            "text/plain": [
              "<IPython.core.display.HTML object>"
            ]
          },
          "metadata": {},
          "output_type": "display_data"
        },
        {
          "metadata": {
            "tags": null
          },
          "name": "stderr",
          "output_type": "stream",
          "text": [
            "Trainer is attempting to log a value of \"{np.str_('Irrelevant'): {'precision': 0.8722222222222222, 'recall': 0.7889447236180904, 'f1-score': 0.8284960422163589, 'support': 199.0}, np.str_('Smart Economy'): {'precision': 0.7014925373134329, 'recall': 0.7704918032786885, 'f1-score': 0.734375, 'support': 61.0}, np.str_('Smart Environment'): {'precision': 0.8113207547169812, 'recall': 0.8113207547169812, 'f1-score': 0.8113207547169812, 'support': 53.0}, np.str_('Smart Governance'): {'precision': 0.7295597484276729, 'recall': 0.8055555555555556, 'f1-score': 0.7656765676567657, 'support': 144.0}, np.str_('Smart Living'): {'precision': 0.7090909090909091, 'recall': 0.6724137931034483, 'f1-score': 0.6902654867256637, 'support': 58.0}, np.str_('Smart Mobility'): {'precision': 0.8596491228070176, 'recall': 0.9423076923076923, 'f1-score': 0.8990825688073395, 'support': 52.0}, np.str_('Smart People'): {'precision': 0.7142857142857143, 'recall': 0.6410256410256411, 'f1-score': 0.6756756756756757, 'support': 39.0}, 'accuracy': 0.7854785478547854, 'macro avg': {'precision': 0.7710887155519928, 'recall': 0.7760085662294426, 'f1-score': 0.7721274422569692, 'support': 606.0}, 'weighted avg': {'precision': 0.7889538626110677, 'recall': 0.7854785478547854, 'f1-score': 0.7855842513251671, 'support': 606.0}}\" of type <class 'dict'> for key \"eval/detailed_report\" as a scalar. This invocation of Tensorboard's writer.add_scalar() is incorrect so we dropped this attribute.\n"
          ]
        },
        {
          "metadata": {
            "tags": null
          },
          "name": "stdout",
          "output_type": "stream",
          "text": [
            "Fold 1 complete. Evaluation results: {'eval_loss': 1.0201854705810547, 'eval_macro_f1': 0.7721274422569692, 'eval_detailed_report': {np.str_('Irrelevant'): {'precision': 0.8722222222222222, 'recall': 0.7889447236180904, 'f1-score': 0.8284960422163589, 'support': 199.0}, np.str_('Smart Economy'): {'precision': 0.7014925373134329, 'recall': 0.7704918032786885, 'f1-score': 0.734375, 'support': 61.0}, np.str_('Smart Environment'): {'precision': 0.8113207547169812, 'recall': 0.8113207547169812, 'f1-score': 0.8113207547169812, 'support': 53.0}, np.str_('Smart Governance'): {'precision': 0.7295597484276729, 'recall': 0.8055555555555556, 'f1-score': 0.7656765676567657, 'support': 144.0}, np.str_('Smart Living'): {'precision': 0.7090909090909091, 'recall': 0.6724137931034483, 'f1-score': 0.6902654867256637, 'support': 58.0}, np.str_('Smart Mobility'): {'precision': 0.8596491228070176, 'recall': 0.9423076923076923, 'f1-score': 0.8990825688073395, 'support': 52.0}, np.str_('Smart People'): {'precision': 0.7142857142857143, 'recall': 0.6410256410256411, 'f1-score': 0.6756756756756757, 'support': 39.0}, 'accuracy': 0.7854785478547854, 'macro avg': {'precision': 0.7710887155519928, 'recall': 0.7760085662294426, 'f1-score': 0.7721274422569692, 'support': 606.0}, 'weighted avg': {'precision': 0.7889538626110677, 'recall': 0.7854785478547854, 'f1-score': 0.7855842513251671, 'support': 606.0}}, 'eval_runtime': 2.0056, 'eval_samples_per_second': 302.154, 'eval_steps_per_second': 18.947, 'epoch': 5.0}\n",
            "--- Running Fold 2/5 ---\n"
          ]
        },
        {
          "metadata": {
            "tags": null
          },
          "name": "stderr",
          "output_type": "stream",
          "text": [
            "Some weights of BertForSequenceClassification were not initialized from the model checkpoint at indolem/indobertweet-base-uncased and are newly initialized: ['classifier.bias', 'classifier.weight']\n",
            "You should probably TRAIN this model on a down-stream task to be able to use it for predictions and inference.\n"
          ]
        },
        {
          "data": {
            "text/html": [
              "\n",
              "    <div>\n",
              "      \n",
              "      <progress value='1740' max='1740' style='width:300px; height:20px; vertical-align: middle;'></progress>\n",
              "      [1740/1740 07:44, Epoch 5/5]\n",
              "    </div>\n",
              "    <table border=\"1\" class=\"dataframe\">\n",
              "  <thead>\n",
              " <tr style=\"text-align: left;\">\n",
              "      <th>Epoch</th>\n",
              "      <th>Training Loss</th>\n",
              "      <th>Validation Loss</th>\n",
              "      <th>Macro F1</th>\n",
              "      <th>Detailed Report</th>\n",
              "    </tr>\n",
              "  </thead>\n",
              "  <tbody>\n",
              "    <tr>\n",
              "      <td>1</td>\n",
              "      <td>0.195200</td>\n",
              "      <td>0.869223</td>\n",
              "      <td>0.708238</td>\n",
              "      <td>{np.str_('Irrelevant'): {'precision': 0.8811188811188811, 'recall': 0.6331658291457286, 'f1-score': 0.7368421052631579, 'support': 199.0}, np.str_('Smart Economy'): {'precision': 0.6043956043956044, 'recall': 0.9016393442622951, 'f1-score': 0.7236842105263158, 'support': 61.0}, np.str_('Smart Environment'): {'precision': 0.7818181818181819, 'recall': 0.8113207547169812, 'f1-score': 0.7962962962962963, 'support': 53.0}, np.str_('Smart Governance'): {'precision': 0.8130841121495327, 'recall': 0.6041666666666666, 'f1-score': 0.6932270916334662, 'support': 144.0}, np.str_('Smart Living'): {'precision': 0.4368932038834951, 'recall': 0.7758620689655172, 'f1-score': 0.5590062111801242, 'support': 58.0}, np.str_('Smart Mobility'): {'precision': 0.9166666666666666, 'recall': 0.8301886792452831, 'f1-score': 0.8712871287128713, 'support': 53.0}, np.str_('Smart People'): {'precision': 0.4745762711864407, 'recall': 0.7368421052631579, 'f1-score': 0.5773195876288659, 'support': 38.0}, 'accuracy': 0.7062706270627063, 'macro avg': {'precision': 0.7012218458884003, 'recall': 0.7561693497522327, 'f1-score': 0.7082375187487282, 'support': 606.0}, 'weighted avg': {'precision': 0.7635120502645979, 'recall': 0.7062706270627063, 'f1-score': 0.7150881899150542, 'support': 606.0}}</td>\n",
              "    </tr>\n",
              "    <tr>\n",
              "      <td>2</td>\n",
              "      <td>0.071900</td>\n",
              "      <td>0.973601</td>\n",
              "      <td>0.706129</td>\n",
              "      <td>{np.str_('Irrelevant'): {'precision': 0.9230769230769231, 'recall': 0.6633165829145728, 'f1-score': 0.7719298245614035, 'support': 199.0}, np.str_('Smart Economy'): {'precision': 0.6125, 'recall': 0.8032786885245902, 'f1-score': 0.6950354609929078, 'support': 61.0}, np.str_('Smart Environment'): {'precision': 0.7192982456140351, 'recall': 0.7735849056603774, 'f1-score': 0.7454545454545455, 'support': 53.0}, np.str_('Smart Governance'): {'precision': 0.6182795698924731, 'recall': 0.7986111111111112, 'f1-score': 0.696969696969697, 'support': 144.0}, np.str_('Smart Living'): {'precision': 0.5862068965517241, 'recall': 0.5862068965517241, 'f1-score': 0.5862068965517241, 'support': 58.0}, np.str_('Smart Mobility'): {'precision': 0.8135593220338984, 'recall': 0.9056603773584906, 'f1-score': 0.8571428571428571, 'support': 53.0}, np.str_('Smart People'): {'precision': 0.782608695652174, 'recall': 0.47368421052631576, 'f1-score': 0.5901639344262295, 'support': 38.0}, 'accuracy': 0.7211221122112211, 'macro avg': {'precision': 0.7222185218316041, 'recall': 0.7149061103781689, 'f1-score': 0.7061290308713378, 'support': 606.0}, 'weighted avg': {'precision': 0.7509367116781303, 'recall': 0.7211221122112211, 'f1-score': 0.7223411327026108, 'support': 606.0}}</td>\n",
              "    </tr>\n",
              "    <tr>\n",
              "      <td>3</td>\n",
              "      <td>0.032100</td>\n",
              "      <td>1.044998</td>\n",
              "      <td>0.742724</td>\n",
              "      <td>{np.str_('Irrelevant'): {'precision': 0.888268156424581, 'recall': 0.7989949748743719, 'f1-score': 0.8412698412698413, 'support': 199.0}, np.str_('Smart Economy'): {'precision': 0.5777777777777777, 'recall': 0.8524590163934426, 'f1-score': 0.6887417218543046, 'support': 61.0}, np.str_('Smart Environment'): {'precision': 0.75, 'recall': 0.7924528301886793, 'f1-score': 0.7706422018348624, 'support': 53.0}, np.str_('Smart Governance'): {'precision': 0.7350993377483444, 'recall': 0.7708333333333334, 'f1-score': 0.752542372881356, 'support': 144.0}, np.str_('Smart Living'): {'precision': 0.6545454545454545, 'recall': 0.6206896551724138, 'f1-score': 0.6371681415929203, 'support': 58.0}, np.str_('Smart Mobility'): {'precision': 0.9, 'recall': 0.8490566037735849, 'f1-score': 0.8737864077669902, 'support': 53.0}, np.str_('Smart People'): {'precision': 0.8, 'recall': 0.5263157894736842, 'f1-score': 0.6349206349206349, 'support': 38.0}, 'accuracy': 0.7673267326732673, 'macro avg': {'precision': 0.7579558180708796, 'recall': 0.7444003147442156, 'f1-score': 0.7427244745887014, 'support': 606.0}, 'weighted avg': {'precision': 0.78164644978933, 'recall': 0.7673267326732673, 'f1-score': 0.7690255739092374, 'support': 606.0}}</td>\n",
              "    </tr>\n",
              "    <tr>\n",
              "      <td>4</td>\n",
              "      <td>0.010700</td>\n",
              "      <td>1.088552</td>\n",
              "      <td>0.753183</td>\n",
              "      <td>{np.str_('Irrelevant'): {'precision': 0.8723404255319149, 'recall': 0.8241206030150754, 'f1-score': 0.8475452196382429, 'support': 199.0}, np.str_('Smart Economy'): {'precision': 0.6911764705882353, 'recall': 0.7704918032786885, 'f1-score': 0.7286821705426356, 'support': 61.0}, np.str_('Smart Environment'): {'precision': 0.711864406779661, 'recall': 0.7924528301886793, 'f1-score': 0.75, 'support': 53.0}, np.str_('Smart Governance'): {'precision': 0.71875, 'recall': 0.7986111111111112, 'f1-score': 0.756578947368421, 'support': 144.0}, np.str_('Smart Living'): {'precision': 0.6730769230769231, 'recall': 0.603448275862069, 'f1-score': 0.6363636363636364, 'support': 58.0}, np.str_('Smart Mobility'): {'precision': 0.8846153846153846, 'recall': 0.8679245283018868, 'f1-score': 0.8761904761904762, 'support': 53.0}, np.str_('Smart People'): {'precision': 0.8148148148148148, 'recall': 0.5789473684210527, 'f1-score': 0.676923076923077, 'support': 38.0}, 'accuracy': 0.7772277227722773, 'macro avg': {'precision': 0.7666626322009906, 'recall': 0.7479995028826519, 'f1-score': 0.7531833610037841, 'support': 606.0}, 'weighted avg': {'precision': 0.7819675954325005, 'recall': 0.7772277227722773, 'f1-score': 0.7770276280568098, 'support': 606.0}}</td>\n",
              "    </tr>\n",
              "    <tr>\n",
              "      <td>5</td>\n",
              "      <td>0.015200</td>\n",
              "      <td>1.093274</td>\n",
              "      <td>0.747553</td>\n",
              "      <td>{np.str_('Irrelevant'): {'precision': 0.868421052631579, 'recall': 0.8291457286432161, 'f1-score': 0.8483290488431876, 'support': 199.0}, np.str_('Smart Economy'): {'precision': 0.7014925373134329, 'recall': 0.7704918032786885, 'f1-score': 0.734375, 'support': 61.0}, np.str_('Smart Environment'): {'precision': 0.711864406779661, 'recall': 0.7924528301886793, 'f1-score': 0.75, 'support': 53.0}, np.str_('Smart Governance'): {'precision': 0.7354838709677419, 'recall': 0.7916666666666666, 'f1-score': 0.7625418060200669, 'support': 144.0}, np.str_('Smart Living'): {'precision': 0.631578947368421, 'recall': 0.6206896551724138, 'f1-score': 0.6260869565217392, 'support': 58.0}, np.str_('Smart Mobility'): {'precision': 0.8823529411764706, 'recall': 0.8490566037735849, 'f1-score': 0.8653846153846154, 'support': 53.0}, np.str_('Smart People'): {'precision': 0.7777777777777778, 'recall': 0.5526315789473685, 'f1-score': 0.6461538461538462, 'support': 38.0}, 'accuracy': 0.7755775577557755, 'macro avg': {'precision': 0.7584245048592976, 'recall': 0.7437335523815166, 'f1-score': 0.7475530389890651, 'support': 606.0}, 'weighted avg': {'precision': 0.7792032435870585, 'recall': 0.7755775577557755, 'f1-score': 0.7754169142478146, 'support': 606.0}}</td>\n",
              "    </tr>\n",
              "  </tbody>\n",
              "</table><p>"
            ],
            "text/plain": [
              "<IPython.core.display.HTML object>"
            ]
          },
          "metadata": {},
          "output_type": "display_data"
        },
        {
          "metadata": {
            "tags": null
          },
          "name": "stderr",
          "output_type": "stream",
          "text": [
            "Trainer is attempting to log a value of \"{np.str_('Irrelevant'): {'precision': 0.8811188811188811, 'recall': 0.6331658291457286, 'f1-score': 0.7368421052631579, 'support': 199.0}, np.str_('Smart Economy'): {'precision': 0.6043956043956044, 'recall': 0.9016393442622951, 'f1-score': 0.7236842105263158, 'support': 61.0}, np.str_('Smart Environment'): {'precision': 0.7818181818181819, 'recall': 0.8113207547169812, 'f1-score': 0.7962962962962963, 'support': 53.0}, np.str_('Smart Governance'): {'precision': 0.8130841121495327, 'recall': 0.6041666666666666, 'f1-score': 0.6932270916334662, 'support': 144.0}, np.str_('Smart Living'): {'precision': 0.4368932038834951, 'recall': 0.7758620689655172, 'f1-score': 0.5590062111801242, 'support': 58.0}, np.str_('Smart Mobility'): {'precision': 0.9166666666666666, 'recall': 0.8301886792452831, 'f1-score': 0.8712871287128713, 'support': 53.0}, np.str_('Smart People'): {'precision': 0.4745762711864407, 'recall': 0.7368421052631579, 'f1-score': 0.5773195876288659, 'support': 38.0}, 'accuracy': 0.7062706270627063, 'macro avg': {'precision': 0.7012218458884003, 'recall': 0.7561693497522327, 'f1-score': 0.7082375187487282, 'support': 606.0}, 'weighted avg': {'precision': 0.7635120502645979, 'recall': 0.7062706270627063, 'f1-score': 0.7150881899150542, 'support': 606.0}}\" of type <class 'dict'> for key \"eval/detailed_report\" as a scalar. This invocation of Tensorboard's writer.add_scalar() is incorrect so we dropped this attribute.\n",
            "Trainer is attempting to log a value of \"{np.str_('Irrelevant'): {'precision': 0.9230769230769231, 'recall': 0.6633165829145728, 'f1-score': 0.7719298245614035, 'support': 199.0}, np.str_('Smart Economy'): {'precision': 0.6125, 'recall': 0.8032786885245902, 'f1-score': 0.6950354609929078, 'support': 61.0}, np.str_('Smart Environment'): {'precision': 0.7192982456140351, 'recall': 0.7735849056603774, 'f1-score': 0.7454545454545455, 'support': 53.0}, np.str_('Smart Governance'): {'precision': 0.6182795698924731, 'recall': 0.7986111111111112, 'f1-score': 0.696969696969697, 'support': 144.0}, np.str_('Smart Living'): {'precision': 0.5862068965517241, 'recall': 0.5862068965517241, 'f1-score': 0.5862068965517241, 'support': 58.0}, np.str_('Smart Mobility'): {'precision': 0.8135593220338984, 'recall': 0.9056603773584906, 'f1-score': 0.8571428571428571, 'support': 53.0}, np.str_('Smart People'): {'precision': 0.782608695652174, 'recall': 0.47368421052631576, 'f1-score': 0.5901639344262295, 'support': 38.0}, 'accuracy': 0.7211221122112211, 'macro avg': {'precision': 0.7222185218316041, 'recall': 0.7149061103781689, 'f1-score': 0.7061290308713378, 'support': 606.0}, 'weighted avg': {'precision': 0.7509367116781303, 'recall': 0.7211221122112211, 'f1-score': 0.7223411327026108, 'support': 606.0}}\" of type <class 'dict'> for key \"eval/detailed_report\" as a scalar. This invocation of Tensorboard's writer.add_scalar() is incorrect so we dropped this attribute.\n",
            "Trainer is attempting to log a value of \"{np.str_('Irrelevant'): {'precision': 0.888268156424581, 'recall': 0.7989949748743719, 'f1-score': 0.8412698412698413, 'support': 199.0}, np.str_('Smart Economy'): {'precision': 0.5777777777777777, 'recall': 0.8524590163934426, 'f1-score': 0.6887417218543046, 'support': 61.0}, np.str_('Smart Environment'): {'precision': 0.75, 'recall': 0.7924528301886793, 'f1-score': 0.7706422018348624, 'support': 53.0}, np.str_('Smart Governance'): {'precision': 0.7350993377483444, 'recall': 0.7708333333333334, 'f1-score': 0.752542372881356, 'support': 144.0}, np.str_('Smart Living'): {'precision': 0.6545454545454545, 'recall': 0.6206896551724138, 'f1-score': 0.6371681415929203, 'support': 58.0}, np.str_('Smart Mobility'): {'precision': 0.9, 'recall': 0.8490566037735849, 'f1-score': 0.8737864077669902, 'support': 53.0}, np.str_('Smart People'): {'precision': 0.8, 'recall': 0.5263157894736842, 'f1-score': 0.6349206349206349, 'support': 38.0}, 'accuracy': 0.7673267326732673, 'macro avg': {'precision': 0.7579558180708796, 'recall': 0.7444003147442156, 'f1-score': 0.7427244745887014, 'support': 606.0}, 'weighted avg': {'precision': 0.78164644978933, 'recall': 0.7673267326732673, 'f1-score': 0.7690255739092374, 'support': 606.0}}\" of type <class 'dict'> for key \"eval/detailed_report\" as a scalar. This invocation of Tensorboard's writer.add_scalar() is incorrect so we dropped this attribute.\n",
            "Trainer is attempting to log a value of \"{np.str_('Irrelevant'): {'precision': 0.8723404255319149, 'recall': 0.8241206030150754, 'f1-score': 0.8475452196382429, 'support': 199.0}, np.str_('Smart Economy'): {'precision': 0.6911764705882353, 'recall': 0.7704918032786885, 'f1-score': 0.7286821705426356, 'support': 61.0}, np.str_('Smart Environment'): {'precision': 0.711864406779661, 'recall': 0.7924528301886793, 'f1-score': 0.75, 'support': 53.0}, np.str_('Smart Governance'): {'precision': 0.71875, 'recall': 0.7986111111111112, 'f1-score': 0.756578947368421, 'support': 144.0}, np.str_('Smart Living'): {'precision': 0.6730769230769231, 'recall': 0.603448275862069, 'f1-score': 0.6363636363636364, 'support': 58.0}, np.str_('Smart Mobility'): {'precision': 0.8846153846153846, 'recall': 0.8679245283018868, 'f1-score': 0.8761904761904762, 'support': 53.0}, np.str_('Smart People'): {'precision': 0.8148148148148148, 'recall': 0.5789473684210527, 'f1-score': 0.676923076923077, 'support': 38.0}, 'accuracy': 0.7772277227722773, 'macro avg': {'precision': 0.7666626322009906, 'recall': 0.7479995028826519, 'f1-score': 0.7531833610037841, 'support': 606.0}, 'weighted avg': {'precision': 0.7819675954325005, 'recall': 0.7772277227722773, 'f1-score': 0.7770276280568098, 'support': 606.0}}\" of type <class 'dict'> for key \"eval/detailed_report\" as a scalar. This invocation of Tensorboard's writer.add_scalar() is incorrect so we dropped this attribute.\n",
            "Trainer is attempting to log a value of \"{np.str_('Irrelevant'): {'precision': 0.868421052631579, 'recall': 0.8291457286432161, 'f1-score': 0.8483290488431876, 'support': 199.0}, np.str_('Smart Economy'): {'precision': 0.7014925373134329, 'recall': 0.7704918032786885, 'f1-score': 0.734375, 'support': 61.0}, np.str_('Smart Environment'): {'precision': 0.711864406779661, 'recall': 0.7924528301886793, 'f1-score': 0.75, 'support': 53.0}, np.str_('Smart Governance'): {'precision': 0.7354838709677419, 'recall': 0.7916666666666666, 'f1-score': 0.7625418060200669, 'support': 144.0}, np.str_('Smart Living'): {'precision': 0.631578947368421, 'recall': 0.6206896551724138, 'f1-score': 0.6260869565217392, 'support': 58.0}, np.str_('Smart Mobility'): {'precision': 0.8823529411764706, 'recall': 0.8490566037735849, 'f1-score': 0.8653846153846154, 'support': 53.0}, np.str_('Smart People'): {'precision': 0.7777777777777778, 'recall': 0.5526315789473685, 'f1-score': 0.6461538461538462, 'support': 38.0}, 'accuracy': 0.7755775577557755, 'macro avg': {'precision': 0.7584245048592976, 'recall': 0.7437335523815166, 'f1-score': 0.7475530389890651, 'support': 606.0}, 'weighted avg': {'precision': 0.7792032435870585, 'recall': 0.7755775577557755, 'f1-score': 0.7754169142478146, 'support': 606.0}}\" of type <class 'dict'> for key \"eval/detailed_report\" as a scalar. This invocation of Tensorboard's writer.add_scalar() is incorrect so we dropped this attribute.\n"
          ]
        },
        {
          "data": {
            "text/html": [
              "\n",
              "    <div>\n",
              "      \n",
              "      <progress value='38' max='38' style='width:300px; height:20px; vertical-align: middle;'></progress>\n",
              "      [38/38 00:01]\n",
              "    </div>\n",
              "    "
            ],
            "text/plain": [
              "<IPython.core.display.HTML object>"
            ]
          },
          "metadata": {},
          "output_type": "display_data"
        },
        {
          "metadata": {
            "tags": null
          },
          "name": "stderr",
          "output_type": "stream",
          "text": [
            "Trainer is attempting to log a value of \"{np.str_('Irrelevant'): {'precision': 0.8723404255319149, 'recall': 0.8241206030150754, 'f1-score': 0.8475452196382429, 'support': 199.0}, np.str_('Smart Economy'): {'precision': 0.6911764705882353, 'recall': 0.7704918032786885, 'f1-score': 0.7286821705426356, 'support': 61.0}, np.str_('Smart Environment'): {'precision': 0.711864406779661, 'recall': 0.7924528301886793, 'f1-score': 0.75, 'support': 53.0}, np.str_('Smart Governance'): {'precision': 0.71875, 'recall': 0.7986111111111112, 'f1-score': 0.756578947368421, 'support': 144.0}, np.str_('Smart Living'): {'precision': 0.6730769230769231, 'recall': 0.603448275862069, 'f1-score': 0.6363636363636364, 'support': 58.0}, np.str_('Smart Mobility'): {'precision': 0.8846153846153846, 'recall': 0.8679245283018868, 'f1-score': 0.8761904761904762, 'support': 53.0}, np.str_('Smart People'): {'precision': 0.8148148148148148, 'recall': 0.5789473684210527, 'f1-score': 0.676923076923077, 'support': 38.0}, 'accuracy': 0.7772277227722773, 'macro avg': {'precision': 0.7666626322009906, 'recall': 0.7479995028826519, 'f1-score': 0.7531833610037841, 'support': 606.0}, 'weighted avg': {'precision': 0.7819675954325005, 'recall': 0.7772277227722773, 'f1-score': 0.7770276280568098, 'support': 606.0}}\" of type <class 'dict'> for key \"eval/detailed_report\" as a scalar. This invocation of Tensorboard's writer.add_scalar() is incorrect so we dropped this attribute.\n"
          ]
        },
        {
          "metadata": {
            "tags": null
          },
          "name": "stdout",
          "output_type": "stream",
          "text": [
            "Fold 2 complete. Evaluation results: {'eval_loss': 1.0885519981384277, 'eval_macro_f1': 0.7531833610037841, 'eval_detailed_report': {np.str_('Irrelevant'): {'precision': 0.8723404255319149, 'recall': 0.8241206030150754, 'f1-score': 0.8475452196382429, 'support': 199.0}, np.str_('Smart Economy'): {'precision': 0.6911764705882353, 'recall': 0.7704918032786885, 'f1-score': 0.7286821705426356, 'support': 61.0}, np.str_('Smart Environment'): {'precision': 0.711864406779661, 'recall': 0.7924528301886793, 'f1-score': 0.75, 'support': 53.0}, np.str_('Smart Governance'): {'precision': 0.71875, 'recall': 0.7986111111111112, 'f1-score': 0.756578947368421, 'support': 144.0}, np.str_('Smart Living'): {'precision': 0.6730769230769231, 'recall': 0.603448275862069, 'f1-score': 0.6363636363636364, 'support': 58.0}, np.str_('Smart Mobility'): {'precision': 0.8846153846153846, 'recall': 0.8679245283018868, 'f1-score': 0.8761904761904762, 'support': 53.0}, np.str_('Smart People'): {'precision': 0.8148148148148148, 'recall': 0.5789473684210527, 'f1-score': 0.676923076923077, 'support': 38.0}, 'accuracy': 0.7772277227722773, 'macro avg': {'precision': 0.7666626322009906, 'recall': 0.7479995028826519, 'f1-score': 0.7531833610037841, 'support': 606.0}, 'weighted avg': {'precision': 0.7819675954325005, 'recall': 0.7772277227722773, 'f1-score': 0.7770276280568098, 'support': 606.0}}, 'eval_runtime': 2.0585, 'eval_samples_per_second': 294.396, 'eval_steps_per_second': 18.46, 'epoch': 5.0}\n",
            "--- Running Fold 3/5 ---\n"
          ]
        },
        {
          "metadata": {
            "tags": null
          },
          "name": "stderr",
          "output_type": "stream",
          "text": [
            "Some weights of BertForSequenceClassification were not initialized from the model checkpoint at indolem/indobertweet-base-uncased and are newly initialized: ['classifier.bias', 'classifier.weight']\n",
            "You should probably TRAIN this model on a down-stream task to be able to use it for predictions and inference.\n"
          ]
        },
        {
          "data": {
            "text/html": [
              "\n",
              "    <div>\n",
              "      \n",
              "      <progress value='1740' max='1740' style='width:300px; height:20px; vertical-align: middle;'></progress>\n",
              "      [1740/1740 07:41, Epoch 5/5]\n",
              "    </div>\n",
              "    <table border=\"1\" class=\"dataframe\">\n",
              "  <thead>\n",
              " <tr style=\"text-align: left;\">\n",
              "      <th>Epoch</th>\n",
              "      <th>Training Loss</th>\n",
              "      <th>Validation Loss</th>\n",
              "      <th>Macro F1</th>\n",
              "      <th>Detailed Report</th>\n",
              "    </tr>\n",
              "  </thead>\n",
              "  <tbody>\n",
              "    <tr>\n",
              "      <td>1</td>\n",
              "      <td>0.306600</td>\n",
              "      <td>0.996695</td>\n",
              "      <td>0.681337</td>\n",
              "      <td>{np.str_('Irrelevant'): {'precision': 0.918918918918919, 'recall': 0.5125628140703518, 'f1-score': 0.6580645161290323, 'support': 199.0}, np.str_('Smart Economy'): {'precision': 0.6582278481012658, 'recall': 0.8524590163934426, 'f1-score': 0.7428571428571429, 'support': 61.0}, np.str_('Smart Environment'): {'precision': 0.6923076923076923, 'recall': 0.8490566037735849, 'f1-score': 0.7627118644067796, 'support': 53.0}, np.str_('Smart Governance'): {'precision': 0.7203389830508474, 'recall': 0.5862068965517241, 'f1-score': 0.6463878326996197, 'support': 145.0}, np.str_('Smart Living'): {'precision': 0.3951612903225806, 'recall': 0.8596491228070176, 'f1-score': 0.5414364640883977, 'support': 57.0}, np.str_('Smart Mobility'): {'precision': 0.7258064516129032, 'recall': 0.8490566037735849, 'f1-score': 0.782608695652174, 'support': 53.0}, np.str_('Smart People'): {'precision': 0.574468085106383, 'recall': 0.7105263157894737, 'f1-score': 0.6352941176470588, 'support': 38.0}, 'accuracy': 0.6683168316831684, 'macro avg': {'precision': 0.6693184670600844, 'recall': 0.7456453390227399, 'f1-score': 0.6813372333543148, 'support': 606.0}, 'weighted avg': {'precision': 0.7375906708772872, 'recall': 0.6683168316831684, 'f1-score': 0.6714528131553787, 'support': 606.0}}</td>\n",
              "    </tr>\n",
              "    <tr>\n",
              "      <td>2</td>\n",
              "      <td>0.103800</td>\n",
              "      <td>0.949072</td>\n",
              "      <td>0.744035</td>\n",
              "      <td>{np.str_('Irrelevant'): {'precision': 0.8881987577639752, 'recall': 0.7185929648241206, 'f1-score': 0.7944444444444444, 'support': 199.0}, np.str_('Smart Economy'): {'precision': 0.6794871794871795, 'recall': 0.8688524590163934, 'f1-score': 0.762589928057554, 'support': 61.0}, np.str_('Smart Environment'): {'precision': 0.746031746031746, 'recall': 0.8867924528301887, 'f1-score': 0.8103448275862069, 'support': 53.0}, np.str_('Smart Governance'): {'precision': 0.746268656716418, 'recall': 0.6896551724137931, 'f1-score': 0.7168458781362007, 'support': 145.0}, np.str_('Smart Living'): {'precision': 0.5844155844155844, 'recall': 0.7894736842105263, 'f1-score': 0.6716417910447762, 'support': 57.0}, np.str_('Smart Mobility'): {'precision': 0.7457627118644068, 'recall': 0.8301886792452831, 'f1-score': 0.7857142857142857, 'support': 53.0}, np.str_('Smart People'): {'precision': 0.7058823529411765, 'recall': 0.631578947368421, 'f1-score': 0.6666666666666666, 'support': 38.0}, 'accuracy': 0.7524752475247525, 'macro avg': {'precision': 0.7280067127457838, 'recall': 0.7735906228441037, 'f1-score': 0.7440354030928764, 'support': 606.0}, 'weighted avg': {'precision': 0.7683325906923741, 'recall': 0.7524752475247525, 'f1-score': 0.7537345392962309, 'support': 606.0}}</td>\n",
              "    </tr>\n",
              "    <tr>\n",
              "      <td>3</td>\n",
              "      <td>0.020000</td>\n",
              "      <td>1.102652</td>\n",
              "      <td>0.715186</td>\n",
              "      <td>{np.str_('Irrelevant'): {'precision': 0.8596491228070176, 'recall': 0.7386934673366834, 'f1-score': 0.7945945945945946, 'support': 199.0}, np.str_('Smart Economy'): {'precision': 0.7954545454545454, 'recall': 0.5737704918032787, 'f1-score': 0.6666666666666666, 'support': 61.0}, np.str_('Smart Environment'): {'precision': 0.75, 'recall': 0.8490566037735849, 'f1-score': 0.7964601769911505, 'support': 53.0}, np.str_('Smart Governance'): {'precision': 0.6166666666666667, 'recall': 0.7655172413793103, 'f1-score': 0.683076923076923, 'support': 145.0}, np.str_('Smart Living'): {'precision': 0.6166666666666667, 'recall': 0.6491228070175439, 'f1-score': 0.6324786324786325, 'support': 57.0}, np.str_('Smart Mobility'): {'precision': 0.7592592592592593, 'recall': 0.7735849056603774, 'f1-score': 0.7663551401869159, 'support': 53.0}, np.str_('Smart People'): {'precision': 0.6756756756756757, 'recall': 0.6578947368421053, 'f1-score': 0.6666666666666666, 'support': 38.0}, 'accuracy': 0.7277227722772277, 'macro avg': {'precision': 0.7247674195042616, 'recall': 0.7153771791161263, 'f1-score': 0.71518554295165, 'support': 606.0}, 'weighted avg': {'precision': 0.7422871052712984, 'recall': 0.7277227722772277, 'f1-score': 0.729457049558082, 'support': 606.0}}</td>\n",
              "    </tr>\n",
              "    <tr>\n",
              "      <td>4</td>\n",
              "      <td>0.052100</td>\n",
              "      <td>1.190307</td>\n",
              "      <td>0.735491</td>\n",
              "      <td>{np.str_('Irrelevant'): {'precision': 0.8324324324324325, 'recall': 0.7738693467336684, 'f1-score': 0.8020833333333334, 'support': 199.0}, np.str_('Smart Economy'): {'precision': 0.8076923076923077, 'recall': 0.6885245901639344, 'f1-score': 0.7433628318584071, 'support': 61.0}, np.str_('Smart Environment'): {'precision': 0.8035714285714286, 'recall': 0.8490566037735849, 'f1-score': 0.8256880733944955, 'support': 53.0}, np.str_('Smart Governance'): {'precision': 0.6529411764705882, 'recall': 0.7655172413793103, 'f1-score': 0.7047619047619048, 'support': 145.0}, np.str_('Smart Living'): {'precision': 0.6666666666666666, 'recall': 0.631578947368421, 'f1-score': 0.6486486486486487, 'support': 57.0}, np.str_('Smart Mobility'): {'precision': 0.7592592592592593, 'recall': 0.7735849056603774, 'f1-score': 0.7663551401869159, 'support': 53.0}, np.str_('Smart People'): {'precision': 0.6857142857142857, 'recall': 0.631578947368421, 'f1-score': 0.6575342465753424, 'support': 38.0}, 'accuracy': 0.7475247524752475, 'macro avg': {'precision': 0.7440396509724242, 'recall': 0.7305300832068168, 'f1-score': 0.7354905969655782, 'support': 606.0}, 'weighted avg': {'precision': 0.7532787536694545, 'recall': 0.7475247524752475, 'f1-score': 0.748329631897398, 'support': 606.0}}</td>\n",
              "    </tr>\n",
              "    <tr>\n",
              "      <td>5</td>\n",
              "      <td>0.018400</td>\n",
              "      <td>1.247926</td>\n",
              "      <td>0.730803</td>\n",
              "      <td>{np.str_('Irrelevant'): {'precision': 0.847457627118644, 'recall': 0.7537688442211056, 'f1-score': 0.7978723404255319, 'support': 199.0}, np.str_('Smart Economy'): {'precision': 0.7636363636363637, 'recall': 0.6885245901639344, 'f1-score': 0.7241379310344828, 'support': 61.0}, np.str_('Smart Environment'): {'precision': 0.7894736842105263, 'recall': 0.8490566037735849, 'f1-score': 0.8181818181818182, 'support': 53.0}, np.str_('Smart Governance'): {'precision': 0.6491228070175439, 'recall': 0.7655172413793103, 'f1-score': 0.7025316455696202, 'support': 145.0}, np.str_('Smart Living'): {'precision': 0.6666666666666666, 'recall': 0.631578947368421, 'f1-score': 0.6486486486486487, 'support': 57.0}, np.str_('Smart Mobility'): {'precision': 0.7592592592592593, 'recall': 0.7735849056603774, 'f1-score': 0.7663551401869159, 'support': 53.0}, np.str_('Smart People'): {'precision': 0.6578947368421053, 'recall': 0.6578947368421053, 'f1-score': 0.6578947368421053, 'support': 38.0}, 'accuracy': 0.7425742574257426, 'macro avg': {'precision': 0.733358734964444, 'recall': 0.73141798134412, 'f1-score': 0.7308031801270175, 'support': 606.0}, 'weighted avg': {'precision': 0.7498870280525922, 'recall': 0.7425742574257426, 'f1-score': 0.7438441087655036, 'support': 606.0}}</td>\n",
              "    </tr>\n",
              "  </tbody>\n",
              "</table><p>"
            ],
            "text/plain": [
              "<IPython.core.display.HTML object>"
            ]
          },
          "metadata": {},
          "output_type": "display_data"
        },
        {
          "metadata": {
            "tags": null
          },
          "name": "stderr",
          "output_type": "stream",
          "text": [
            "Trainer is attempting to log a value of \"{np.str_('Irrelevant'): {'precision': 0.918918918918919, 'recall': 0.5125628140703518, 'f1-score': 0.6580645161290323, 'support': 199.0}, np.str_('Smart Economy'): {'precision': 0.6582278481012658, 'recall': 0.8524590163934426, 'f1-score': 0.7428571428571429, 'support': 61.0}, np.str_('Smart Environment'): {'precision': 0.6923076923076923, 'recall': 0.8490566037735849, 'f1-score': 0.7627118644067796, 'support': 53.0}, np.str_('Smart Governance'): {'precision': 0.7203389830508474, 'recall': 0.5862068965517241, 'f1-score': 0.6463878326996197, 'support': 145.0}, np.str_('Smart Living'): {'precision': 0.3951612903225806, 'recall': 0.8596491228070176, 'f1-score': 0.5414364640883977, 'support': 57.0}, np.str_('Smart Mobility'): {'precision': 0.7258064516129032, 'recall': 0.8490566037735849, 'f1-score': 0.782608695652174, 'support': 53.0}, np.str_('Smart People'): {'precision': 0.574468085106383, 'recall': 0.7105263157894737, 'f1-score': 0.6352941176470588, 'support': 38.0}, 'accuracy': 0.6683168316831684, 'macro avg': {'precision': 0.6693184670600844, 'recall': 0.7456453390227399, 'f1-score': 0.6813372333543148, 'support': 606.0}, 'weighted avg': {'precision': 0.7375906708772872, 'recall': 0.6683168316831684, 'f1-score': 0.6714528131553787, 'support': 606.0}}\" of type <class 'dict'> for key \"eval/detailed_report\" as a scalar. This invocation of Tensorboard's writer.add_scalar() is incorrect so we dropped this attribute.\n",
            "Trainer is attempting to log a value of \"{np.str_('Irrelevant'): {'precision': 0.8881987577639752, 'recall': 0.7185929648241206, 'f1-score': 0.7944444444444444, 'support': 199.0}, np.str_('Smart Economy'): {'precision': 0.6794871794871795, 'recall': 0.8688524590163934, 'f1-score': 0.762589928057554, 'support': 61.0}, np.str_('Smart Environment'): {'precision': 0.746031746031746, 'recall': 0.8867924528301887, 'f1-score': 0.8103448275862069, 'support': 53.0}, np.str_('Smart Governance'): {'precision': 0.746268656716418, 'recall': 0.6896551724137931, 'f1-score': 0.7168458781362007, 'support': 145.0}, np.str_('Smart Living'): {'precision': 0.5844155844155844, 'recall': 0.7894736842105263, 'f1-score': 0.6716417910447762, 'support': 57.0}, np.str_('Smart Mobility'): {'precision': 0.7457627118644068, 'recall': 0.8301886792452831, 'f1-score': 0.7857142857142857, 'support': 53.0}, np.str_('Smart People'): {'precision': 0.7058823529411765, 'recall': 0.631578947368421, 'f1-score': 0.6666666666666666, 'support': 38.0}, 'accuracy': 0.7524752475247525, 'macro avg': {'precision': 0.7280067127457838, 'recall': 0.7735906228441037, 'f1-score': 0.7440354030928764, 'support': 606.0}, 'weighted avg': {'precision': 0.7683325906923741, 'recall': 0.7524752475247525, 'f1-score': 0.7537345392962309, 'support': 606.0}}\" of type <class 'dict'> for key \"eval/detailed_report\" as a scalar. This invocation of Tensorboard's writer.add_scalar() is incorrect so we dropped this attribute.\n",
            "Trainer is attempting to log a value of \"{np.str_('Irrelevant'): {'precision': 0.8596491228070176, 'recall': 0.7386934673366834, 'f1-score': 0.7945945945945946, 'support': 199.0}, np.str_('Smart Economy'): {'precision': 0.7954545454545454, 'recall': 0.5737704918032787, 'f1-score': 0.6666666666666666, 'support': 61.0}, np.str_('Smart Environment'): {'precision': 0.75, 'recall': 0.8490566037735849, 'f1-score': 0.7964601769911505, 'support': 53.0}, np.str_('Smart Governance'): {'precision': 0.6166666666666667, 'recall': 0.7655172413793103, 'f1-score': 0.683076923076923, 'support': 145.0}, np.str_('Smart Living'): {'precision': 0.6166666666666667, 'recall': 0.6491228070175439, 'f1-score': 0.6324786324786325, 'support': 57.0}, np.str_('Smart Mobility'): {'precision': 0.7592592592592593, 'recall': 0.7735849056603774, 'f1-score': 0.7663551401869159, 'support': 53.0}, np.str_('Smart People'): {'precision': 0.6756756756756757, 'recall': 0.6578947368421053, 'f1-score': 0.6666666666666666, 'support': 38.0}, 'accuracy': 0.7277227722772277, 'macro avg': {'precision': 0.7247674195042616, 'recall': 0.7153771791161263, 'f1-score': 0.71518554295165, 'support': 606.0}, 'weighted avg': {'precision': 0.7422871052712984, 'recall': 0.7277227722772277, 'f1-score': 0.729457049558082, 'support': 606.0}}\" of type <class 'dict'> for key \"eval/detailed_report\" as a scalar. This invocation of Tensorboard's writer.add_scalar() is incorrect so we dropped this attribute.\n",
            "Trainer is attempting to log a value of \"{np.str_('Irrelevant'): {'precision': 0.8324324324324325, 'recall': 0.7738693467336684, 'f1-score': 0.8020833333333334, 'support': 199.0}, np.str_('Smart Economy'): {'precision': 0.8076923076923077, 'recall': 0.6885245901639344, 'f1-score': 0.7433628318584071, 'support': 61.0}, np.str_('Smart Environment'): {'precision': 0.8035714285714286, 'recall': 0.8490566037735849, 'f1-score': 0.8256880733944955, 'support': 53.0}, np.str_('Smart Governance'): {'precision': 0.6529411764705882, 'recall': 0.7655172413793103, 'f1-score': 0.7047619047619048, 'support': 145.0}, np.str_('Smart Living'): {'precision': 0.6666666666666666, 'recall': 0.631578947368421, 'f1-score': 0.6486486486486487, 'support': 57.0}, np.str_('Smart Mobility'): {'precision': 0.7592592592592593, 'recall': 0.7735849056603774, 'f1-score': 0.7663551401869159, 'support': 53.0}, np.str_('Smart People'): {'precision': 0.6857142857142857, 'recall': 0.631578947368421, 'f1-score': 0.6575342465753424, 'support': 38.0}, 'accuracy': 0.7475247524752475, 'macro avg': {'precision': 0.7440396509724242, 'recall': 0.7305300832068168, 'f1-score': 0.7354905969655782, 'support': 606.0}, 'weighted avg': {'precision': 0.7532787536694545, 'recall': 0.7475247524752475, 'f1-score': 0.748329631897398, 'support': 606.0}}\" of type <class 'dict'> for key \"eval/detailed_report\" as a scalar. This invocation of Tensorboard's writer.add_scalar() is incorrect so we dropped this attribute.\n",
            "Trainer is attempting to log a value of \"{np.str_('Irrelevant'): {'precision': 0.847457627118644, 'recall': 0.7537688442211056, 'f1-score': 0.7978723404255319, 'support': 199.0}, np.str_('Smart Economy'): {'precision': 0.7636363636363637, 'recall': 0.6885245901639344, 'f1-score': 0.7241379310344828, 'support': 61.0}, np.str_('Smart Environment'): {'precision': 0.7894736842105263, 'recall': 0.8490566037735849, 'f1-score': 0.8181818181818182, 'support': 53.0}, np.str_('Smart Governance'): {'precision': 0.6491228070175439, 'recall': 0.7655172413793103, 'f1-score': 0.7025316455696202, 'support': 145.0}, np.str_('Smart Living'): {'precision': 0.6666666666666666, 'recall': 0.631578947368421, 'f1-score': 0.6486486486486487, 'support': 57.0}, np.str_('Smart Mobility'): {'precision': 0.7592592592592593, 'recall': 0.7735849056603774, 'f1-score': 0.7663551401869159, 'support': 53.0}, np.str_('Smart People'): {'precision': 0.6578947368421053, 'recall': 0.6578947368421053, 'f1-score': 0.6578947368421053, 'support': 38.0}, 'accuracy': 0.7425742574257426, 'macro avg': {'precision': 0.733358734964444, 'recall': 0.73141798134412, 'f1-score': 0.7308031801270175, 'support': 606.0}, 'weighted avg': {'precision': 0.7498870280525922, 'recall': 0.7425742574257426, 'f1-score': 0.7438441087655036, 'support': 606.0}}\" of type <class 'dict'> for key \"eval/detailed_report\" as a scalar. This invocation of Tensorboard's writer.add_scalar() is incorrect so we dropped this attribute.\n"
          ]
        },
        {
          "data": {
            "text/html": [
              "\n",
              "    <div>\n",
              "      \n",
              "      <progress value='38' max='38' style='width:300px; height:20px; vertical-align: middle;'></progress>\n",
              "      [38/38 00:02]\n",
              "    </div>\n",
              "    "
            ],
            "text/plain": [
              "<IPython.core.display.HTML object>"
            ]
          },
          "metadata": {},
          "output_type": "display_data"
        },
        {
          "metadata": {
            "tags": null
          },
          "name": "stderr",
          "output_type": "stream",
          "text": [
            "Trainer is attempting to log a value of \"{np.str_('Irrelevant'): {'precision': 0.8881987577639752, 'recall': 0.7185929648241206, 'f1-score': 0.7944444444444444, 'support': 199.0}, np.str_('Smart Economy'): {'precision': 0.6794871794871795, 'recall': 0.8688524590163934, 'f1-score': 0.762589928057554, 'support': 61.0}, np.str_('Smart Environment'): {'precision': 0.746031746031746, 'recall': 0.8867924528301887, 'f1-score': 0.8103448275862069, 'support': 53.0}, np.str_('Smart Governance'): {'precision': 0.746268656716418, 'recall': 0.6896551724137931, 'f1-score': 0.7168458781362007, 'support': 145.0}, np.str_('Smart Living'): {'precision': 0.5844155844155844, 'recall': 0.7894736842105263, 'f1-score': 0.6716417910447762, 'support': 57.0}, np.str_('Smart Mobility'): {'precision': 0.7457627118644068, 'recall': 0.8301886792452831, 'f1-score': 0.7857142857142857, 'support': 53.0}, np.str_('Smart People'): {'precision': 0.7058823529411765, 'recall': 0.631578947368421, 'f1-score': 0.6666666666666666, 'support': 38.0}, 'accuracy': 0.7524752475247525, 'macro avg': {'precision': 0.7280067127457838, 'recall': 0.7735906228441037, 'f1-score': 0.7440354030928764, 'support': 606.0}, 'weighted avg': {'precision': 0.7683325906923741, 'recall': 0.7524752475247525, 'f1-score': 0.7537345392962309, 'support': 606.0}}\" of type <class 'dict'> for key \"eval/detailed_report\" as a scalar. This invocation of Tensorboard's writer.add_scalar() is incorrect so we dropped this attribute.\n"
          ]
        },
        {
          "metadata": {
            "tags": null
          },
          "name": "stdout",
          "output_type": "stream",
          "text": [
            "Fold 3 complete. Evaluation results: {'eval_loss': 0.9490715265274048, 'eval_macro_f1': 0.7440354030928764, 'eval_detailed_report': {np.str_('Irrelevant'): {'precision': 0.8881987577639752, 'recall': 0.7185929648241206, 'f1-score': 0.7944444444444444, 'support': 199.0}, np.str_('Smart Economy'): {'precision': 0.6794871794871795, 'recall': 0.8688524590163934, 'f1-score': 0.762589928057554, 'support': 61.0}, np.str_('Smart Environment'): {'precision': 0.746031746031746, 'recall': 0.8867924528301887, 'f1-score': 0.8103448275862069, 'support': 53.0}, np.str_('Smart Governance'): {'precision': 0.746268656716418, 'recall': 0.6896551724137931, 'f1-score': 0.7168458781362007, 'support': 145.0}, np.str_('Smart Living'): {'precision': 0.5844155844155844, 'recall': 0.7894736842105263, 'f1-score': 0.6716417910447762, 'support': 57.0}, np.str_('Smart Mobility'): {'precision': 0.7457627118644068, 'recall': 0.8301886792452831, 'f1-score': 0.7857142857142857, 'support': 53.0}, np.str_('Smart People'): {'precision': 0.7058823529411765, 'recall': 0.631578947368421, 'f1-score': 0.6666666666666666, 'support': 38.0}, 'accuracy': 0.7524752475247525, 'macro avg': {'precision': 0.7280067127457838, 'recall': 0.7735906228441037, 'f1-score': 0.7440354030928764, 'support': 606.0}, 'weighted avg': {'precision': 0.7683325906923741, 'recall': 0.7524752475247525, 'f1-score': 0.7537345392962309, 'support': 606.0}}, 'eval_runtime': 2.3768, 'eval_samples_per_second': 254.965, 'eval_steps_per_second': 15.988, 'epoch': 5.0}\n",
            "--- Running Fold 4/5 ---\n"
          ]
        },
        {
          "metadata": {
            "tags": null
          },
          "name": "stderr",
          "output_type": "stream",
          "text": [
            "Some weights of BertForSequenceClassification were not initialized from the model checkpoint at indolem/indobertweet-base-uncased and are newly initialized: ['classifier.bias', 'classifier.weight']\n",
            "You should probably TRAIN this model on a down-stream task to be able to use it for predictions and inference.\n"
          ]
        },
        {
          "data": {
            "text/html": [
              "\n",
              "    <div>\n",
              "      \n",
              "      <progress value='1740' max='1740' style='width:300px; height:20px; vertical-align: middle;'></progress>\n",
              "      [1740/1740 08:00, Epoch 5/5]\n",
              "    </div>\n",
              "    <table border=\"1\" class=\"dataframe\">\n",
              "  <thead>\n",
              " <tr style=\"text-align: left;\">\n",
              "      <th>Epoch</th>\n",
              "      <th>Training Loss</th>\n",
              "      <th>Validation Loss</th>\n",
              "      <th>Macro F1</th>\n",
              "      <th>Detailed Report</th>\n",
              "    </tr>\n",
              "  </thead>\n",
              "  <tbody>\n",
              "    <tr>\n",
              "      <td>1</td>\n",
              "      <td>0.385700</td>\n",
              "      <td>1.101961</td>\n",
              "      <td>0.632541</td>\n",
              "      <td>{np.str_('Irrelevant'): {'precision': 0.921875, 'recall': 0.29797979797979796, 'f1-score': 0.45038167938931295, 'support': 198.0}, np.str_('Smart Economy'): {'precision': 0.5151515151515151, 'recall': 0.8225806451612904, 'f1-score': 0.6335403726708074, 'support': 62.0}, np.str_('Smart Environment'): {'precision': 0.7230769230769231, 'recall': 0.8867924528301887, 'f1-score': 0.7966101694915254, 'support': 53.0}, np.str_('Smart Governance'): {'precision': 0.6507936507936508, 'recall': 0.5694444444444444, 'f1-score': 0.6074074074074074, 'support': 144.0}, np.str_('Smart Living'): {'precision': 0.4174757281553398, 'recall': 0.7543859649122807, 'f1-score': 0.5375, 'support': 57.0}, np.str_('Smart Mobility'): {'precision': 0.684931506849315, 'recall': 0.9433962264150944, 'f1-score': 0.7936507936507936, 'support': 53.0}, np.str_('Smart People'): {'precision': 0.4605263157894737, 'recall': 0.8974358974358975, 'f1-score': 0.6086956521739131, 'support': 39.0}, 'accuracy': 0.6056105610561056, 'macro avg': {'precision': 0.6248329485451739, 'recall': 0.7388593470255707, 'f1-score': 0.6325408678262515, 'support': 606.0}, 'weighted avg': {'precision': 0.7006039921789012, 'recall': 0.6056105610561056, 'f1-score': 0.5851191481397132, 'support': 606.0}}</td>\n",
              "    </tr>\n",
              "    <tr>\n",
              "      <td>2</td>\n",
              "      <td>0.101000</td>\n",
              "      <td>0.784191</td>\n",
              "      <td>0.750577</td>\n",
              "      <td>{np.str_('Irrelevant'): {'precision': 0.8081395348837209, 'recall': 0.702020202020202, 'f1-score': 0.7513513513513513, 'support': 198.0}, np.str_('Smart Economy'): {'precision': 0.6410256410256411, 'recall': 0.8064516129032258, 'f1-score': 0.7142857142857143, 'support': 62.0}, np.str_('Smart Environment'): {'precision': 0.851063829787234, 'recall': 0.7547169811320755, 'f1-score': 0.8, 'support': 53.0}, np.str_('Smart Governance'): {'precision': 0.725, 'recall': 0.8055555555555556, 'f1-score': 0.7631578947368421, 'support': 144.0}, np.str_('Smart Living'): {'precision': 0.6938775510204082, 'recall': 0.5964912280701754, 'f1-score': 0.6415094339622641, 'support': 57.0}, np.str_('Smart Mobility'): {'precision': 0.8, 'recall': 0.9056603773584906, 'f1-score': 0.8495575221238938, 'support': 53.0}, np.str_('Smart People'): {'precision': 0.725, 'recall': 0.7435897435897436, 'f1-score': 0.7341772151898734, 'support': 39.0}, 'accuracy': 0.7524752475247525, 'macro avg': {'precision': 0.7491580795310006, 'recall': 0.7592122429470669, 'f1-score': 0.7505770188071342, 'support': 606.0}, 'weighted avg': {'precision': 0.7582303977515727, 'recall': 0.7524752475247525, 'f1-score': 0.7517714793666792, 'support': 606.0}}</td>\n",
              "    </tr>\n",
              "    <tr>\n",
              "      <td>3</td>\n",
              "      <td>0.034300</td>\n",
              "      <td>0.984032</td>\n",
              "      <td>0.725187</td>\n",
              "      <td>{np.str_('Irrelevant'): {'precision': 0.8482758620689655, 'recall': 0.6212121212121212, 'f1-score': 0.717201166180758, 'support': 198.0}, np.str_('Smart Economy'): {'precision': 0.6875, 'recall': 0.7096774193548387, 'f1-score': 0.6984126984126984, 'support': 62.0}, np.str_('Smart Environment'): {'precision': 0.7288135593220338, 'recall': 0.8113207547169812, 'f1-score': 0.7678571428571429, 'support': 53.0}, np.str_('Smart Governance'): {'precision': 0.6436170212765957, 'recall': 0.8402777777777778, 'f1-score': 0.7289156626506024, 'support': 144.0}, np.str_('Smart Living'): {'precision': 0.6122448979591837, 'recall': 0.5263157894736842, 'f1-score': 0.5660377358490566, 'support': 57.0}, np.str_('Smart Mobility'): {'precision': 0.8135593220338984, 'recall': 0.9056603773584906, 'f1-score': 0.8571428571428571, 'support': 53.0}, np.str_('Smart People'): {'precision': 0.7142857142857143, 'recall': 0.7692307692307693, 'f1-score': 0.7407407407407407, 'support': 39.0}, 'accuracy': 0.7244224422442245, 'macro avg': {'precision': 0.7211851967066274, 'recall': 0.7405278584463805, 'f1-score': 0.7251868576905508, 'support': 606.0}, 'weighted avg': {'precision': 0.7388866939045639, 'recall': 0.7244224422442245, 'f1-score': 0.7220285700649328, 'support': 606.0}}</td>\n",
              "    </tr>\n",
              "    <tr>\n",
              "      <td>4</td>\n",
              "      <td>0.019200</td>\n",
              "      <td>1.105662</td>\n",
              "      <td>0.752984</td>\n",
              "      <td>{np.str_('Irrelevant'): {'precision': 0.8791946308724832, 'recall': 0.6616161616161617, 'f1-score': 0.7550432276657061, 'support': 198.0}, np.str_('Smart Economy'): {'precision': 0.6410256410256411, 'recall': 0.8064516129032258, 'f1-score': 0.7142857142857143, 'support': 62.0}, np.str_('Smart Environment'): {'precision': 0.8125, 'recall': 0.7358490566037735, 'f1-score': 0.7722772277227723, 'support': 53.0}, np.str_('Smart Governance'): {'precision': 0.7023809523809523, 'recall': 0.8194444444444444, 'f1-score': 0.7564102564102564, 'support': 144.0}, np.str_('Smart Living'): {'precision': 0.639344262295082, 'recall': 0.6842105263157895, 'f1-score': 0.6610169491525424, 'support': 57.0}, np.str_('Smart Mobility'): {'precision': 0.8275862068965517, 'recall': 0.9056603773584906, 'f1-score': 0.8648648648648649, 'support': 53.0}, np.str_('Smart People'): {'precision': 0.7045454545454546, 'recall': 0.7948717948717948, 'f1-score': 0.7469879518072289, 'support': 39.0}, 'accuracy': 0.7524752475247525, 'macro avg': {'precision': 0.7437967354308805, 'recall': 0.77258628201624, 'f1-score': 0.7529837417012979, 'support': 606.0}, 'weighted avg': {'precision': 0.768665756506284, 'recall': 0.7524752475247525, 'f1-score': 0.7529478175180241, 'support': 606.0}}</td>\n",
              "    </tr>\n",
              "    <tr>\n",
              "      <td>5</td>\n",
              "      <td>0.010300</td>\n",
              "      <td>1.040038</td>\n",
              "      <td>0.764670</td>\n",
              "      <td>{np.str_('Irrelevant'): {'precision': 0.8421052631578947, 'recall': 0.7272727272727273, 'f1-score': 0.7804878048780488, 'support': 198.0}, np.str_('Smart Economy'): {'precision': 0.6911764705882353, 'recall': 0.7580645161290323, 'f1-score': 0.7230769230769231, 'support': 62.0}, np.str_('Smart Environment'): {'precision': 0.7777777777777778, 'recall': 0.7924528301886793, 'f1-score': 0.7850467289719626, 'support': 53.0}, np.str_('Smart Governance'): {'precision': 0.740506329113924, 'recall': 0.8125, 'f1-score': 0.7748344370860927, 'support': 144.0}, np.str_('Smart Living'): {'precision': 0.6851851851851852, 'recall': 0.6491228070175439, 'f1-score': 0.6666666666666666, 'support': 57.0}, np.str_('Smart Mobility'): {'precision': 0.8135593220338984, 'recall': 0.9056603773584906, 'f1-score': 0.8571428571428571, 'support': 53.0}, np.str_('Smart People'): {'precision': 0.7380952380952381, 'recall': 0.7948717948717948, 'f1-score': 0.7654320987654321, 'support': 39.0}, 'accuracy': 0.768976897689769, 'macro avg': {'precision': 0.7554865122788791, 'recall': 0.777135007548324, 'f1-score': 0.7646696452268547, 'support': 606.0}, 'weighted avg': {'precision': 0.7729452653554908, 'recall': 0.768976897689769, 'f1-score': 0.7686987020675866, 'support': 606.0}}</td>\n",
              "    </tr>\n",
              "  </tbody>\n",
              "</table><p>"
            ],
            "text/plain": [
              "<IPython.core.display.HTML object>"
            ]
          },
          "metadata": {},
          "output_type": "display_data"
        },
        {
          "metadata": {
            "tags": null
          },
          "name": "stderr",
          "output_type": "stream",
          "text": [
            "Trainer is attempting to log a value of \"{np.str_('Irrelevant'): {'precision': 0.921875, 'recall': 0.29797979797979796, 'f1-score': 0.45038167938931295, 'support': 198.0}, np.str_('Smart Economy'): {'precision': 0.5151515151515151, 'recall': 0.8225806451612904, 'f1-score': 0.6335403726708074, 'support': 62.0}, np.str_('Smart Environment'): {'precision': 0.7230769230769231, 'recall': 0.8867924528301887, 'f1-score': 0.7966101694915254, 'support': 53.0}, np.str_('Smart Governance'): {'precision': 0.6507936507936508, 'recall': 0.5694444444444444, 'f1-score': 0.6074074074074074, 'support': 144.0}, np.str_('Smart Living'): {'precision': 0.4174757281553398, 'recall': 0.7543859649122807, 'f1-score': 0.5375, 'support': 57.0}, np.str_('Smart Mobility'): {'precision': 0.684931506849315, 'recall': 0.9433962264150944, 'f1-score': 0.7936507936507936, 'support': 53.0}, np.str_('Smart People'): {'precision': 0.4605263157894737, 'recall': 0.8974358974358975, 'f1-score': 0.6086956521739131, 'support': 39.0}, 'accuracy': 0.6056105610561056, 'macro avg': {'precision': 0.6248329485451739, 'recall': 0.7388593470255707, 'f1-score': 0.6325408678262515, 'support': 606.0}, 'weighted avg': {'precision': 0.7006039921789012, 'recall': 0.6056105610561056, 'f1-score': 0.5851191481397132, 'support': 606.0}}\" of type <class 'dict'> for key \"eval/detailed_report\" as a scalar. This invocation of Tensorboard's writer.add_scalar() is incorrect so we dropped this attribute.\n",
            "Trainer is attempting to log a value of \"{np.str_('Irrelevant'): {'precision': 0.8081395348837209, 'recall': 0.702020202020202, 'f1-score': 0.7513513513513513, 'support': 198.0}, np.str_('Smart Economy'): {'precision': 0.6410256410256411, 'recall': 0.8064516129032258, 'f1-score': 0.7142857142857143, 'support': 62.0}, np.str_('Smart Environment'): {'precision': 0.851063829787234, 'recall': 0.7547169811320755, 'f1-score': 0.8, 'support': 53.0}, np.str_('Smart Governance'): {'precision': 0.725, 'recall': 0.8055555555555556, 'f1-score': 0.7631578947368421, 'support': 144.0}, np.str_('Smart Living'): {'precision': 0.6938775510204082, 'recall': 0.5964912280701754, 'f1-score': 0.6415094339622641, 'support': 57.0}, np.str_('Smart Mobility'): {'precision': 0.8, 'recall': 0.9056603773584906, 'f1-score': 0.8495575221238938, 'support': 53.0}, np.str_('Smart People'): {'precision': 0.725, 'recall': 0.7435897435897436, 'f1-score': 0.7341772151898734, 'support': 39.0}, 'accuracy': 0.7524752475247525, 'macro avg': {'precision': 0.7491580795310006, 'recall': 0.7592122429470669, 'f1-score': 0.7505770188071342, 'support': 606.0}, 'weighted avg': {'precision': 0.7582303977515727, 'recall': 0.7524752475247525, 'f1-score': 0.7517714793666792, 'support': 606.0}}\" of type <class 'dict'> for key \"eval/detailed_report\" as a scalar. This invocation of Tensorboard's writer.add_scalar() is incorrect so we dropped this attribute.\n",
            "Trainer is attempting to log a value of \"{np.str_('Irrelevant'): {'precision': 0.8482758620689655, 'recall': 0.6212121212121212, 'f1-score': 0.717201166180758, 'support': 198.0}, np.str_('Smart Economy'): {'precision': 0.6875, 'recall': 0.7096774193548387, 'f1-score': 0.6984126984126984, 'support': 62.0}, np.str_('Smart Environment'): {'precision': 0.7288135593220338, 'recall': 0.8113207547169812, 'f1-score': 0.7678571428571429, 'support': 53.0}, np.str_('Smart Governance'): {'precision': 0.6436170212765957, 'recall': 0.8402777777777778, 'f1-score': 0.7289156626506024, 'support': 144.0}, np.str_('Smart Living'): {'precision': 0.6122448979591837, 'recall': 0.5263157894736842, 'f1-score': 0.5660377358490566, 'support': 57.0}, np.str_('Smart Mobility'): {'precision': 0.8135593220338984, 'recall': 0.9056603773584906, 'f1-score': 0.8571428571428571, 'support': 53.0}, np.str_('Smart People'): {'precision': 0.7142857142857143, 'recall': 0.7692307692307693, 'f1-score': 0.7407407407407407, 'support': 39.0}, 'accuracy': 0.7244224422442245, 'macro avg': {'precision': 0.7211851967066274, 'recall': 0.7405278584463805, 'f1-score': 0.7251868576905508, 'support': 606.0}, 'weighted avg': {'precision': 0.7388866939045639, 'recall': 0.7244224422442245, 'f1-score': 0.7220285700649328, 'support': 606.0}}\" of type <class 'dict'> for key \"eval/detailed_report\" as a scalar. This invocation of Tensorboard's writer.add_scalar() is incorrect so we dropped this attribute.\n",
            "Trainer is attempting to log a value of \"{np.str_('Irrelevant'): {'precision': 0.8791946308724832, 'recall': 0.6616161616161617, 'f1-score': 0.7550432276657061, 'support': 198.0}, np.str_('Smart Economy'): {'precision': 0.6410256410256411, 'recall': 0.8064516129032258, 'f1-score': 0.7142857142857143, 'support': 62.0}, np.str_('Smart Environment'): {'precision': 0.8125, 'recall': 0.7358490566037735, 'f1-score': 0.7722772277227723, 'support': 53.0}, np.str_('Smart Governance'): {'precision': 0.7023809523809523, 'recall': 0.8194444444444444, 'f1-score': 0.7564102564102564, 'support': 144.0}, np.str_('Smart Living'): {'precision': 0.639344262295082, 'recall': 0.6842105263157895, 'f1-score': 0.6610169491525424, 'support': 57.0}, np.str_('Smart Mobility'): {'precision': 0.8275862068965517, 'recall': 0.9056603773584906, 'f1-score': 0.8648648648648649, 'support': 53.0}, np.str_('Smart People'): {'precision': 0.7045454545454546, 'recall': 0.7948717948717948, 'f1-score': 0.7469879518072289, 'support': 39.0}, 'accuracy': 0.7524752475247525, 'macro avg': {'precision': 0.7437967354308805, 'recall': 0.77258628201624, 'f1-score': 0.7529837417012979, 'support': 606.0}, 'weighted avg': {'precision': 0.768665756506284, 'recall': 0.7524752475247525, 'f1-score': 0.7529478175180241, 'support': 606.0}}\" of type <class 'dict'> for key \"eval/detailed_report\" as a scalar. This invocation of Tensorboard's writer.add_scalar() is incorrect so we dropped this attribute.\n",
            "Trainer is attempting to log a value of \"{np.str_('Irrelevant'): {'precision': 0.8421052631578947, 'recall': 0.7272727272727273, 'f1-score': 0.7804878048780488, 'support': 198.0}, np.str_('Smart Economy'): {'precision': 0.6911764705882353, 'recall': 0.7580645161290323, 'f1-score': 0.7230769230769231, 'support': 62.0}, np.str_('Smart Environment'): {'precision': 0.7777777777777778, 'recall': 0.7924528301886793, 'f1-score': 0.7850467289719626, 'support': 53.0}, np.str_('Smart Governance'): {'precision': 0.740506329113924, 'recall': 0.8125, 'f1-score': 0.7748344370860927, 'support': 144.0}, np.str_('Smart Living'): {'precision': 0.6851851851851852, 'recall': 0.6491228070175439, 'f1-score': 0.6666666666666666, 'support': 57.0}, np.str_('Smart Mobility'): {'precision': 0.8135593220338984, 'recall': 0.9056603773584906, 'f1-score': 0.8571428571428571, 'support': 53.0}, np.str_('Smart People'): {'precision': 0.7380952380952381, 'recall': 0.7948717948717948, 'f1-score': 0.7654320987654321, 'support': 39.0}, 'accuracy': 0.768976897689769, 'macro avg': {'precision': 0.7554865122788791, 'recall': 0.777135007548324, 'f1-score': 0.7646696452268547, 'support': 606.0}, 'weighted avg': {'precision': 0.7729452653554908, 'recall': 0.768976897689769, 'f1-score': 0.7686987020675866, 'support': 606.0}}\" of type <class 'dict'> for key \"eval/detailed_report\" as a scalar. This invocation of Tensorboard's writer.add_scalar() is incorrect so we dropped this attribute.\n"
          ]
        },
        {
          "data": {
            "text/html": [
              "\n",
              "    <div>\n",
              "      \n",
              "      <progress value='38' max='38' style='width:300px; height:20px; vertical-align: middle;'></progress>\n",
              "      [38/38 00:02]\n",
              "    </div>\n",
              "    "
            ],
            "text/plain": [
              "<IPython.core.display.HTML object>"
            ]
          },
          "metadata": {},
          "output_type": "display_data"
        },
        {
          "metadata": {
            "tags": null
          },
          "name": "stderr",
          "output_type": "stream",
          "text": [
            "Trainer is attempting to log a value of \"{np.str_('Irrelevant'): {'precision': 0.8421052631578947, 'recall': 0.7272727272727273, 'f1-score': 0.7804878048780488, 'support': 198.0}, np.str_('Smart Economy'): {'precision': 0.6911764705882353, 'recall': 0.7580645161290323, 'f1-score': 0.7230769230769231, 'support': 62.0}, np.str_('Smart Environment'): {'precision': 0.7777777777777778, 'recall': 0.7924528301886793, 'f1-score': 0.7850467289719626, 'support': 53.0}, np.str_('Smart Governance'): {'precision': 0.740506329113924, 'recall': 0.8125, 'f1-score': 0.7748344370860927, 'support': 144.0}, np.str_('Smart Living'): {'precision': 0.6851851851851852, 'recall': 0.6491228070175439, 'f1-score': 0.6666666666666666, 'support': 57.0}, np.str_('Smart Mobility'): {'precision': 0.8135593220338984, 'recall': 0.9056603773584906, 'f1-score': 0.8571428571428571, 'support': 53.0}, np.str_('Smart People'): {'precision': 0.7380952380952381, 'recall': 0.7948717948717948, 'f1-score': 0.7654320987654321, 'support': 39.0}, 'accuracy': 0.768976897689769, 'macro avg': {'precision': 0.7554865122788791, 'recall': 0.777135007548324, 'f1-score': 0.7646696452268547, 'support': 606.0}, 'weighted avg': {'precision': 0.7729452653554908, 'recall': 0.768976897689769, 'f1-score': 0.7686987020675866, 'support': 606.0}}\" of type <class 'dict'> for key \"eval/detailed_report\" as a scalar. This invocation of Tensorboard's writer.add_scalar() is incorrect so we dropped this attribute.\n"
          ]
        },
        {
          "metadata": {
            "tags": null
          },
          "name": "stdout",
          "output_type": "stream",
          "text": [
            "Fold 4 complete. Evaluation results: {'eval_loss': 1.0400376319885254, 'eval_macro_f1': 0.7646696452268547, 'eval_detailed_report': {np.str_('Irrelevant'): {'precision': 0.8421052631578947, 'recall': 0.7272727272727273, 'f1-score': 0.7804878048780488, 'support': 198.0}, np.str_('Smart Economy'): {'precision': 0.6911764705882353, 'recall': 0.7580645161290323, 'f1-score': 0.7230769230769231, 'support': 62.0}, np.str_('Smart Environment'): {'precision': 0.7777777777777778, 'recall': 0.7924528301886793, 'f1-score': 0.7850467289719626, 'support': 53.0}, np.str_('Smart Governance'): {'precision': 0.740506329113924, 'recall': 0.8125, 'f1-score': 0.7748344370860927, 'support': 144.0}, np.str_('Smart Living'): {'precision': 0.6851851851851852, 'recall': 0.6491228070175439, 'f1-score': 0.6666666666666666, 'support': 57.0}, np.str_('Smart Mobility'): {'precision': 0.8135593220338984, 'recall': 0.9056603773584906, 'f1-score': 0.8571428571428571, 'support': 53.0}, np.str_('Smart People'): {'precision': 0.7380952380952381, 'recall': 0.7948717948717948, 'f1-score': 0.7654320987654321, 'support': 39.0}, 'accuracy': 0.768976897689769, 'macro avg': {'precision': 0.7554865122788791, 'recall': 0.777135007548324, 'f1-score': 0.7646696452268547, 'support': 606.0}, 'weighted avg': {'precision': 0.7729452653554908, 'recall': 0.768976897689769, 'f1-score': 0.7686987020675866, 'support': 606.0}}, 'eval_runtime': 2.2912, 'eval_samples_per_second': 264.488, 'eval_steps_per_second': 16.585, 'epoch': 5.0}\n",
            "--- Running Fold 5/5 ---\n"
          ]
        },
        {
          "metadata": {
            "tags": null
          },
          "name": "stderr",
          "output_type": "stream",
          "text": [
            "Some weights of BertForSequenceClassification were not initialized from the model checkpoint at indolem/indobertweet-base-uncased and are newly initialized: ['classifier.bias', 'classifier.weight']\n",
            "You should probably TRAIN this model on a down-stream task to be able to use it for predictions and inference.\n"
          ]
        },
        {
          "data": {
            "text/html": [
              "\n",
              "    <div>\n",
              "      \n",
              "      <progress value='1740' max='1740' style='width:300px; height:20px; vertical-align: middle;'></progress>\n",
              "      [1740/1740 08:04, Epoch 5/5]\n",
              "    </div>\n",
              "    <table border=\"1\" class=\"dataframe\">\n",
              "  <thead>\n",
              " <tr style=\"text-align: left;\">\n",
              "      <th>Epoch</th>\n",
              "      <th>Training Loss</th>\n",
              "      <th>Validation Loss</th>\n",
              "      <th>Macro F1</th>\n",
              "      <th>Detailed Report</th>\n",
              "    </tr>\n",
              "  </thead>\n",
              "  <tbody>\n",
              "    <tr>\n",
              "      <td>1</td>\n",
              "      <td>0.308400</td>\n",
              "      <td>0.918843</td>\n",
              "      <td>0.702426</td>\n",
              "      <td>{np.str_('Irrelevant'): {'precision': 0.8609271523178808, 'recall': 0.6565656565656566, 'f1-score': 0.7449856733524355, 'support': 198.0}, np.str_('Smart Economy'): {'precision': 0.6, 'recall': 0.8360655737704918, 'f1-score': 0.6986301369863014, 'support': 61.0}, np.str_('Smart Environment'): {'precision': 0.7619047619047619, 'recall': 0.9056603773584906, 'f1-score': 0.8275862068965517, 'support': 53.0}, np.str_('Smart Governance'): {'precision': 0.7678571428571429, 'recall': 0.5972222222222222, 'f1-score': 0.671875, 'support': 144.0}, np.str_('Smart Living'): {'precision': 0.4788732394366197, 'recall': 0.5862068965517241, 'f1-score': 0.5271317829457365, 'support': 58.0}, np.str_('Smart Mobility'): {'precision': 0.75, 'recall': 0.9056603773584906, 'f1-score': 0.8205128205128205, 'support': 53.0}, np.str_('Smart People'): {'precision': 0.5166666666666667, 'recall': 0.7948717948717948, 'f1-score': 0.6262626262626263, 'support': 39.0}, 'accuracy': 0.7062706270627063, 'macro avg': {'precision': 0.6766041375975816, 'recall': 0.7546075569569816, 'f1-score': 0.7024263209937817, 'support': 606.0}, 'weighted avg': {'precision': 0.7354630445522199, 'recall': 0.7062706270627063, 'f1-score': 0.7082850428510536, 'support': 606.0}}</td>\n",
              "    </tr>\n",
              "    <tr>\n",
              "      <td>2</td>\n",
              "      <td>0.133300</td>\n",
              "      <td>0.924008</td>\n",
              "      <td>0.729954</td>\n",
              "      <td>{np.str_('Irrelevant'): {'precision': 0.8125, 'recall': 0.7878787878787878, 'f1-score': 0.8, 'support': 198.0}, np.str_('Smart Economy'): {'precision': 0.6617647058823529, 'recall': 0.7377049180327869, 'f1-score': 0.6976744186046512, 'support': 61.0}, np.str_('Smart Environment'): {'precision': 0.7966101694915254, 'recall': 0.8867924528301887, 'f1-score': 0.8392857142857143, 'support': 53.0}, np.str_('Smart Governance'): {'precision': 0.7412587412587412, 'recall': 0.7361111111111112, 'f1-score': 0.7386759581881533, 'support': 144.0}, np.str_('Smart Living'): {'precision': 0.5686274509803921, 'recall': 0.5, 'f1-score': 0.5321100917431193, 'support': 58.0}, np.str_('Smart Mobility'): {'precision': 0.8214285714285714, 'recall': 0.8679245283018868, 'f1-score': 0.8440366972477065, 'support': 53.0}, np.str_('Smart People'): {'precision': 0.6756756756756757, 'recall': 0.6410256410256411, 'f1-score': 0.6578947368421053, 'support': 39.0}, 'accuracy': 0.7491749174917491, 'macro avg': {'precision': 0.7254093306738941, 'recall': 0.7367767770257718, 'f1-score': 0.7299539452730643, 'support': 606.0}, 'weighted avg': {'precision': 0.7476430735595075, 'recall': 0.7491749174917491, 'f1-score': 0.7476301078930563, 'support': 606.0}}</td>\n",
              "    </tr>\n",
              "    <tr>\n",
              "      <td>3</td>\n",
              "      <td>0.035200</td>\n",
              "      <td>1.081516</td>\n",
              "      <td>0.745827</td>\n",
              "      <td>{np.str_('Irrelevant'): {'precision': 0.8546511627906976, 'recall': 0.7424242424242424, 'f1-score': 0.7945945945945946, 'support': 198.0}, np.str_('Smart Economy'): {'precision': 0.7368421052631579, 'recall': 0.6885245901639344, 'f1-score': 0.711864406779661, 'support': 61.0}, np.str_('Smart Environment'): {'precision': 0.8070175438596491, 'recall': 0.8679245283018868, 'f1-score': 0.8363636363636363, 'support': 53.0}, np.str_('Smart Governance'): {'precision': 0.6946107784431138, 'recall': 0.8055555555555556, 'f1-score': 0.7459807073954984, 'support': 144.0}, np.str_('Smart Living'): {'precision': 0.6470588235294118, 'recall': 0.5689655172413793, 'f1-score': 0.6055045871559633, 'support': 58.0}, np.str_('Smart Mobility'): {'precision': 0.8518518518518519, 'recall': 0.8679245283018868, 'f1-score': 0.8598130841121495, 'support': 53.0}, np.str_('Smart People'): {'precision': 0.6041666666666666, 'recall': 0.7435897435897436, 'f1-score': 0.6666666666666666, 'support': 39.0}, 'accuracy': 0.7574257425742574, 'macro avg': {'precision': 0.7423141332006499, 'recall': 0.7549869579398042, 'f1-score': 0.7458268118668814, 'support': 606.0}, 'weighted avg': {'precision': 0.7643634331465917, 'recall': 0.7574257425742574, 'f1-score': 0.757741440014032, 'support': 606.0}}</td>\n",
              "    </tr>\n",
              "    <tr>\n",
              "      <td>4</td>\n",
              "      <td>0.007200</td>\n",
              "      <td>1.144598</td>\n",
              "      <td>0.750295</td>\n",
              "      <td>{np.str_('Irrelevant'): {'precision': 0.851063829787234, 'recall': 0.8080808080808081, 'f1-score': 0.8290155440414507, 'support': 198.0}, np.str_('Smart Economy'): {'precision': 0.6935483870967742, 'recall': 0.7049180327868853, 'f1-score': 0.6991869918699187, 'support': 61.0}, np.str_('Smart Environment'): {'precision': 0.7833333333333333, 'recall': 0.8867924528301887, 'f1-score': 0.831858407079646, 'support': 53.0}, np.str_('Smart Governance'): {'precision': 0.7586206896551724, 'recall': 0.7638888888888888, 'f1-score': 0.7612456747404844, 'support': 144.0}, np.str_('Smart Living'): {'precision': 0.6101694915254238, 'recall': 0.6206896551724138, 'f1-score': 0.6153846153846154, 'support': 58.0}, np.str_('Smart Mobility'): {'precision': 0.8653846153846154, 'recall': 0.8490566037735849, 'f1-score': 0.8571428571428571, 'support': 53.0}, np.str_('Smart People'): {'precision': 0.65, 'recall': 0.6666666666666666, 'f1-score': 0.6582278481012658, 'support': 39.0}, 'accuracy': 0.7706270627062707, 'macro avg': {'precision': 0.7445886209689362, 'recall': 0.7571561583142052, 'f1-score': 0.7502945626228911, 'support': 606.0}, 'weighted avg': {'precision': 0.7725748366528816, 'recall': 0.7706270627062707, 'f1-score': 0.7711140629685672, 'support': 606.0}}</td>\n",
              "    </tr>\n",
              "    <tr>\n",
              "      <td>5</td>\n",
              "      <td>0.004000</td>\n",
              "      <td>1.186250</td>\n",
              "      <td>0.746299</td>\n",
              "      <td>{np.str_('Irrelevant'): {'precision': 0.8429319371727748, 'recall': 0.8131313131313131, 'f1-score': 0.8277634961439588, 'support': 198.0}, np.str_('Smart Economy'): {'precision': 0.7166666666666667, 'recall': 0.7049180327868853, 'f1-score': 0.7107438016528925, 'support': 61.0}, np.str_('Smart Environment'): {'precision': 0.7833333333333333, 'recall': 0.8867924528301887, 'f1-score': 0.831858407079646, 'support': 53.0}, np.str_('Smart Governance'): {'precision': 0.7692307692307693, 'recall': 0.7638888888888888, 'f1-score': 0.7665505226480837, 'support': 144.0}, np.str_('Smart Living'): {'precision': 0.5806451612903226, 'recall': 0.6206896551724138, 'f1-score': 0.6, 'support': 58.0}, np.str_('Smart Mobility'): {'precision': 0.8627450980392157, 'recall': 0.8301886792452831, 'f1-score': 0.8461538461538461, 'support': 53.0}, np.str_('Smart People'): {'precision': 0.6410256410256411, 'recall': 0.6410256410256411, 'f1-score': 0.6410256410256411, 'support': 39.0}, 'accuracy': 0.768976897689769, 'macro avg': {'precision': 0.7423683723941032, 'recall': 0.7515192375829448, 'f1-score': 0.7462993878148669, 'support': 606.0}, 'weighted avg': {'precision': 0.77113200860345, 'recall': 0.768976897689769, 'f1-score': 0.7695882323762862, 'support': 606.0}}</td>\n",
              "    </tr>\n",
              "  </tbody>\n",
              "</table><p>"
            ],
            "text/plain": [
              "<IPython.core.display.HTML object>"
            ]
          },
          "metadata": {},
          "output_type": "display_data"
        },
        {
          "metadata": {
            "tags": null
          },
          "name": "stderr",
          "output_type": "stream",
          "text": [
            "Trainer is attempting to log a value of \"{np.str_('Irrelevant'): {'precision': 0.8609271523178808, 'recall': 0.6565656565656566, 'f1-score': 0.7449856733524355, 'support': 198.0}, np.str_('Smart Economy'): {'precision': 0.6, 'recall': 0.8360655737704918, 'f1-score': 0.6986301369863014, 'support': 61.0}, np.str_('Smart Environment'): {'precision': 0.7619047619047619, 'recall': 0.9056603773584906, 'f1-score': 0.8275862068965517, 'support': 53.0}, np.str_('Smart Governance'): {'precision': 0.7678571428571429, 'recall': 0.5972222222222222, 'f1-score': 0.671875, 'support': 144.0}, np.str_('Smart Living'): {'precision': 0.4788732394366197, 'recall': 0.5862068965517241, 'f1-score': 0.5271317829457365, 'support': 58.0}, np.str_('Smart Mobility'): {'precision': 0.75, 'recall': 0.9056603773584906, 'f1-score': 0.8205128205128205, 'support': 53.0}, np.str_('Smart People'): {'precision': 0.5166666666666667, 'recall': 0.7948717948717948, 'f1-score': 0.6262626262626263, 'support': 39.0}, 'accuracy': 0.7062706270627063, 'macro avg': {'precision': 0.6766041375975816, 'recall': 0.7546075569569816, 'f1-score': 0.7024263209937817, 'support': 606.0}, 'weighted avg': {'precision': 0.7354630445522199, 'recall': 0.7062706270627063, 'f1-score': 0.7082850428510536, 'support': 606.0}}\" of type <class 'dict'> for key \"eval/detailed_report\" as a scalar. This invocation of Tensorboard's writer.add_scalar() is incorrect so we dropped this attribute.\n",
            "Trainer is attempting to log a value of \"{np.str_('Irrelevant'): {'precision': 0.8125, 'recall': 0.7878787878787878, 'f1-score': 0.8, 'support': 198.0}, np.str_('Smart Economy'): {'precision': 0.6617647058823529, 'recall': 0.7377049180327869, 'f1-score': 0.6976744186046512, 'support': 61.0}, np.str_('Smart Environment'): {'precision': 0.7966101694915254, 'recall': 0.8867924528301887, 'f1-score': 0.8392857142857143, 'support': 53.0}, np.str_('Smart Governance'): {'precision': 0.7412587412587412, 'recall': 0.7361111111111112, 'f1-score': 0.7386759581881533, 'support': 144.0}, np.str_('Smart Living'): {'precision': 0.5686274509803921, 'recall': 0.5, 'f1-score': 0.5321100917431193, 'support': 58.0}, np.str_('Smart Mobility'): {'precision': 0.8214285714285714, 'recall': 0.8679245283018868, 'f1-score': 0.8440366972477065, 'support': 53.0}, np.str_('Smart People'): {'precision': 0.6756756756756757, 'recall': 0.6410256410256411, 'f1-score': 0.6578947368421053, 'support': 39.0}, 'accuracy': 0.7491749174917491, 'macro avg': {'precision': 0.7254093306738941, 'recall': 0.7367767770257718, 'f1-score': 0.7299539452730643, 'support': 606.0}, 'weighted avg': {'precision': 0.7476430735595075, 'recall': 0.7491749174917491, 'f1-score': 0.7476301078930563, 'support': 606.0}}\" of type <class 'dict'> for key \"eval/detailed_report\" as a scalar. This invocation of Tensorboard's writer.add_scalar() is incorrect so we dropped this attribute.\n",
            "Trainer is attempting to log a value of \"{np.str_('Irrelevant'): {'precision': 0.8546511627906976, 'recall': 0.7424242424242424, 'f1-score': 0.7945945945945946, 'support': 198.0}, np.str_('Smart Economy'): {'precision': 0.7368421052631579, 'recall': 0.6885245901639344, 'f1-score': 0.711864406779661, 'support': 61.0}, np.str_('Smart Environment'): {'precision': 0.8070175438596491, 'recall': 0.8679245283018868, 'f1-score': 0.8363636363636363, 'support': 53.0}, np.str_('Smart Governance'): {'precision': 0.6946107784431138, 'recall': 0.8055555555555556, 'f1-score': 0.7459807073954984, 'support': 144.0}, np.str_('Smart Living'): {'precision': 0.6470588235294118, 'recall': 0.5689655172413793, 'f1-score': 0.6055045871559633, 'support': 58.0}, np.str_('Smart Mobility'): {'precision': 0.8518518518518519, 'recall': 0.8679245283018868, 'f1-score': 0.8598130841121495, 'support': 53.0}, np.str_('Smart People'): {'precision': 0.6041666666666666, 'recall': 0.7435897435897436, 'f1-score': 0.6666666666666666, 'support': 39.0}, 'accuracy': 0.7574257425742574, 'macro avg': {'precision': 0.7423141332006499, 'recall': 0.7549869579398042, 'f1-score': 0.7458268118668814, 'support': 606.0}, 'weighted avg': {'precision': 0.7643634331465917, 'recall': 0.7574257425742574, 'f1-score': 0.757741440014032, 'support': 606.0}}\" of type <class 'dict'> for key \"eval/detailed_report\" as a scalar. This invocation of Tensorboard's writer.add_scalar() is incorrect so we dropped this attribute.\n",
            "Trainer is attempting to log a value of \"{np.str_('Irrelevant'): {'precision': 0.851063829787234, 'recall': 0.8080808080808081, 'f1-score': 0.8290155440414507, 'support': 198.0}, np.str_('Smart Economy'): {'precision': 0.6935483870967742, 'recall': 0.7049180327868853, 'f1-score': 0.6991869918699187, 'support': 61.0}, np.str_('Smart Environment'): {'precision': 0.7833333333333333, 'recall': 0.8867924528301887, 'f1-score': 0.831858407079646, 'support': 53.0}, np.str_('Smart Governance'): {'precision': 0.7586206896551724, 'recall': 0.7638888888888888, 'f1-score': 0.7612456747404844, 'support': 144.0}, np.str_('Smart Living'): {'precision': 0.6101694915254238, 'recall': 0.6206896551724138, 'f1-score': 0.6153846153846154, 'support': 58.0}, np.str_('Smart Mobility'): {'precision': 0.8653846153846154, 'recall': 0.8490566037735849, 'f1-score': 0.8571428571428571, 'support': 53.0}, np.str_('Smart People'): {'precision': 0.65, 'recall': 0.6666666666666666, 'f1-score': 0.6582278481012658, 'support': 39.0}, 'accuracy': 0.7706270627062707, 'macro avg': {'precision': 0.7445886209689362, 'recall': 0.7571561583142052, 'f1-score': 0.7502945626228911, 'support': 606.0}, 'weighted avg': {'precision': 0.7725748366528816, 'recall': 0.7706270627062707, 'f1-score': 0.7711140629685672, 'support': 606.0}}\" of type <class 'dict'> for key \"eval/detailed_report\" as a scalar. This invocation of Tensorboard's writer.add_scalar() is incorrect so we dropped this attribute.\n",
            "Trainer is attempting to log a value of \"{np.str_('Irrelevant'): {'precision': 0.8429319371727748, 'recall': 0.8131313131313131, 'f1-score': 0.8277634961439588, 'support': 198.0}, np.str_('Smart Economy'): {'precision': 0.7166666666666667, 'recall': 0.7049180327868853, 'f1-score': 0.7107438016528925, 'support': 61.0}, np.str_('Smart Environment'): {'precision': 0.7833333333333333, 'recall': 0.8867924528301887, 'f1-score': 0.831858407079646, 'support': 53.0}, np.str_('Smart Governance'): {'precision': 0.7692307692307693, 'recall': 0.7638888888888888, 'f1-score': 0.7665505226480837, 'support': 144.0}, np.str_('Smart Living'): {'precision': 0.5806451612903226, 'recall': 0.6206896551724138, 'f1-score': 0.6, 'support': 58.0}, np.str_('Smart Mobility'): {'precision': 0.8627450980392157, 'recall': 0.8301886792452831, 'f1-score': 0.8461538461538461, 'support': 53.0}, np.str_('Smart People'): {'precision': 0.6410256410256411, 'recall': 0.6410256410256411, 'f1-score': 0.6410256410256411, 'support': 39.0}, 'accuracy': 0.768976897689769, 'macro avg': {'precision': 0.7423683723941032, 'recall': 0.7515192375829448, 'f1-score': 0.7462993878148669, 'support': 606.0}, 'weighted avg': {'precision': 0.77113200860345, 'recall': 0.768976897689769, 'f1-score': 0.7695882323762862, 'support': 606.0}}\" of type <class 'dict'> for key \"eval/detailed_report\" as a scalar. This invocation of Tensorboard's writer.add_scalar() is incorrect so we dropped this attribute.\n"
          ]
        },
        {
          "data": {
            "text/html": [
              "\n",
              "    <div>\n",
              "      \n",
              "      <progress value='38' max='38' style='width:300px; height:20px; vertical-align: middle;'></progress>\n",
              "      [38/38 00:02]\n",
              "    </div>\n",
              "    "
            ],
            "text/plain": [
              "<IPython.core.display.HTML object>"
            ]
          },
          "metadata": {},
          "output_type": "display_data"
        },
        {
          "metadata": {
            "tags": null
          },
          "name": "stderr",
          "output_type": "stream",
          "text": [
            "Trainer is attempting to log a value of \"{np.str_('Irrelevant'): {'precision': 0.851063829787234, 'recall': 0.8080808080808081, 'f1-score': 0.8290155440414507, 'support': 198.0}, np.str_('Smart Economy'): {'precision': 0.6935483870967742, 'recall': 0.7049180327868853, 'f1-score': 0.6991869918699187, 'support': 61.0}, np.str_('Smart Environment'): {'precision': 0.7833333333333333, 'recall': 0.8867924528301887, 'f1-score': 0.831858407079646, 'support': 53.0}, np.str_('Smart Governance'): {'precision': 0.7586206896551724, 'recall': 0.7638888888888888, 'f1-score': 0.7612456747404844, 'support': 144.0}, np.str_('Smart Living'): {'precision': 0.6101694915254238, 'recall': 0.6206896551724138, 'f1-score': 0.6153846153846154, 'support': 58.0}, np.str_('Smart Mobility'): {'precision': 0.8653846153846154, 'recall': 0.8490566037735849, 'f1-score': 0.8571428571428571, 'support': 53.0}, np.str_('Smart People'): {'precision': 0.65, 'recall': 0.6666666666666666, 'f1-score': 0.6582278481012658, 'support': 39.0}, 'accuracy': 0.7706270627062707, 'macro avg': {'precision': 0.7445886209689362, 'recall': 0.7571561583142052, 'f1-score': 0.7502945626228911, 'support': 606.0}, 'weighted avg': {'precision': 0.7725748366528816, 'recall': 0.7706270627062707, 'f1-score': 0.7711140629685672, 'support': 606.0}}\" of type <class 'dict'> for key \"eval/detailed_report\" as a scalar. This invocation of Tensorboard's writer.add_scalar() is incorrect so we dropped this attribute.\n"
          ]
        },
        {
          "metadata": {
            "tags": null
          },
          "name": "stdout",
          "output_type": "stream",
          "text": [
            "Fold 5 complete. Evaluation results: {'eval_loss': 1.1445977687835693, 'eval_macro_f1': 0.7502945626228911, 'eval_detailed_report': {np.str_('Irrelevant'): {'precision': 0.851063829787234, 'recall': 0.8080808080808081, 'f1-score': 0.8290155440414507, 'support': 198.0}, np.str_('Smart Economy'): {'precision': 0.6935483870967742, 'recall': 0.7049180327868853, 'f1-score': 0.6991869918699187, 'support': 61.0}, np.str_('Smart Environment'): {'precision': 0.7833333333333333, 'recall': 0.8867924528301887, 'f1-score': 0.831858407079646, 'support': 53.0}, np.str_('Smart Governance'): {'precision': 0.7586206896551724, 'recall': 0.7638888888888888, 'f1-score': 0.7612456747404844, 'support': 144.0}, np.str_('Smart Living'): {'precision': 0.6101694915254238, 'recall': 0.6206896551724138, 'f1-score': 0.6153846153846154, 'support': 58.0}, np.str_('Smart Mobility'): {'precision': 0.8653846153846154, 'recall': 0.8490566037735849, 'f1-score': 0.8571428571428571, 'support': 53.0}, np.str_('Smart People'): {'precision': 0.65, 'recall': 0.6666666666666666, 'f1-score': 0.6582278481012658, 'support': 39.0}, 'accuracy': 0.7706270627062707, 'macro avg': {'precision': 0.7445886209689362, 'recall': 0.7571561583142052, 'f1-score': 0.7502945626228911, 'support': 606.0}, 'weighted avg': {'precision': 0.7725748366528816, 'recall': 0.7706270627062707, 'f1-score': 0.7711140629685672, 'support': 606.0}}, 'eval_runtime': 2.3198, 'eval_samples_per_second': 261.23, 'eval_steps_per_second': 16.381, 'epoch': 5.0}\n",
            "\n",
            "✅ 5-fold cross-validation process for IndoBERT finished.\n"
          ]
        }
      ]
    },
    {
      "cell_type": "code",
      "source": [
        "# Extract the 'eval_macro_f1' score from each fold's result\n",
        "macro_f1_scores = [result['eval_macro_f1'] for result in fold_results]\n",
        "\n",
        "# Calculate the mean and standard deviation\n",
        "mean_macro_f1 = np.mean(macro_f1_scores)\n",
        "std_macro_f1 = np.std(macro_f1_scores)\n",
        "\n",
        "print(\"--- Final Aggregated Results (5-Fold CV) for IndoBERTweet (Improved) ---\")\n",
        "print(f\"Macro F1-Score = {mean_macro_f1:.4f} ± {std_macro_f1:.4f}\")"
      ],
      "metadata": {
        "colab": {
          "base_uri": "https://localhost:8080/"
        },
        "id": "DvCIHnTrGTRG",
        "outputId": "a0be3036-7d13-4717-888e-4617c14945f3"
      },
      "execution_count": null,
      "outputs": [
        {
          "output_type": "stream",
          "name": "stdout",
          "text": [
            "--- Final Aggregated Results (5-Fold CV) for IndoBERTweet (Improved) ---\n",
            "Macro F1-Score = 0.7569 ± 0.0102\n"
          ]
        }
      ]
    },
    {
      "cell_type": "code",
      "source": [
        "# Prepare the results dictionary for saving\n",
        "final_results = {\n",
        "    'model': 'IndoBERTweet',\n",
        "    'mean_macro_f1': mean_macro_f1,\n",
        "    'std_dev_macro_f1': std_macro_f1,\n",
        "    'results_per_fold': fold_results\n",
        "}\n",
        "\n",
        "# Define the output file path\n",
        "results_file_path = os.path.join(GDRIVE_PATH, 'results_indobertweet_asc.json')\n",
        "\n",
        "# Save to a JSON file\n",
        "with open(results_file_path, 'w') as f:\n",
        "    json.dump(final_results, f, indent=4)\n",
        "\n",
        "print(f\"\\n✅ Final results for IndoBERTweet have been saved to: '{results_file_path}'\")"
      ],
      "metadata": {
        "colab": {
          "base_uri": "https://localhost:8080/"
        },
        "id": "1SdyvhprGYcO",
        "outputId": "ef8b1c2f-92b5-436f-a1fb-4d32c7e40e2a"
      },
      "execution_count": null,
      "outputs": [
        {
          "output_type": "stream",
          "name": "stdout",
          "text": [
            "\n",
            "✅ Final results for IndoBERTweet have been saved to: '/content/drive/MyDrive/eecsi_revise/results_indobertweet.json'\n"
          ]
        }
      ]
    }
  ]
}