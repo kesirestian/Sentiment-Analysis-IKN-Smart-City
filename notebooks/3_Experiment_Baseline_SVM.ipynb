{
  "nbformat": 4,
  "nbformat_minor": 0,
  "metadata": {
    "colab": {
      "provenance": []
    },
    "kernelspec": {
      "name": "python3",
      "display_name": "Python 3"
    },
    "language_info": {
      "name": "python"
    }
  },
  "cells": [
    {
      "cell_type": "code",
      "source": [
        "# Cell 1: Connect to Drive & Setup\n",
        "from google.colab import drive\n",
        "import pandas as pd\n",
        "import numpy as np\n",
        "import pickle\n",
        "import os\n",
        "import json\n",
        "from sklearn.feature_extraction.text import TfidfVectorizer\n",
        "from sklearn.svm import SVC\n",
        "from sklearn.metrics import classification_report\n",
        "from imblearn.pipeline import Pipeline as ImbPipeline\n",
        "from imblearn.over_sampling import RandomOverSampler\n",
        "\n",
        "# Mount Google Drive\n",
        "drive.mount('/content/drive')\n",
        "\n",
        "# --- KEY SETTINGS ---\n",
        "SEED = 42\n",
        "GDRIVE_PATH = '/content/drive/MyDrive/eecsi_revise/'\n",
        "\n",
        "print(f\"✅ Setup complete. Working inside folder: {GDRIVE_PATH}\")"
      ],
      "metadata": {
        "colab": {
          "base_uri": "https://localhost:8080/"
        },
        "id": "pKIgduYpnqMq",
        "outputId": "a5cf826c-d55f-4691-9910-f52dd9c17fa7"
      },
      "execution_count": null,
      "outputs": [
        {
          "output_type": "stream",
          "name": "stdout",
          "text": [
            "Mounted at /content/drive\n",
            "✅ Setup complete. Working inside folder: /content/drive/MyDrive/eecsi_revise/\n"
          ]
        }
      ]
    },
    {
      "cell_type": "code",
      "source": [
        "# Cell 2: Load Data and Split Definitions\n",
        "# Define file paths\n",
        "file_path_csv = os.path.join(GDRIVE_PATH, 'final_golden_dataset_eecsi.csv')\n",
        "file_path_split = os.path.join(GDRIVE_PATH, 'kfold_splits.pkl')\n",
        "\n",
        "# Load the dataset and the split file\n",
        "try:\n",
        "    df = pd.read_csv(file_path_csv)\n",
        "    with open(file_path_split, 'rb') as f:\n",
        "        kfold_splits = pickle.load(f)\n",
        "    print(\"✅ Successfully loaded dataset and 5-fold splits.\")\n",
        "    print(f\"Total data points: {df.shape[0]}.\")\n",
        "    print(f\"Number of folds: {len(kfold_splits)}.\")\n",
        "except FileNotFoundError as e:\n",
        "    print(f\"❌ ERROR: File not found. Please ensure '{e.filename}' is in the 'eecsi_revise' folder in your Google Drive.\")"
      ],
      "metadata": {
        "colab": {
          "base_uri": "https://localhost:8080/"
        },
        "id": "IVNbO-9gnrYH",
        "outputId": "16e3b1fb-b021-4c07-8e65-967bcca80225"
      },
      "execution_count": null,
      "outputs": [
        {
          "output_type": "stream",
          "name": "stdout",
          "text": [
            "✅ Successfully loaded dataset and 5-fold splits.\n",
            "Total data points: 3030.\n",
            "Number of folds: 5.\n"
          ]
        }
      ]
    },
    {
      "cell_type": "code",
      "source": [
        "# Cell 3: Define the Hybrid Model Pipeline\n",
        "# This pipeline combines oversampling (data-level fix)\n",
        "# and class weighting (algorithm-level fix).\n",
        "pipeline_svm = ImbPipeline([\n",
        "    ('tfidf', TfidfVectorizer()),\n",
        "    ('ros', RandomOverSampler(random_state=SEED)),\n",
        "    # Added class_weight='balanced' for consistent treatment with other models\n",
        "    ('svm', SVC(kernel='linear', C=1, random_state=SEED, class_weight='balanced'))\n",
        "])\n",
        "\n",
        "print(\"✅ TF-IDF + SVM pipeline with full hybrid strategy has been defined.\")"
      ],
      "metadata": {
        "colab": {
          "base_uri": "https://localhost:8080/"
        },
        "id": "o5zKL9P8nu_w",
        "outputId": "a2d93e2c-9ec3-47d1-fd29-63a7093f1f66"
      },
      "execution_count": null,
      "outputs": [
        {
          "output_type": "stream",
          "name": "stdout",
          "text": [
            "✅ TF-IDF + SVM pipeline with full hybrid strategy has been defined.\n"
          ]
        }
      ]
    },
    {
      "cell_type": "code",
      "source": [
        "# Cell 4: Run the 5-Fold Cross-Validation\n",
        "# List to store the classification report from each fold\n",
        "fold_reports = []\n",
        "\n",
        "# Prepare features (X) and labels (y)\n",
        "X = df['cleaned_text']\n",
        "y = df['aspect']\n",
        "\n",
        "for i, fold in enumerate(kfold_splits):\n",
        "    print(f\"--- Running Fold {i+1}/5 ---\")\n",
        "\n",
        "    # Get train and test data for the current fold using the predefined indices\n",
        "    train_index, test_index = fold['train'], fold['test']\n",
        "    X_train, X_test = X.iloc[train_index], X.iloc[test_index]\n",
        "    y_train, y_test = y.iloc[train_index], y.iloc[test_index]\n",
        "\n",
        "    # Fit the pipeline on the training data for this fold\n",
        "    pipeline_svm.fit(X_train, y_train)\n",
        "\n",
        "    # Evaluate on the test data for this fold\n",
        "    y_pred = pipeline_svm.predict(X_test)\n",
        "\n",
        "    # Store the classification report as a dictionary\n",
        "    report = classification_report(y_test, y_pred, output_dict=True, zero_division=0)\n",
        "    fold_reports.append(report)\n",
        "    print(f\"Fold {i+1} complete. Macro F1-Score: {report['macro avg']['f1-score']:.4f}\")\n",
        "\n",
        "print(\"\\n✅ 5-fold cross-validation process finished.\")"
      ],
      "metadata": {
        "colab": {
          "base_uri": "https://localhost:8080/"
        },
        "id": "aaoVqXPSnxwS",
        "outputId": "eb6e2dfc-8ef2-4ac2-f07e-fd70d157075e"
      },
      "execution_count": null,
      "outputs": [
        {
          "output_type": "stream",
          "name": "stdout",
          "text": [
            "--- Running Fold 1/5 ---\n",
            "Fold 1 complete. Macro F1-Score: 0.6462\n",
            "--- Running Fold 2/5 ---\n",
            "Fold 2 complete. Macro F1-Score: 0.6803\n",
            "--- Running Fold 3/5 ---\n",
            "Fold 3 complete. Macro F1-Score: 0.6255\n",
            "--- Running Fold 4/5 ---\n",
            "Fold 4 complete. Macro F1-Score: 0.6545\n",
            "--- Running Fold 5/5 ---\n",
            "Fold 5 complete. Macro F1-Score: 0.6323\n",
            "\n",
            "✅ 5-fold cross-validation process finished.\n"
          ]
        }
      ]
    },
    {
      "cell_type": "code",
      "source": [
        "# Cell 5: Aggregate and Display Final Results\n",
        "# Extract the 'macro avg f1-score' from each fold's report\n",
        "macro_f1_scores = [report['macro avg']['f1-score'] for report in fold_reports]\n",
        "\n",
        "# Calculate the mean and standard deviation\n",
        "mean_macro_f1 = np.mean(macro_f1_scores)\n",
        "std_macro_f1 = np.std(macro_f1_scores)\n",
        "\n",
        "print(\"--- Final Aggregated Results (5-Fold CV) for TF-IDF + SVM ---\")\n",
        "print(f\"Macro F1-Score = {mean_macro_f1:.4f} ± {std_macro_f1:.4f}\")"
      ],
      "metadata": {
        "colab": {
          "base_uri": "https://localhost:8080/"
        },
        "id": "pjfYt5sNoGCB",
        "outputId": "9c12481d-d991-484e-badc-50dd68e645de"
      },
      "execution_count": null,
      "outputs": [
        {
          "output_type": "stream",
          "name": "stdout",
          "text": [
            "--- Final Aggregated Results (5-Fold CV) for TF-IDF + SVM ---\n",
            "Macro F1-Score = 0.6477 ± 0.0192\n"
          ]
        }
      ]
    },
    {
      "cell_type": "code",
      "source": [
        "# Cell 6: Save Results to Google Drive\n",
        "# Prepare the results dictionary for saving\n",
        "final_results = {\n",
        "    'model': 'TF-IDF + SVM',\n",
        "    'mean_macro_f1': mean_macro_f1,\n",
        "    'std_dev_macro_f1': std_macro_f1,\n",
        "    'reports_per_fold': fold_reports\n",
        "}\n",
        "\n",
        "# Define the output file path\n",
        "results_file_path = os.path.join(GDRIVE_PATH, 'results_svm.json')\n",
        "\n",
        "# Save to a JSON file\n",
        "with open(results_file_path, 'w') as f:\n",
        "    json.dump(final_results, f, indent=4)\n",
        "\n",
        "print(f\"\\n✅ Final results for TF-IDF + SVM have been saved to: '{results_file_path}'\")"
      ],
      "metadata": {
        "colab": {
          "base_uri": "https://localhost:8080/"
        },
        "id": "eEkUX0cnoI0U",
        "outputId": "b8ff3806-92ea-4a50-b6ff-476c44db6b68"
      },
      "execution_count": null,
      "outputs": [
        {
          "output_type": "stream",
          "name": "stdout",
          "text": [
            "\n",
            "✅ Final results for TF-IDF + SVM have been saved to: '/content/drive/MyDrive/eecsi_revise/results_svm.json'\n"
          ]
        }
      ]
    }
  ]
}