{
  "nbformat": 4,
  "nbformat_minor": 0,
  "metadata": {
    "colab": {
      "provenance": [],
      "gpuType": "T4"
    },
    "kernelspec": {
      "name": "python3",
      "display_name": "Python 3"
    },
    "language_info": {
      "name": "python"
    },
    "accelerator": "GPU"
  },
  "cells": [
    {
      "cell_type": "code",
      "execution_count": null,
      "metadata": {
        "colab": {
          "base_uri": "https://localhost:8080/"
        },
        "id": "FbOI2N_uFjc_",
        "outputId": "614b98ad-4b0c-460e-9343-f4f07abac797"
      },
      "outputs": [
        {
          "output_type": "stream",
          "name": "stdout",
          "text": [
            "--> Uninstalling existing versions...\n",
            "Found existing installation: transformers 4.55.1\n",
            "Uninstalling transformers-4.55.1:\n",
            "  Successfully uninstalled transformers-4.55.1\n",
            "Found existing installation: accelerate 1.10.0\n",
            "Uninstalling accelerate-1.10.0:\n",
            "  Successfully uninstalled accelerate-1.10.0\n",
            "Found existing installation: datasets 4.0.0\n",
            "Uninstalling datasets-4.0.0:\n",
            "  Successfully uninstalled datasets-4.0.0\n",
            "\n",
            "--> Reinstalling core libraries...\n",
            "Collecting transformers\n",
            "  Downloading transformers-4.55.2-py3-none-any.whl.metadata (41 kB)\n",
            "\u001b[2K     \u001b[90m━━━━━━━━━━━━━━━━━━━━━━━━━━━━━━━━━━━━━━━━\u001b[0m \u001b[32m42.0/42.0 kB\u001b[0m \u001b[31m2.5 MB/s\u001b[0m eta \u001b[36m0:00:00\u001b[0m\n",
            "\u001b[?25hCollecting accelerate\n",
            "  Downloading accelerate-1.10.0-py3-none-any.whl.metadata (19 kB)\n",
            "Collecting datasets\n",
            "  Downloading datasets-4.0.0-py3-none-any.whl.metadata (19 kB)\n",
            "Requirement already satisfied: filelock in /usr/local/lib/python3.11/dist-packages (from transformers) (3.18.0)\n",
            "Requirement already satisfied: huggingface-hub<1.0,>=0.34.0 in /usr/local/lib/python3.11/dist-packages (from transformers) (0.34.4)\n",
            "Requirement already satisfied: numpy>=1.17 in /usr/local/lib/python3.11/dist-packages (from transformers) (2.0.2)\n",
            "Requirement already satisfied: packaging>=20.0 in /usr/local/lib/python3.11/dist-packages (from transformers) (25.0)\n",
            "Requirement already satisfied: pyyaml>=5.1 in /usr/local/lib/python3.11/dist-packages (from transformers) (6.0.2)\n",
            "Requirement already satisfied: regex!=2019.12.17 in /usr/local/lib/python3.11/dist-packages (from transformers) (2024.11.6)\n",
            "Requirement already satisfied: requests in /usr/local/lib/python3.11/dist-packages (from transformers) (2.32.3)\n",
            "Requirement already satisfied: tokenizers<0.22,>=0.21 in /usr/local/lib/python3.11/dist-packages (from transformers) (0.21.4)\n",
            "Requirement already satisfied: safetensors>=0.4.3 in /usr/local/lib/python3.11/dist-packages (from transformers) (0.6.2)\n",
            "Requirement already satisfied: tqdm>=4.27 in /usr/local/lib/python3.11/dist-packages (from transformers) (4.67.1)\n",
            "Requirement already satisfied: psutil in /usr/local/lib/python3.11/dist-packages (from accelerate) (5.9.5)\n",
            "Requirement already satisfied: torch>=2.0.0 in /usr/local/lib/python3.11/dist-packages (from accelerate) (2.6.0+cu124)\n",
            "Requirement already satisfied: pyarrow>=15.0.0 in /usr/local/lib/python3.11/dist-packages (from datasets) (18.1.0)\n",
            "Requirement already satisfied: dill<0.3.9,>=0.3.0 in /usr/local/lib/python3.11/dist-packages (from datasets) (0.3.8)\n",
            "Requirement already satisfied: pandas in /usr/local/lib/python3.11/dist-packages (from datasets) (2.2.2)\n",
            "Requirement already satisfied: xxhash in /usr/local/lib/python3.11/dist-packages (from datasets) (3.5.0)\n",
            "Requirement already satisfied: multiprocess<0.70.17 in /usr/local/lib/python3.11/dist-packages (from datasets) (0.70.16)\n",
            "Requirement already satisfied: fsspec<=2025.3.0,>=2023.1.0 in /usr/local/lib/python3.11/dist-packages (from fsspec[http]<=2025.3.0,>=2023.1.0->datasets) (2025.3.0)\n",
            "Requirement already satisfied: aiohttp!=4.0.0a0,!=4.0.0a1 in /usr/local/lib/python3.11/dist-packages (from fsspec[http]<=2025.3.0,>=2023.1.0->datasets) (3.12.15)\n",
            "Requirement already satisfied: typing-extensions>=3.7.4.3 in /usr/local/lib/python3.11/dist-packages (from huggingface-hub<1.0,>=0.34.0->transformers) (4.14.1)\n",
            "Requirement already satisfied: hf-xet<2.0.0,>=1.1.3 in /usr/local/lib/python3.11/dist-packages (from huggingface-hub<1.0,>=0.34.0->transformers) (1.1.7)\n",
            "Requirement already satisfied: charset-normalizer<4,>=2 in /usr/local/lib/python3.11/dist-packages (from requests->transformers) (3.4.3)\n",
            "Requirement already satisfied: idna<4,>=2.5 in /usr/local/lib/python3.11/dist-packages (from requests->transformers) (3.10)\n",
            "Requirement already satisfied: urllib3<3,>=1.21.1 in /usr/local/lib/python3.11/dist-packages (from requests->transformers) (2.5.0)\n",
            "Requirement already satisfied: certifi>=2017.4.17 in /usr/local/lib/python3.11/dist-packages (from requests->transformers) (2025.8.3)\n",
            "Requirement already satisfied: networkx in /usr/local/lib/python3.11/dist-packages (from torch>=2.0.0->accelerate) (3.5)\n",
            "Requirement already satisfied: jinja2 in /usr/local/lib/python3.11/dist-packages (from torch>=2.0.0->accelerate) (3.1.6)\n",
            "Collecting nvidia-cuda-nvrtc-cu12==12.4.127 (from torch>=2.0.0->accelerate)\n",
            "  Downloading nvidia_cuda_nvrtc_cu12-12.4.127-py3-none-manylinux2014_x86_64.whl.metadata (1.5 kB)\n",
            "Collecting nvidia-cuda-runtime-cu12==12.4.127 (from torch>=2.0.0->accelerate)\n",
            "  Downloading nvidia_cuda_runtime_cu12-12.4.127-py3-none-manylinux2014_x86_64.whl.metadata (1.5 kB)\n",
            "Collecting nvidia-cuda-cupti-cu12==12.4.127 (from torch>=2.0.0->accelerate)\n",
            "  Downloading nvidia_cuda_cupti_cu12-12.4.127-py3-none-manylinux2014_x86_64.whl.metadata (1.6 kB)\n",
            "Collecting nvidia-cudnn-cu12==9.1.0.70 (from torch>=2.0.0->accelerate)\n",
            "  Downloading nvidia_cudnn_cu12-9.1.0.70-py3-none-manylinux2014_x86_64.whl.metadata (1.6 kB)\n",
            "Collecting nvidia-cublas-cu12==12.4.5.8 (from torch>=2.0.0->accelerate)\n",
            "  Downloading nvidia_cublas_cu12-12.4.5.8-py3-none-manylinux2014_x86_64.whl.metadata (1.5 kB)\n",
            "Collecting nvidia-cufft-cu12==11.2.1.3 (from torch>=2.0.0->accelerate)\n",
            "  Downloading nvidia_cufft_cu12-11.2.1.3-py3-none-manylinux2014_x86_64.whl.metadata (1.5 kB)\n",
            "Collecting nvidia-curand-cu12==10.3.5.147 (from torch>=2.0.0->accelerate)\n",
            "  Downloading nvidia_curand_cu12-10.3.5.147-py3-none-manylinux2014_x86_64.whl.metadata (1.5 kB)\n",
            "Collecting nvidia-cusolver-cu12==11.6.1.9 (from torch>=2.0.0->accelerate)\n",
            "  Downloading nvidia_cusolver_cu12-11.6.1.9-py3-none-manylinux2014_x86_64.whl.metadata (1.6 kB)\n",
            "Collecting nvidia-cusparse-cu12==12.3.1.170 (from torch>=2.0.0->accelerate)\n",
            "  Downloading nvidia_cusparse_cu12-12.3.1.170-py3-none-manylinux2014_x86_64.whl.metadata (1.6 kB)\n",
            "Requirement already satisfied: nvidia-cusparselt-cu12==0.6.2 in /usr/local/lib/python3.11/dist-packages (from torch>=2.0.0->accelerate) (0.6.2)\n",
            "Collecting nvidia-nccl-cu12==2.21.5 (from torch>=2.0.0->accelerate)\n",
            "  Downloading nvidia_nccl_cu12-2.21.5-py3-none-manylinux2014_x86_64.whl.metadata (1.8 kB)\n",
            "Requirement already satisfied: nvidia-nvtx-cu12==12.4.127 in /usr/local/lib/python3.11/dist-packages (from torch>=2.0.0->accelerate) (12.4.127)\n",
            "Collecting nvidia-nvjitlink-cu12==12.4.127 (from torch>=2.0.0->accelerate)\n",
            "  Downloading nvidia_nvjitlink_cu12-12.4.127-py3-none-manylinux2014_x86_64.whl.metadata (1.5 kB)\n",
            "Requirement already satisfied: triton==3.2.0 in /usr/local/lib/python3.11/dist-packages (from torch>=2.0.0->accelerate) (3.2.0)\n",
            "Requirement already satisfied: sympy==1.13.1 in /usr/local/lib/python3.11/dist-packages (from torch>=2.0.0->accelerate) (1.13.1)\n",
            "Requirement already satisfied: mpmath<1.4,>=1.1.0 in /usr/local/lib/python3.11/dist-packages (from sympy==1.13.1->torch>=2.0.0->accelerate) (1.3.0)\n",
            "Requirement already satisfied: python-dateutil>=2.8.2 in /usr/local/lib/python3.11/dist-packages (from pandas->datasets) (2.9.0.post0)\n",
            "Requirement already satisfied: pytz>=2020.1 in /usr/local/lib/python3.11/dist-packages (from pandas->datasets) (2025.2)\n",
            "Requirement already satisfied: tzdata>=2022.7 in /usr/local/lib/python3.11/dist-packages (from pandas->datasets) (2025.2)\n",
            "Requirement already satisfied: aiohappyeyeballs>=2.5.0 in /usr/local/lib/python3.11/dist-packages (from aiohttp!=4.0.0a0,!=4.0.0a1->fsspec[http]<=2025.3.0,>=2023.1.0->datasets) (2.6.1)\n",
            "Requirement already satisfied: aiosignal>=1.4.0 in /usr/local/lib/python3.11/dist-packages (from aiohttp!=4.0.0a0,!=4.0.0a1->fsspec[http]<=2025.3.0,>=2023.1.0->datasets) (1.4.0)\n",
            "Requirement already satisfied: attrs>=17.3.0 in /usr/local/lib/python3.11/dist-packages (from aiohttp!=4.0.0a0,!=4.0.0a1->fsspec[http]<=2025.3.0,>=2023.1.0->datasets) (25.3.0)\n",
            "Requirement already satisfied: frozenlist>=1.1.1 in /usr/local/lib/python3.11/dist-packages (from aiohttp!=4.0.0a0,!=4.0.0a1->fsspec[http]<=2025.3.0,>=2023.1.0->datasets) (1.7.0)\n",
            "Requirement already satisfied: multidict<7.0,>=4.5 in /usr/local/lib/python3.11/dist-packages (from aiohttp!=4.0.0a0,!=4.0.0a1->fsspec[http]<=2025.3.0,>=2023.1.0->datasets) (6.6.4)\n",
            "Requirement already satisfied: propcache>=0.2.0 in /usr/local/lib/python3.11/dist-packages (from aiohttp!=4.0.0a0,!=4.0.0a1->fsspec[http]<=2025.3.0,>=2023.1.0->datasets) (0.3.2)\n",
            "Requirement already satisfied: yarl<2.0,>=1.17.0 in /usr/local/lib/python3.11/dist-packages (from aiohttp!=4.0.0a0,!=4.0.0a1->fsspec[http]<=2025.3.0,>=2023.1.0->datasets) (1.20.1)\n",
            "Requirement already satisfied: six>=1.5 in /usr/local/lib/python3.11/dist-packages (from python-dateutil>=2.8.2->pandas->datasets) (1.17.0)\n",
            "Requirement already satisfied: MarkupSafe>=2.0 in /usr/local/lib/python3.11/dist-packages (from jinja2->torch>=2.0.0->accelerate) (3.0.2)\n",
            "Downloading transformers-4.55.2-py3-none-any.whl (11.3 MB)\n",
            "\u001b[2K   \u001b[90m━━━━━━━━━━━━━━━━━━━━━━━━━━━━━━━━━━━━━━━━\u001b[0m \u001b[32m11.3/11.3 MB\u001b[0m \u001b[31m52.9 MB/s\u001b[0m eta \u001b[36m0:00:00\u001b[0m\n",
            "\u001b[?25hDownloading accelerate-1.10.0-py3-none-any.whl (374 kB)\n",
            "\u001b[2K   \u001b[90m━━━━━━━━━━━━━━━━━━━━━━━━━━━━━━━━━━━━━━━━\u001b[0m \u001b[32m374.7/374.7 kB\u001b[0m \u001b[31m33.3 MB/s\u001b[0m eta \u001b[36m0:00:00\u001b[0m\n",
            "\u001b[?25hDownloading datasets-4.0.0-py3-none-any.whl (494 kB)\n",
            "\u001b[2K   \u001b[90m━━━━━━━━━━━━━━━━━━━━━━━━━━━━━━━━━━━━━━━━\u001b[0m \u001b[32m494.8/494.8 kB\u001b[0m \u001b[31m38.7 MB/s\u001b[0m eta \u001b[36m0:00:00\u001b[0m\n",
            "\u001b[?25hDownloading nvidia_cublas_cu12-12.4.5.8-py3-none-manylinux2014_x86_64.whl (363.4 MB)\n",
            "\u001b[2K   \u001b[90m━━━━━━━━━━━━━━━━━━━━━━━━━━━━━━━━━━━━━━━━\u001b[0m \u001b[32m363.4/363.4 MB\u001b[0m \u001b[31m4.5 MB/s\u001b[0m eta \u001b[36m0:00:00\u001b[0m\n",
            "\u001b[?25hDownloading nvidia_cuda_cupti_cu12-12.4.127-py3-none-manylinux2014_x86_64.whl (13.8 MB)\n",
            "\u001b[2K   \u001b[90m━━━━━━━━━━━━━━━━━━━━━━━━━━━━━━━━━━━━━━━━\u001b[0m \u001b[32m13.8/13.8 MB\u001b[0m \u001b[31m109.2 MB/s\u001b[0m eta \u001b[36m0:00:00\u001b[0m\n",
            "\u001b[?25hDownloading nvidia_cuda_nvrtc_cu12-12.4.127-py3-none-manylinux2014_x86_64.whl (24.6 MB)\n",
            "\u001b[2K   \u001b[90m━━━━━━━━━━━━━━━━━━━━━━━━━━━━━━━━━━━━━━━━\u001b[0m \u001b[32m24.6/24.6 MB\u001b[0m \u001b[31m38.7 MB/s\u001b[0m eta \u001b[36m0:00:00\u001b[0m\n",
            "\u001b[?25hDownloading nvidia_cuda_runtime_cu12-12.4.127-py3-none-manylinux2014_x86_64.whl (883 kB)\n",
            "\u001b[2K   \u001b[90m━━━━━━━━━━━━━━━━━━━━━━━━━━━━━━━━━━━━━━━━\u001b[0m \u001b[32m883.7/883.7 kB\u001b[0m \u001b[31m61.7 MB/s\u001b[0m eta \u001b[36m0:00:00\u001b[0m\n",
            "\u001b[?25hDownloading nvidia_cudnn_cu12-9.1.0.70-py3-none-manylinux2014_x86_64.whl (664.8 MB)\n",
            "\u001b[2K   \u001b[90m━━━━━━━━━━━━━━━━━━━━━━━━━━━━━━━━━━━━━━━━\u001b[0m \u001b[32m664.8/664.8 MB\u001b[0m \u001b[31m3.0 MB/s\u001b[0m eta \u001b[36m0:00:00\u001b[0m\n",
            "\u001b[?25hDownloading nvidia_cufft_cu12-11.2.1.3-py3-none-manylinux2014_x86_64.whl (211.5 MB)\n",
            "\u001b[2K   \u001b[90m━━━━━━━━━━━━━━━━━━━━━━━━━━━━━━━━━━━━━━━━\u001b[0m \u001b[32m211.5/211.5 MB\u001b[0m \u001b[31m5.6 MB/s\u001b[0m eta \u001b[36m0:00:00\u001b[0m\n",
            "\u001b[?25hDownloading nvidia_curand_cu12-10.3.5.147-py3-none-manylinux2014_x86_64.whl (56.3 MB)\n",
            "\u001b[2K   \u001b[90m━━━━━━━━━━━━━━━━━━━━━━━━━━━━━━━━━━━━━━━━\u001b[0m \u001b[32m56.3/56.3 MB\u001b[0m \u001b[31m13.2 MB/s\u001b[0m eta \u001b[36m0:00:00\u001b[0m\n",
            "\u001b[?25hDownloading nvidia_cusolver_cu12-11.6.1.9-py3-none-manylinux2014_x86_64.whl (127.9 MB)\n",
            "\u001b[2K   \u001b[90m━━━━━━━━━━━━━━━━━━━━━━━━━━━━━━━━━━━━━━━━\u001b[0m \u001b[32m127.9/127.9 MB\u001b[0m \u001b[31m7.2 MB/s\u001b[0m eta \u001b[36m0:00:00\u001b[0m\n",
            "\u001b[?25hDownloading nvidia_cusparse_cu12-12.3.1.170-py3-none-manylinux2014_x86_64.whl (207.5 MB)\n",
            "\u001b[2K   \u001b[90m━━━━━━━━━━━━━━━━━━━━━━━━━━━━━━━━━━━━━━━━\u001b[0m \u001b[32m207.5/207.5 MB\u001b[0m \u001b[31m5.6 MB/s\u001b[0m eta \u001b[36m0:00:00\u001b[0m\n",
            "\u001b[?25hDownloading nvidia_nccl_cu12-2.21.5-py3-none-manylinux2014_x86_64.whl (188.7 MB)\n",
            "\u001b[2K   \u001b[90m━━━━━━━━━━━━━━━━━━━━━━━━━━━━━━━━━━━━━━━━\u001b[0m \u001b[32m188.7/188.7 MB\u001b[0m \u001b[31m6.2 MB/s\u001b[0m eta \u001b[36m0:00:00\u001b[0m\n",
            "\u001b[?25hDownloading nvidia_nvjitlink_cu12-12.4.127-py3-none-manylinux2014_x86_64.whl (21.1 MB)\n",
            "\u001b[2K   \u001b[90m━━━━━━━━━━━━━━━━━━━━━━━━━━━━━━━━━━━━━━━━\u001b[0m \u001b[32m21.1/21.1 MB\u001b[0m \u001b[31m86.4 MB/s\u001b[0m eta \u001b[36m0:00:00\u001b[0m\n",
            "\u001b[?25hInstalling collected packages: nvidia-nvjitlink-cu12, nvidia-nccl-cu12, nvidia-curand-cu12, nvidia-cufft-cu12, nvidia-cuda-runtime-cu12, nvidia-cuda-nvrtc-cu12, nvidia-cuda-cupti-cu12, nvidia-cublas-cu12, nvidia-cusparse-cu12, nvidia-cudnn-cu12, nvidia-cusolver-cu12, transformers, datasets, accelerate\n",
            "  Attempting uninstall: nvidia-nvjitlink-cu12\n",
            "    Found existing installation: nvidia-nvjitlink-cu12 12.5.82\n",
            "    Uninstalling nvidia-nvjitlink-cu12-12.5.82:\n",
            "      Successfully uninstalled nvidia-nvjitlink-cu12-12.5.82\n",
            "  Attempting uninstall: nvidia-nccl-cu12\n",
            "    Found existing installation: nvidia-nccl-cu12 2.23.4\n",
            "    Uninstalling nvidia-nccl-cu12-2.23.4:\n",
            "      Successfully uninstalled nvidia-nccl-cu12-2.23.4\n",
            "  Attempting uninstall: nvidia-curand-cu12\n",
            "    Found existing installation: nvidia-curand-cu12 10.3.6.82\n",
            "    Uninstalling nvidia-curand-cu12-10.3.6.82:\n",
            "      Successfully uninstalled nvidia-curand-cu12-10.3.6.82\n",
            "  Attempting uninstall: nvidia-cufft-cu12\n",
            "    Found existing installation: nvidia-cufft-cu12 11.2.3.61\n",
            "    Uninstalling nvidia-cufft-cu12-11.2.3.61:\n",
            "      Successfully uninstalled nvidia-cufft-cu12-11.2.3.61\n",
            "  Attempting uninstall: nvidia-cuda-runtime-cu12\n",
            "    Found existing installation: nvidia-cuda-runtime-cu12 12.5.82\n",
            "    Uninstalling nvidia-cuda-runtime-cu12-12.5.82:\n",
            "      Successfully uninstalled nvidia-cuda-runtime-cu12-12.5.82\n",
            "  Attempting uninstall: nvidia-cuda-nvrtc-cu12\n",
            "    Found existing installation: nvidia-cuda-nvrtc-cu12 12.5.82\n",
            "    Uninstalling nvidia-cuda-nvrtc-cu12-12.5.82:\n",
            "      Successfully uninstalled nvidia-cuda-nvrtc-cu12-12.5.82\n",
            "  Attempting uninstall: nvidia-cuda-cupti-cu12\n",
            "    Found existing installation: nvidia-cuda-cupti-cu12 12.5.82\n",
            "    Uninstalling nvidia-cuda-cupti-cu12-12.5.82:\n",
            "      Successfully uninstalled nvidia-cuda-cupti-cu12-12.5.82\n",
            "  Attempting uninstall: nvidia-cublas-cu12\n",
            "    Found existing installation: nvidia-cublas-cu12 12.5.3.2\n",
            "    Uninstalling nvidia-cublas-cu12-12.5.3.2:\n",
            "      Successfully uninstalled nvidia-cublas-cu12-12.5.3.2\n",
            "  Attempting uninstall: nvidia-cusparse-cu12\n",
            "    Found existing installation: nvidia-cusparse-cu12 12.5.1.3\n",
            "    Uninstalling nvidia-cusparse-cu12-12.5.1.3:\n",
            "      Successfully uninstalled nvidia-cusparse-cu12-12.5.1.3\n",
            "  Attempting uninstall: nvidia-cudnn-cu12\n",
            "    Found existing installation: nvidia-cudnn-cu12 9.3.0.75\n",
            "    Uninstalling nvidia-cudnn-cu12-9.3.0.75:\n",
            "      Successfully uninstalled nvidia-cudnn-cu12-9.3.0.75\n",
            "  Attempting uninstall: nvidia-cusolver-cu12\n",
            "    Found existing installation: nvidia-cusolver-cu12 11.6.3.83\n",
            "    Uninstalling nvidia-cusolver-cu12-11.6.3.83:\n",
            "      Successfully uninstalled nvidia-cusolver-cu12-11.6.3.83\n",
            "Successfully installed accelerate-1.10.0 datasets-4.0.0 nvidia-cublas-cu12-12.4.5.8 nvidia-cuda-cupti-cu12-12.4.127 nvidia-cuda-nvrtc-cu12-12.4.127 nvidia-cuda-runtime-cu12-12.4.127 nvidia-cudnn-cu12-9.1.0.70 nvidia-cufft-cu12-11.2.1.3 nvidia-curand-cu12-10.3.5.147 nvidia-cusolver-cu12-11.6.1.9 nvidia-cusparse-cu12-12.3.1.170 nvidia-nccl-cu12-2.21.5 nvidia-nvjitlink-cu12-12.4.127 transformers-4.55.2\n",
            "\n",
            "--> Installing other required libraries...\n",
            "\n",
            "✅ All libraries have been reinstalled.\n"
          ]
        }
      ],
      "source": [
        "# Cell 1 (REVISED): Uninstall and Reinstall Key Libraries\n",
        "\n",
        "# Step 1: Clean up any potentially conflicting versions\n",
        "print(\"--> Uninstalling existing versions...\")\n",
        "!pip uninstall -y transformers accelerate datasets\n",
        "\n",
        "# Step 2: Reinstall a stable, compatible set of the core libraries\n",
        "print(\"\\n--> Reinstalling core libraries...\")\n",
        "!pip install transformers accelerate datasets\n",
        "\n",
        "# Step 3: Install the remaining libraries\n",
        "print(\"\\n--> Installing other required libraries...\")\n",
        "!pip install scikit-learn pandas imbalanced-learn -q\n",
        "\n",
        "print(\"\\n✅ All libraries have been reinstalled.\")"
      ]
    },
    {
      "cell_type": "code",
      "source": [
        "# <-- NEW: Check library versions\n",
        "# This output should be noted for the 'reproducibility' section of the paper\n",
        "!pip freeze | grep -E \"transformers|torch|scikit-learn|imbalanced-learn|datasets\""
      ],
      "metadata": {
        "colab": {
          "base_uri": "https://localhost:8080/"
        },
        "id": "P4z8A-6WF9aD",
        "outputId": "5eb522e5-0203-48cc-ddf4-5a784fdcf351"
      },
      "execution_count": null,
      "outputs": [
        {
          "output_type": "stream",
          "name": "stdout",
          "text": [
            "datasets==4.0.0\n",
            "imbalanced-learn==0.13.0\n",
            "scikit-learn==1.6.1\n",
            "sentence-transformers==5.1.0\n",
            "tensorflow-datasets==4.9.9\n",
            "torch @ https://download.pytorch.org/whl/cu124/torch-2.6.0%2Bcu124-cp311-cp311-linux_x86_64.whl\n",
            "torchao==0.10.0\n",
            "torchaudio @ https://download.pytorch.org/whl/cu124/torchaudio-2.6.0%2Bcu124-cp311-cp311-linux_x86_64.whl\n",
            "torchdata==0.11.0\n",
            "torchsummary==1.5.1\n",
            "torchtune==0.6.1\n",
            "torchvision @ https://download.pytorch.org/whl/cu124/torchvision-0.21.0%2Bcu124-cp311-cp311-linux_x86_64.whl\n",
            "transformers==4.55.2\n",
            "vega-datasets==0.9.0\n"
          ]
        }
      ]
    },
    {
      "cell_type": "code",
      "source": [
        "from google.colab import drive\n",
        "import pandas as pd\n",
        "import numpy as np\n",
        "import pickle\n",
        "import os\n",
        "import json\n",
        "import torch\n",
        "from sklearn.model_selection import StratifiedKFold\n",
        "from sklearn.metrics import classification_report\n",
        "from sklearn.utils.class_weight import compute_class_weight\n",
        "from imblearn.over_sampling import RandomOverSampler\n",
        "from transformers import AutoTokenizer, AutoModelForSequenceClassification, Trainer, TrainingArguments\n",
        "from datasets import Dataset\n",
        "\n",
        "# Mount Google Drive\n",
        "drive.mount('/content/drive')\n",
        "\n",
        "# --- KEY SETTINGS ---\n",
        "SEED = 42\n",
        "GDRIVE_PATH = '/content/drive/MyDrive/eecsi_revise/'\n",
        "MODEL_NAME = \"indobenchmark/indobert-base-p1\"\n",
        "\n",
        "# Set seed for reproducibility across all libraries\n",
        "np.random.seed(SEED)\n",
        "torch.manual_seed(SEED)\n",
        "torch.cuda.manual_seed_all(SEED)\n",
        "\n",
        "print(f\"✅ Setup complete. Working inside folder: {GDRIVE_PATH}\")"
      ],
      "metadata": {
        "colab": {
          "base_uri": "https://localhost:8080/"
        },
        "id": "fbhjVoM5GCAO",
        "outputId": "a4deb7bb-b1a1-458d-deb4-7f9f7b1eee36"
      },
      "execution_count": null,
      "outputs": [
        {
          "output_type": "stream",
          "name": "stdout",
          "text": [
            "Mounted at /content/drive\n",
            "✅ Setup complete. Working inside folder: /content/drive/MyDrive/eecsi_revise/\n"
          ]
        }
      ]
    },
    {
      "cell_type": "code",
      "source": [
        "# Define file paths\n",
        "file_path_csv = os.path.join(GDRIVE_PATH, 'final_golden_dataset_eecsi.csv')\n",
        "file_path_split = os.path.join(GDRIVE_PATH, 'kfold_splits.pkl')\n",
        "\n",
        "# Load the dataset and the split file\n",
        "try:\n",
        "    df = pd.read_csv(file_path_csv)\n",
        "    with open(file_path_split, 'rb') as f:\n",
        "        kfold_splits = pickle.load(f)\n",
        "    print(\"✅ Successfully loaded dataset and 5-fold splits.\")\n",
        "except FileNotFoundError as e:\n",
        "    print(f\"❌ ERROR: File not found. Please ensure '{e.filename}' is in the 'eecsi_revise' folder in your Google Drive.\")"
      ],
      "metadata": {
        "colab": {
          "base_uri": "https://localhost:8080/"
        },
        "id": "1KK-byvtGFK8",
        "outputId": "955a40f2-2ca8-47d3-bd53-28ea31331f2e"
      },
      "execution_count": null,
      "outputs": [
        {
          "output_type": "stream",
          "name": "stdout",
          "text": [
            "✅ Successfully loaded dataset and 5-fold splits.\n"
          ]
        }
      ]
    },
    {
      "cell_type": "code",
      "source": [
        "# Cell 5: Prepare Helper Functions & Classes\n",
        "\n",
        "# 1. Custom PyTorch Dataset Class\n",
        "class AspectDataset(torch.utils.data.Dataset):\n",
        "    def __init__(self, encodings, labels):\n",
        "        self.encodings = encodings\n",
        "        self.labels = labels\n",
        "\n",
        "    def __getitem__(self, idx):\n",
        "        item = {key: torch.tensor(val[idx]) for key, val in self.encodings.items()}\n",
        "        item['labels'] = torch.tensor(self.labels[idx])\n",
        "        return item\n",
        "\n",
        "    def __len__(self):\n",
        "        return len(self.labels)\n",
        "\n",
        "# 2. Function to compute metrics\n",
        "def compute_metrics(p):\n",
        "    preds = np.argmax(p.predictions, axis=1)\n",
        "    report = classification_report(p.label_ids, preds, output_dict=True, zero_division=0)\n",
        "    # The labels parameter is needed for a consistent report structure\n",
        "    class_labels = [id2label[i] for i in range(len(id2label))]\n",
        "    detailed_report = classification_report(p.label_ids, preds, labels=list(range(len(class_labels))), target_names=class_labels, output_dict=True, zero_division=0)\n",
        "    return {\"macro_f1\": detailed_report[\"macro avg\"][\"f1-score\"], \"detailed_report\": detailed_report}\n",
        "\n",
        "# 3. Custom Trainer for Weighted Loss\n",
        "class WeightedLossTrainer(Trainer):\n",
        "    def __init__(self, *args, class_weights=None, **kwargs):\n",
        "        super().__init__(*args, **kwargs)\n",
        "        self.class_weights = class_weights\n",
        "\n",
        "    # --- THE CHANGE IS HERE: Added **kwargs ---\n",
        "    def compute_loss(self, model, inputs, return_outputs=False, **kwargs):\n",
        "        labels = inputs.get(\"labels\")\n",
        "        outputs = model(**inputs)\n",
        "        logits = outputs.get(\"logits\")\n",
        "        # Move class_weights to the same device as logits\n",
        "        weights = self.class_weights.to(logits.device)\n",
        "        loss_fct = torch.nn.CrossEntropyLoss(weight=weights)\n",
        "        loss = loss_fct(logits.view(-1, self.model.config.num_labels), labels.view(-1))\n",
        "        return (loss, outputs) if return_outputs else loss\n",
        "\n",
        "print(\"✅ Helper functions and classes are ready.\")"
      ],
      "metadata": {
        "colab": {
          "base_uri": "https://localhost:8080/"
        },
        "id": "dFG8oz11YYqg",
        "outputId": "0333ce68-6ac0-42c9-df34-f9f12664df6f"
      },
      "execution_count": null,
      "outputs": [
        {
          "output_type": "stream",
          "name": "stdout",
          "text": [
            "✅ Helper functions and classes are ready.\n"
          ]
        }
      ]
    },
    {
      "cell_type": "code",
      "source": [
        "# List to store the evaluation results from each fold\n",
        "fold_results = []\n",
        "# Create label mappings for consistency\n",
        "labels = np.array(sorted(df['aspect'].unique()))\n",
        "label2id = {label: i for i, label in enumerate(labels)}\n",
        "id2label = {i: label for i, label in enumerate(labels)}\n",
        "\n",
        "for i, fold in enumerate(kfold_splits):\n",
        "    print(f\"--- Running Fold {i+1}/5 ---\")\n",
        "\n",
        "    # 1. Split data for the current fold\n",
        "    train_index, test_index = fold['train'], fold['test']\n",
        "    train_df = df.iloc[train_index]\n",
        "    test_df = df.iloc[test_index]\n",
        "\n",
        "    # 2. Apply Random Oversampling ONLY on the training data\n",
        "    ros = RandomOverSampler(random_state=SEED)\n",
        "    X_train_resampled, y_train_resampled = ros.fit_resample(train_df[['cleaned_text']], train_df['aspect'])\n",
        "    train_df_resampled = pd.concat([X_train_resampled, y_train_resampled], axis=1)\n",
        "\n",
        "    # 3. Compute Class Weights from the ORIGINAL imbalanced training data for this fold\n",
        "    class_weights = compute_class_weight('balanced', classes=labels, y=train_df['aspect'])\n",
        "    class_weights_tensor = torch.tensor(class_weights, dtype=torch.float)\n",
        "\n",
        "    # 4. Tokenize data\n",
        "    tokenizer = AutoTokenizer.from_pretrained(MODEL_NAME)\n",
        "    train_encodings = tokenizer(list(train_df_resampled['cleaned_text']), truncation=True, padding=True, max_length=128)\n",
        "    test_encodings = tokenizer(list(test_df['cleaned_text']), truncation=True, padding=True, max_length=128)\n",
        "\n",
        "    # Convert labels to integers\n",
        "    train_labels = [label2id[label] for label in train_df_resampled['aspect']]\n",
        "    test_labels = [label2id[label] for label in test_df['aspect']]\n",
        "\n",
        "    # Create PyTorch Datasets\n",
        "    train_dataset = AspectDataset(train_encodings, train_labels)\n",
        "    test_dataset = AspectDataset(test_encodings, test_labels)\n",
        "\n",
        "    # 5. Initialize the model for each fold to prevent weight leakage\n",
        "    model = AutoModelForSequenceClassification.from_pretrained(\n",
        "        MODEL_NAME,\n",
        "        num_labels=len(labels),\n",
        "        label2id=label2id,\n",
        "        id2label=id2label\n",
        "    )\n",
        "\n",
        "    # <-- NEW: Print model parameter count (only for the first fold)\n",
        "    if i == 0:\n",
        "        print(f\"Model Parameters: {model.num_parameters()/1e6:.2f}M\")\n",
        "\n",
        "    # 6. Define Training Arguments\n",
        "    training_args = TrainingArguments(\n",
        "        output_dir=os.path.join(GDRIVE_PATH, f'results_fold_{i+1}'),\n",
        "        num_train_epochs=5,\n",
        "        per_device_train_batch_size=16,\n",
        "        per_device_eval_batch_size=16,\n",
        "        learning_rate=2e-5,\n",
        "        eval_strategy=\"epoch\",\n",
        "        save_strategy=\"epoch\",\n",
        "        load_best_model_at_end=True,\n",
        "        metric_for_best_model=\"macro_f1\",\n",
        "        weight_decay=0.01,\n",
        "        logging_dir='./logs',\n",
        "        logging_steps=10,\n",
        "        seed=SEED,\n",
        "    )\n",
        "\n",
        "    # 7. Use the custom WeightedLossTrainer\n",
        "    trainer = WeightedLossTrainer(\n",
        "        model=model,\n",
        "        args=training_args,\n",
        "        train_dataset=train_dataset,\n",
        "        eval_dataset=test_dataset,\n",
        "        compute_metrics=compute_metrics,\n",
        "        class_weights=class_weights_tensor,\n",
        "    )\n",
        "\n",
        "    # 8. Train the model\n",
        "    trainer.train()\n",
        "\n",
        "    # 9. Evaluate and store the results\n",
        "    eval_results = trainer.evaluate()\n",
        "    fold_results.append(eval_results)\n",
        "    print(f\"Fold {i+1} complete. Evaluation results: {eval_results}\")\n",
        "\n",
        "print(\"\\n✅ 5-fold cross-validation process for IndoBERT finished.\")"
      ],
      "metadata": {
        "colab": {
          "base_uri": "https://localhost:8080/",
          "height": 1000
        },
        "id": "aOsiDV8jGLuq",
        "outputId": "8d6a2e1c-08c9-4af1-b2b7-ff8b87ace8b9"
      },
      "execution_count": null,
      "outputs": [
        {
          "metadata": {
            "tags": null
          },
          "name": "stdout",
          "output_type": "stream",
          "text": [
            "--- Running Fold 1/5 ---\n"
          ]
        },
        {
          "metadata": {
            "tags": null
          },
          "name": "stderr",
          "output_type": "stream",
          "text": [
            "Some weights of BertForSequenceClassification were not initialized from the model checkpoint at indobenchmark/indobert-base-p1 and are newly initialized: ['classifier.bias', 'classifier.weight']\n",
            "You should probably TRAIN this model on a down-stream task to be able to use it for predictions and inference.\n"
          ]
        },
        {
          "metadata": {
            "tags": null
          },
          "name": "stdout",
          "output_type": "stream",
          "text": [
            "Model Parameters: 124.45M\n"
          ]
        },
        {
          "data": {
            "text/html": [
              "\n",
              "    <div>\n",
              "      \n",
              "      <progress value='1740' max='1740' style='width:300px; height:20px; vertical-align: middle;'></progress>\n",
              "      [1740/1740 08:20, Epoch 5/5]\n",
              "    </div>\n",
              "    <table border=\"1\" class=\"dataframe\">\n",
              "  <thead>\n",
              " <tr style=\"text-align: left;\">\n",
              "      <th>Epoch</th>\n",
              "      <th>Training Loss</th>\n",
              "      <th>Validation Loss</th>\n",
              "      <th>Macro F1</th>\n",
              "      <th>Detailed Report</th>\n",
              "    </tr>\n",
              "  </thead>\n",
              "  <tbody>\n",
              "    <tr>\n",
              "      <td>1</td>\n",
              "      <td>0.241600</td>\n",
              "      <td>0.898412</td>\n",
              "      <td>0.702406</td>\n",
              "      <td>{np.str_('Irrelevant'): {'precision': 0.8768115942028986, 'recall': 0.6080402010050251, 'f1-score': 0.7181008902077152, 'support': 199.0}, np.str_('Smart Economy'): {'precision': 0.5656565656565656, 'recall': 0.9180327868852459, 'f1-score': 0.7, 'support': 61.0}, np.str_('Smart Environment'): {'precision': 0.8, 'recall': 0.8301886792452831, 'f1-score': 0.8148148148148148, 'support': 53.0}, np.str_('Smart Governance'): {'precision': 0.7246376811594203, 'recall': 0.6944444444444444, 'f1-score': 0.7092198581560284, 'support': 144.0}, np.str_('Smart Living'): {'precision': 0.4823529411764706, 'recall': 0.7068965517241379, 'f1-score': 0.5734265734265734, 'support': 58.0}, np.str_('Smart Mobility'): {'precision': 0.8421052631578947, 'recall': 0.9230769230769231, 'f1-score': 0.8807339449541285, 'support': 52.0}, np.str_('Smart People'): {'precision': 0.5588235294117647, 'recall': 0.48717948717948717, 'f1-score': 0.5205479452054794, 'support': 39.0}, 'accuracy': 0.7079207920792079, 'macro avg': {'precision': 0.6929125106807162, 'recall': 0.738265581937221, 'f1-score': 0.70240628953782, 'support': 606.0}, 'weighted avg': {'precision': 0.741416577158232, 'recall': 0.7079207920792079, 'f1-score': 0.710021779159007, 'support': 606.0}}</td>\n",
              "    </tr>\n",
              "    <tr>\n",
              "      <td>2</td>\n",
              "      <td>0.052600</td>\n",
              "      <td>1.062671</td>\n",
              "      <td>0.733793</td>\n",
              "      <td>{np.str_('Irrelevant'): {'precision': 0.8535031847133758, 'recall': 0.6733668341708543, 'f1-score': 0.7528089887640449, 'support': 199.0}, np.str_('Smart Economy'): {'precision': 0.6956521739130435, 'recall': 0.7868852459016393, 'f1-score': 0.7384615384615385, 'support': 61.0}, np.str_('Smart Environment'): {'precision': 0.8269230769230769, 'recall': 0.8113207547169812, 'f1-score': 0.819047619047619, 'support': 53.0}, np.str_('Smart Governance'): {'precision': 0.65, 'recall': 0.8125, 'f1-score': 0.7222222222222222, 'support': 144.0}, np.str_('Smart Living'): {'precision': 0.6727272727272727, 'recall': 0.6379310344827587, 'f1-score': 0.6548672566371682, 'support': 58.0}, np.str_('Smart Mobility'): {'precision': 0.8103448275862069, 'recall': 0.9038461538461539, 'f1-score': 0.8545454545454545, 'support': 52.0}, np.str_('Smart People'): {'precision': 0.6285714285714286, 'recall': 0.5641025641025641, 'f1-score': 0.5945945945945946, 'support': 39.0}, 'accuracy': 0.7392739273927392, 'macro avg': {'precision': 0.7339602806334862, 'recall': 0.7414217981744217, 'f1-score': 0.7337925248960916, 'support': 606.0}, 'weighted avg': {'precision': 0.7514508878061564, 'recall': 0.7392739273927392, 'f1-score': 0.7390635645713386, 'support': 606.0}}</td>\n",
              "    </tr>\n",
              "    <tr>\n",
              "      <td>3</td>\n",
              "      <td>0.004000</td>\n",
              "      <td>1.106318</td>\n",
              "      <td>0.734518</td>\n",
              "      <td>{np.str_('Irrelevant'): {'precision': 0.7783018867924528, 'recall': 0.8291457286432161, 'f1-score': 0.8029197080291971, 'support': 199.0}, np.str_('Smart Economy'): {'precision': 0.7142857142857143, 'recall': 0.7377049180327869, 'f1-score': 0.7258064516129032, 'support': 61.0}, np.str_('Smart Environment'): {'precision': 0.8148148148148148, 'recall': 0.8301886792452831, 'f1-score': 0.822429906542056, 'support': 53.0}, np.str_('Smart Governance'): {'precision': 0.7222222222222222, 'recall': 0.7222222222222222, 'f1-score': 0.7222222222222222, 'support': 144.0}, np.str_('Smart Living'): {'precision': 0.6976744186046512, 'recall': 0.5172413793103449, 'f1-score': 0.594059405940594, 'support': 58.0}, np.str_('Smart Mobility'): {'precision': 0.8867924528301887, 'recall': 0.9038461538461539, 'f1-score': 0.8952380952380953, 'support': 52.0}, np.str_('Smart People'): {'precision': 0.5945945945945946, 'recall': 0.5641025641025641, 'f1-score': 0.5789473684210527, 'support': 39.0}, 'accuracy': 0.7541254125412541, 'macro avg': {'precision': 0.7440980148778056, 'recall': 0.729207377914653, 'f1-score': 0.7345175940008745, 'support': 606.0}, 'weighted avg': {'precision': 0.7514953832404959, 'recall': 0.7541254125412541, 'f1-score': 0.7512058982809946, 'support': 606.0}}</td>\n",
              "    </tr>\n",
              "    <tr>\n",
              "      <td>4</td>\n",
              "      <td>0.017100</td>\n",
              "      <td>1.271081</td>\n",
              "      <td>0.741087</td>\n",
              "      <td>{np.str_('Irrelevant'): {'precision': 0.8457142857142858, 'recall': 0.7437185929648241, 'f1-score': 0.7914438502673797, 'support': 199.0}, np.str_('Smart Economy'): {'precision': 0.71875, 'recall': 0.7540983606557377, 'f1-score': 0.736, 'support': 61.0}, np.str_('Smart Environment'): {'precision': 0.8113207547169812, 'recall': 0.8113207547169812, 'f1-score': 0.8113207547169812, 'support': 53.0}, np.str_('Smart Governance'): {'precision': 0.6557377049180327, 'recall': 0.8333333333333334, 'f1-score': 0.7339449541284404, 'support': 144.0}, np.str_('Smart Living'): {'precision': 0.6666666666666666, 'recall': 0.5862068965517241, 'f1-score': 0.6238532110091743, 'support': 58.0}, np.str_('Smart Mobility'): {'precision': 0.9, 'recall': 0.8653846153846154, 'f1-score': 0.8823529411764706, 'support': 52.0}, np.str_('Smart People'): {'precision': 0.7, 'recall': 0.5384615384615384, 'f1-score': 0.6086956521739131, 'support': 39.0}, 'accuracy': 0.7541254125412541, 'macro avg': {'precision': 0.7568842017165666, 'recall': 0.7332177274383935, 'f1-score': 0.7410873376389084, 'support': 606.0}, 'weighted avg': {'precision': 0.7629270446072711, 'recall': 0.7541254125412541, 'f1-score': 0.7539379029904211, 'support': 606.0}}</td>\n",
              "    </tr>\n",
              "    <tr>\n",
              "      <td>5</td>\n",
              "      <td>0.001500</td>\n",
              "      <td>1.258981</td>\n",
              "      <td>0.738437</td>\n",
              "      <td>{np.str_('Irrelevant'): {'precision': 0.8142076502732241, 'recall': 0.7487437185929648, 'f1-score': 0.7801047120418848, 'support': 199.0}, np.str_('Smart Economy'): {'precision': 0.71875, 'recall': 0.7540983606557377, 'f1-score': 0.736, 'support': 61.0}, np.str_('Smart Environment'): {'precision': 0.8181818181818182, 'recall': 0.8490566037735849, 'f1-score': 0.8333333333333334, 'support': 53.0}, np.str_('Smart Governance'): {'precision': 0.6686390532544378, 'recall': 0.7847222222222222, 'f1-score': 0.7220447284345048, 'support': 144.0}, np.str_('Smart Living'): {'precision': 0.68, 'recall': 0.5862068965517241, 'f1-score': 0.6296296296296297, 'support': 58.0}, np.str_('Smart Mobility'): {'precision': 0.8846153846153846, 'recall': 0.8846153846153846, 'f1-score': 0.8846153846153846, 'support': 52.0}, np.str_('Smart People'): {'precision': 0.6363636363636364, 'recall': 0.5384615384615384, 'f1-score': 0.5833333333333334, 'support': 39.0}, 'accuracy': 0.7491749174917491, 'macro avg': {'precision': 0.7458225060983573, 'recall': 0.735129246410451, 'f1-score': 0.7384373030554388, 'support': 606.0}, 'weighted avg': {'precision': 0.7521071192323907, 'recall': 0.7491749174917491, 'f1-score': 0.748426507881335, 'support': 606.0}}</td>\n",
              "    </tr>\n",
              "  </tbody>\n",
              "</table><p>"
            ],
            "text/plain": [
              "<IPython.core.display.HTML object>"
            ]
          },
          "metadata": {},
          "output_type": "display_data"
        },
        {
          "metadata": {
            "tags": null
          },
          "name": "stderr",
          "output_type": "stream",
          "text": [
            "Trainer is attempting to log a value of \"{np.str_('Irrelevant'): {'precision': 0.8768115942028986, 'recall': 0.6080402010050251, 'f1-score': 0.7181008902077152, 'support': 199.0}, np.str_('Smart Economy'): {'precision': 0.5656565656565656, 'recall': 0.9180327868852459, 'f1-score': 0.7, 'support': 61.0}, np.str_('Smart Environment'): {'precision': 0.8, 'recall': 0.8301886792452831, 'f1-score': 0.8148148148148148, 'support': 53.0}, np.str_('Smart Governance'): {'precision': 0.7246376811594203, 'recall': 0.6944444444444444, 'f1-score': 0.7092198581560284, 'support': 144.0}, np.str_('Smart Living'): {'precision': 0.4823529411764706, 'recall': 0.7068965517241379, 'f1-score': 0.5734265734265734, 'support': 58.0}, np.str_('Smart Mobility'): {'precision': 0.8421052631578947, 'recall': 0.9230769230769231, 'f1-score': 0.8807339449541285, 'support': 52.0}, np.str_('Smart People'): {'precision': 0.5588235294117647, 'recall': 0.48717948717948717, 'f1-score': 0.5205479452054794, 'support': 39.0}, 'accuracy': 0.7079207920792079, 'macro avg': {'precision': 0.6929125106807162, 'recall': 0.738265581937221, 'f1-score': 0.70240628953782, 'support': 606.0}, 'weighted avg': {'precision': 0.741416577158232, 'recall': 0.7079207920792079, 'f1-score': 0.710021779159007, 'support': 606.0}}\" of type <class 'dict'> for key \"eval/detailed_report\" as a scalar. This invocation of Tensorboard's writer.add_scalar() is incorrect so we dropped this attribute.\n",
            "Trainer is attempting to log a value of \"{np.str_('Irrelevant'): {'precision': 0.8535031847133758, 'recall': 0.6733668341708543, 'f1-score': 0.7528089887640449, 'support': 199.0}, np.str_('Smart Economy'): {'precision': 0.6956521739130435, 'recall': 0.7868852459016393, 'f1-score': 0.7384615384615385, 'support': 61.0}, np.str_('Smart Environment'): {'precision': 0.8269230769230769, 'recall': 0.8113207547169812, 'f1-score': 0.819047619047619, 'support': 53.0}, np.str_('Smart Governance'): {'precision': 0.65, 'recall': 0.8125, 'f1-score': 0.7222222222222222, 'support': 144.0}, np.str_('Smart Living'): {'precision': 0.6727272727272727, 'recall': 0.6379310344827587, 'f1-score': 0.6548672566371682, 'support': 58.0}, np.str_('Smart Mobility'): {'precision': 0.8103448275862069, 'recall': 0.9038461538461539, 'f1-score': 0.8545454545454545, 'support': 52.0}, np.str_('Smart People'): {'precision': 0.6285714285714286, 'recall': 0.5641025641025641, 'f1-score': 0.5945945945945946, 'support': 39.0}, 'accuracy': 0.7392739273927392, 'macro avg': {'precision': 0.7339602806334862, 'recall': 0.7414217981744217, 'f1-score': 0.7337925248960916, 'support': 606.0}, 'weighted avg': {'precision': 0.7514508878061564, 'recall': 0.7392739273927392, 'f1-score': 0.7390635645713386, 'support': 606.0}}\" of type <class 'dict'> for key \"eval/detailed_report\" as a scalar. This invocation of Tensorboard's writer.add_scalar() is incorrect so we dropped this attribute.\n",
            "Trainer is attempting to log a value of \"{np.str_('Irrelevant'): {'precision': 0.7783018867924528, 'recall': 0.8291457286432161, 'f1-score': 0.8029197080291971, 'support': 199.0}, np.str_('Smart Economy'): {'precision': 0.7142857142857143, 'recall': 0.7377049180327869, 'f1-score': 0.7258064516129032, 'support': 61.0}, np.str_('Smart Environment'): {'precision': 0.8148148148148148, 'recall': 0.8301886792452831, 'f1-score': 0.822429906542056, 'support': 53.0}, np.str_('Smart Governance'): {'precision': 0.7222222222222222, 'recall': 0.7222222222222222, 'f1-score': 0.7222222222222222, 'support': 144.0}, np.str_('Smart Living'): {'precision': 0.6976744186046512, 'recall': 0.5172413793103449, 'f1-score': 0.594059405940594, 'support': 58.0}, np.str_('Smart Mobility'): {'precision': 0.8867924528301887, 'recall': 0.9038461538461539, 'f1-score': 0.8952380952380953, 'support': 52.0}, np.str_('Smart People'): {'precision': 0.5945945945945946, 'recall': 0.5641025641025641, 'f1-score': 0.5789473684210527, 'support': 39.0}, 'accuracy': 0.7541254125412541, 'macro avg': {'precision': 0.7440980148778056, 'recall': 0.729207377914653, 'f1-score': 0.7345175940008745, 'support': 606.0}, 'weighted avg': {'precision': 0.7514953832404959, 'recall': 0.7541254125412541, 'f1-score': 0.7512058982809946, 'support': 606.0}}\" of type <class 'dict'> for key \"eval/detailed_report\" as a scalar. This invocation of Tensorboard's writer.add_scalar() is incorrect so we dropped this attribute.\n",
            "Trainer is attempting to log a value of \"{np.str_('Irrelevant'): {'precision': 0.8457142857142858, 'recall': 0.7437185929648241, 'f1-score': 0.7914438502673797, 'support': 199.0}, np.str_('Smart Economy'): {'precision': 0.71875, 'recall': 0.7540983606557377, 'f1-score': 0.736, 'support': 61.0}, np.str_('Smart Environment'): {'precision': 0.8113207547169812, 'recall': 0.8113207547169812, 'f1-score': 0.8113207547169812, 'support': 53.0}, np.str_('Smart Governance'): {'precision': 0.6557377049180327, 'recall': 0.8333333333333334, 'f1-score': 0.7339449541284404, 'support': 144.0}, np.str_('Smart Living'): {'precision': 0.6666666666666666, 'recall': 0.5862068965517241, 'f1-score': 0.6238532110091743, 'support': 58.0}, np.str_('Smart Mobility'): {'precision': 0.9, 'recall': 0.8653846153846154, 'f1-score': 0.8823529411764706, 'support': 52.0}, np.str_('Smart People'): {'precision': 0.7, 'recall': 0.5384615384615384, 'f1-score': 0.6086956521739131, 'support': 39.0}, 'accuracy': 0.7541254125412541, 'macro avg': {'precision': 0.7568842017165666, 'recall': 0.7332177274383935, 'f1-score': 0.7410873376389084, 'support': 606.0}, 'weighted avg': {'precision': 0.7629270446072711, 'recall': 0.7541254125412541, 'f1-score': 0.7539379029904211, 'support': 606.0}}\" of type <class 'dict'> for key \"eval/detailed_report\" as a scalar. This invocation of Tensorboard's writer.add_scalar() is incorrect so we dropped this attribute.\n",
            "Trainer is attempting to log a value of \"{np.str_('Irrelevant'): {'precision': 0.8142076502732241, 'recall': 0.7487437185929648, 'f1-score': 0.7801047120418848, 'support': 199.0}, np.str_('Smart Economy'): {'precision': 0.71875, 'recall': 0.7540983606557377, 'f1-score': 0.736, 'support': 61.0}, np.str_('Smart Environment'): {'precision': 0.8181818181818182, 'recall': 0.8490566037735849, 'f1-score': 0.8333333333333334, 'support': 53.0}, np.str_('Smart Governance'): {'precision': 0.6686390532544378, 'recall': 0.7847222222222222, 'f1-score': 0.7220447284345048, 'support': 144.0}, np.str_('Smart Living'): {'precision': 0.68, 'recall': 0.5862068965517241, 'f1-score': 0.6296296296296297, 'support': 58.0}, np.str_('Smart Mobility'): {'precision': 0.8846153846153846, 'recall': 0.8846153846153846, 'f1-score': 0.8846153846153846, 'support': 52.0}, np.str_('Smart People'): {'precision': 0.6363636363636364, 'recall': 0.5384615384615384, 'f1-score': 0.5833333333333334, 'support': 39.0}, 'accuracy': 0.7491749174917491, 'macro avg': {'precision': 0.7458225060983573, 'recall': 0.735129246410451, 'f1-score': 0.7384373030554388, 'support': 606.0}, 'weighted avg': {'precision': 0.7521071192323907, 'recall': 0.7491749174917491, 'f1-score': 0.748426507881335, 'support': 606.0}}\" of type <class 'dict'> for key \"eval/detailed_report\" as a scalar. This invocation of Tensorboard's writer.add_scalar() is incorrect so we dropped this attribute.\n"
          ]
        },
        {
          "data": {
            "text/html": [
              "\n",
              "    <div>\n",
              "      \n",
              "      <progress value='38' max='38' style='width:300px; height:20px; vertical-align: middle;'></progress>\n",
              "      [38/38 00:02]\n",
              "    </div>\n",
              "    "
            ],
            "text/plain": [
              "<IPython.core.display.HTML object>"
            ]
          },
          "metadata": {},
          "output_type": "display_data"
        },
        {
          "metadata": {
            "tags": null
          },
          "name": "stderr",
          "output_type": "stream",
          "text": [
            "Trainer is attempting to log a value of \"{np.str_('Irrelevant'): {'precision': 0.8457142857142858, 'recall': 0.7437185929648241, 'f1-score': 0.7914438502673797, 'support': 199.0}, np.str_('Smart Economy'): {'precision': 0.71875, 'recall': 0.7540983606557377, 'f1-score': 0.736, 'support': 61.0}, np.str_('Smart Environment'): {'precision': 0.8113207547169812, 'recall': 0.8113207547169812, 'f1-score': 0.8113207547169812, 'support': 53.0}, np.str_('Smart Governance'): {'precision': 0.6557377049180327, 'recall': 0.8333333333333334, 'f1-score': 0.7339449541284404, 'support': 144.0}, np.str_('Smart Living'): {'precision': 0.6666666666666666, 'recall': 0.5862068965517241, 'f1-score': 0.6238532110091743, 'support': 58.0}, np.str_('Smart Mobility'): {'precision': 0.9, 'recall': 0.8653846153846154, 'f1-score': 0.8823529411764706, 'support': 52.0}, np.str_('Smart People'): {'precision': 0.7, 'recall': 0.5384615384615384, 'f1-score': 0.6086956521739131, 'support': 39.0}, 'accuracy': 0.7541254125412541, 'macro avg': {'precision': 0.7568842017165666, 'recall': 0.7332177274383935, 'f1-score': 0.7410873376389084, 'support': 606.0}, 'weighted avg': {'precision': 0.7629270446072711, 'recall': 0.7541254125412541, 'f1-score': 0.7539379029904211, 'support': 606.0}}\" of type <class 'dict'> for key \"eval/detailed_report\" as a scalar. This invocation of Tensorboard's writer.add_scalar() is incorrect so we dropped this attribute.\n"
          ]
        },
        {
          "metadata": {
            "tags": null
          },
          "name": "stdout",
          "output_type": "stream",
          "text": [
            "Fold 1 complete. Evaluation results: {'eval_loss': 1.271080732345581, 'eval_macro_f1': 0.7410873376389084, 'eval_detailed_report': {np.str_('Irrelevant'): {'precision': 0.8457142857142858, 'recall': 0.7437185929648241, 'f1-score': 0.7914438502673797, 'support': 199.0}, np.str_('Smart Economy'): {'precision': 0.71875, 'recall': 0.7540983606557377, 'f1-score': 0.736, 'support': 61.0}, np.str_('Smart Environment'): {'precision': 0.8113207547169812, 'recall': 0.8113207547169812, 'f1-score': 0.8113207547169812, 'support': 53.0}, np.str_('Smart Governance'): {'precision': 0.6557377049180327, 'recall': 0.8333333333333334, 'f1-score': 0.7339449541284404, 'support': 144.0}, np.str_('Smart Living'): {'precision': 0.6666666666666666, 'recall': 0.5862068965517241, 'f1-score': 0.6238532110091743, 'support': 58.0}, np.str_('Smart Mobility'): {'precision': 0.9, 'recall': 0.8653846153846154, 'f1-score': 0.8823529411764706, 'support': 52.0}, np.str_('Smart People'): {'precision': 0.7, 'recall': 0.5384615384615384, 'f1-score': 0.6086956521739131, 'support': 39.0}, 'accuracy': 0.7541254125412541, 'macro avg': {'precision': 0.7568842017165666, 'recall': 0.7332177274383935, 'f1-score': 0.7410873376389084, 'support': 606.0}, 'weighted avg': {'precision': 0.7629270446072711, 'recall': 0.7541254125412541, 'f1-score': 0.7539379029904211, 'support': 606.0}}, 'eval_runtime': 2.2618, 'eval_samples_per_second': 267.931, 'eval_steps_per_second': 16.801, 'epoch': 5.0}\n",
            "--- Running Fold 2/5 ---\n"
          ]
        },
        {
          "metadata": {
            "tags": null
          },
          "name": "stderr",
          "output_type": "stream",
          "text": [
            "Some weights of BertForSequenceClassification were not initialized from the model checkpoint at indobenchmark/indobert-base-p1 and are newly initialized: ['classifier.bias', 'classifier.weight']\n",
            "You should probably TRAIN this model on a down-stream task to be able to use it for predictions and inference.\n"
          ]
        },
        {
          "data": {
            "text/html": [
              "\n",
              "    <div>\n",
              "      \n",
              "      <progress value='1740' max='1740' style='width:300px; height:20px; vertical-align: middle;'></progress>\n",
              "      [1740/1740 08:26, Epoch 5/5]\n",
              "    </div>\n",
              "    <table border=\"1\" class=\"dataframe\">\n",
              "  <thead>\n",
              " <tr style=\"text-align: left;\">\n",
              "      <th>Epoch</th>\n",
              "      <th>Training Loss</th>\n",
              "      <th>Validation Loss</th>\n",
              "      <th>Macro F1</th>\n",
              "      <th>Detailed Report</th>\n",
              "    </tr>\n",
              "  </thead>\n",
              "  <tbody>\n",
              "    <tr>\n",
              "      <td>1</td>\n",
              "      <td>0.211100</td>\n",
              "      <td>0.787389</td>\n",
              "      <td>0.724403</td>\n",
              "      <td>{np.str_('Irrelevant'): {'precision': 0.8546511627906976, 'recall': 0.7386934673366834, 'f1-score': 0.7924528301886793, 'support': 199.0}, np.str_('Smart Economy'): {'precision': 0.7164179104477612, 'recall': 0.7868852459016393, 'f1-score': 0.75, 'support': 61.0}, np.str_('Smart Environment'): {'precision': 0.7678571428571429, 'recall': 0.8113207547169812, 'f1-score': 0.7889908256880734, 'support': 53.0}, np.str_('Smart Governance'): {'precision': 0.7421875, 'recall': 0.6597222222222222, 'f1-score': 0.6985294117647058, 'support': 144.0}, np.str_('Smart Living'): {'precision': 0.48936170212765956, 'recall': 0.7931034482758621, 'f1-score': 0.6052631578947368, 'support': 58.0}, np.str_('Smart Mobility'): {'precision': 0.8214285714285714, 'recall': 0.8679245283018868, 'f1-score': 0.8440366972477065, 'support': 53.0}, np.str_('Smart People'): {'precision': 0.6363636363636364, 'recall': 0.5526315789473685, 'f1-score': 0.5915492957746479, 'support': 38.0}, 'accuracy': 0.735973597359736, 'macro avg': {'precision': 0.7183239465736385, 'recall': 0.7443258922432348, 'f1-score': 0.7244031740797928, 'support': 606.0}, 'weighted avg': {'precision': 0.7548663592327187, 'recall': 0.735973597359736, 'f1-score': 0.7395560125653341, 'support': 606.0}}</td>\n",
              "    </tr>\n",
              "    <tr>\n",
              "      <td>2</td>\n",
              "      <td>0.064300</td>\n",
              "      <td>0.946380</td>\n",
              "      <td>0.733799</td>\n",
              "      <td>{np.str_('Irrelevant'): {'precision': 0.8853503184713376, 'recall': 0.6984924623115578, 'f1-score': 0.7808988764044944, 'support': 199.0}, np.str_('Smart Economy'): {'precision': 0.6708860759493671, 'recall': 0.8688524590163934, 'f1-score': 0.7571428571428571, 'support': 61.0}, np.str_('Smart Environment'): {'precision': 0.7014925373134329, 'recall': 0.8867924528301887, 'f1-score': 0.7833333333333333, 'support': 53.0}, np.str_('Smart Governance'): {'precision': 0.6807228915662651, 'recall': 0.7847222222222222, 'f1-score': 0.7290322580645161, 'support': 144.0}, np.str_('Smart Living'): {'precision': 0.6792452830188679, 'recall': 0.6206896551724138, 'f1-score': 0.6486486486486487, 'support': 58.0}, np.str_('Smart Mobility'): {'precision': 0.8545454545454545, 'recall': 0.8867924528301887, 'f1-score': 0.8703703703703703, 'support': 53.0}, np.str_('Smart People'): {'precision': 0.6551724137931034, 'recall': 0.5, 'f1-score': 0.5671641791044776, 'support': 38.0}, 'accuracy': 0.7491749174917491, 'macro avg': {'precision': 0.7324878535225469, 'recall': 0.7494773863404235, 'f1-score': 0.7337986461526711, 'support': 606.0}, 'weighted avg': {'precision': 0.7622040463729424, 'recall': 0.7491749174917491, 'f1-score': 0.7481607138207707, 'support': 606.0}}</td>\n",
              "    </tr>\n",
              "    <tr>\n",
              "      <td>3</td>\n",
              "      <td>0.031300</td>\n",
              "      <td>1.073018</td>\n",
              "      <td>0.735344</td>\n",
              "      <td>{np.str_('Irrelevant'): {'precision': 0.8578947368421053, 'recall': 0.8190954773869347, 'f1-score': 0.8380462724935732, 'support': 199.0}, np.str_('Smart Economy'): {'precision': 0.7419354838709677, 'recall': 0.7540983606557377, 'f1-score': 0.7479674796747967, 'support': 61.0}, np.str_('Smart Environment'): {'precision': 0.75, 'recall': 0.7924528301886793, 'f1-score': 0.7706422018348624, 'support': 53.0}, np.str_('Smart Governance'): {'precision': 0.7018633540372671, 'recall': 0.7847222222222222, 'f1-score': 0.740983606557377, 'support': 144.0}, np.str_('Smart Living'): {'precision': 0.6785714285714286, 'recall': 0.6551724137931034, 'f1-score': 0.6666666666666666, 'support': 58.0}, np.str_('Smart Mobility'): {'precision': 0.8363636363636363, 'recall': 0.8679245283018868, 'f1-score': 0.8518518518518519, 'support': 53.0}, np.str_('Smart People'): {'precision': 0.6538461538461539, 'recall': 0.4473684210526316, 'f1-score': 0.53125, 'support': 38.0}, 'accuracy': 0.7673267326732673, 'macro avg': {'precision': 0.7457821133616512, 'recall': 0.7315477505144566, 'f1-score': 0.7353440112970182, 'support': 606.0}, 'weighted avg': {'precision': 0.7678680025736697, 'recall': 0.7673267326732673, 'f1-score': 0.7655861639318622, 'support': 606.0}}</td>\n",
              "    </tr>\n",
              "    <tr>\n",
              "      <td>4</td>\n",
              "      <td>0.005400</td>\n",
              "      <td>1.139531</td>\n",
              "      <td>0.741411</td>\n",
              "      <td>{np.str_('Irrelevant'): {'precision': 0.8195121951219512, 'recall': 0.8442211055276382, 'f1-score': 0.8316831683168316, 'support': 199.0}, np.str_('Smart Economy'): {'precision': 0.7758620689655172, 'recall': 0.7377049180327869, 'f1-score': 0.7563025210084033, 'support': 61.0}, np.str_('Smart Environment'): {'precision': 0.7377049180327869, 'recall': 0.8490566037735849, 'f1-score': 0.7894736842105263, 'support': 53.0}, np.str_('Smart Governance'): {'precision': 0.75, 'recall': 0.75, 'f1-score': 0.75, 'support': 144.0}, np.str_('Smart Living'): {'precision': 0.6349206349206349, 'recall': 0.6896551724137931, 'f1-score': 0.6611570247933884, 'support': 58.0}, np.str_('Smart Mobility'): {'precision': 0.8679245283018868, 'recall': 0.8679245283018868, 'f1-score': 0.8679245283018868, 'support': 53.0}, np.str_('Smart People'): {'precision': 0.7272727272727273, 'recall': 0.42105263157894735, 'f1-score': 0.5333333333333333, 'support': 38.0}, 'accuracy': 0.7722772277227723, 'macro avg': {'precision': 0.7590281532307863, 'recall': 0.7370878513755196, 'f1-score': 0.7414106085663386, 'support': 606.0}, 'weighted avg': {'precision': 0.7722287692304669, 'recall': 0.7722772277227723, 'f1-score': 0.7691341314264079, 'support': 606.0}}</td>\n",
              "    </tr>\n",
              "    <tr>\n",
              "      <td>5</td>\n",
              "      <td>0.001600</td>\n",
              "      <td>1.153539</td>\n",
              "      <td>0.741105</td>\n",
              "      <td>{np.str_('Irrelevant'): {'precision': 0.8195121951219512, 'recall': 0.8442211055276382, 'f1-score': 0.8316831683168316, 'support': 199.0}, np.str_('Smart Economy'): {'precision': 0.7580645161290323, 'recall': 0.7704918032786885, 'f1-score': 0.7642276422764228, 'support': 61.0}, np.str_('Smart Environment'): {'precision': 0.7377049180327869, 'recall': 0.8490566037735849, 'f1-score': 0.7894736842105263, 'support': 53.0}, np.str_('Smart Governance'): {'precision': 0.7622377622377622, 'recall': 0.7569444444444444, 'f1-score': 0.759581881533101, 'support': 144.0}, np.str_('Smart Living'): {'precision': 0.6557377049180327, 'recall': 0.6896551724137931, 'f1-score': 0.6722689075630253, 'support': 58.0}, np.str_('Smart Mobility'): {'precision': 0.88, 'recall': 0.8301886792452831, 'f1-score': 0.8543689320388349, 'support': 53.0}, np.str_('Smart People'): {'precision': 0.6666666666666666, 'recall': 0.42105263157894735, 'f1-score': 0.5161290322580645, 'support': 38.0}, 'accuracy': 0.7739273927392739, 'macro avg': {'precision': 0.7542748233008904, 'recall': 0.7373729200374827, 'f1-score': 0.7411047497424009, 'support': 606.0}, 'weighted avg': {'precision': 0.7725933679037854, 'recall': 0.7739273927392739, 'f1-score': 0.7710078979213794, 'support': 606.0}}</td>\n",
              "    </tr>\n",
              "  </tbody>\n",
              "</table><p>"
            ],
            "text/plain": [
              "<IPython.core.display.HTML object>"
            ]
          },
          "metadata": {},
          "output_type": "display_data"
        },
        {
          "metadata": {
            "tags": null
          },
          "name": "stderr",
          "output_type": "stream",
          "text": [
            "Trainer is attempting to log a value of \"{np.str_('Irrelevant'): {'precision': 0.8546511627906976, 'recall': 0.7386934673366834, 'f1-score': 0.7924528301886793, 'support': 199.0}, np.str_('Smart Economy'): {'precision': 0.7164179104477612, 'recall': 0.7868852459016393, 'f1-score': 0.75, 'support': 61.0}, np.str_('Smart Environment'): {'precision': 0.7678571428571429, 'recall': 0.8113207547169812, 'f1-score': 0.7889908256880734, 'support': 53.0}, np.str_('Smart Governance'): {'precision': 0.7421875, 'recall': 0.6597222222222222, 'f1-score': 0.6985294117647058, 'support': 144.0}, np.str_('Smart Living'): {'precision': 0.48936170212765956, 'recall': 0.7931034482758621, 'f1-score': 0.6052631578947368, 'support': 58.0}, np.str_('Smart Mobility'): {'precision': 0.8214285714285714, 'recall': 0.8679245283018868, 'f1-score': 0.8440366972477065, 'support': 53.0}, np.str_('Smart People'): {'precision': 0.6363636363636364, 'recall': 0.5526315789473685, 'f1-score': 0.5915492957746479, 'support': 38.0}, 'accuracy': 0.735973597359736, 'macro avg': {'precision': 0.7183239465736385, 'recall': 0.7443258922432348, 'f1-score': 0.7244031740797928, 'support': 606.0}, 'weighted avg': {'precision': 0.7548663592327187, 'recall': 0.735973597359736, 'f1-score': 0.7395560125653341, 'support': 606.0}}\" of type <class 'dict'> for key \"eval/detailed_report\" as a scalar. This invocation of Tensorboard's writer.add_scalar() is incorrect so we dropped this attribute.\n",
            "Trainer is attempting to log a value of \"{np.str_('Irrelevant'): {'precision': 0.8853503184713376, 'recall': 0.6984924623115578, 'f1-score': 0.7808988764044944, 'support': 199.0}, np.str_('Smart Economy'): {'precision': 0.6708860759493671, 'recall': 0.8688524590163934, 'f1-score': 0.7571428571428571, 'support': 61.0}, np.str_('Smart Environment'): {'precision': 0.7014925373134329, 'recall': 0.8867924528301887, 'f1-score': 0.7833333333333333, 'support': 53.0}, np.str_('Smart Governance'): {'precision': 0.6807228915662651, 'recall': 0.7847222222222222, 'f1-score': 0.7290322580645161, 'support': 144.0}, np.str_('Smart Living'): {'precision': 0.6792452830188679, 'recall': 0.6206896551724138, 'f1-score': 0.6486486486486487, 'support': 58.0}, np.str_('Smart Mobility'): {'precision': 0.8545454545454545, 'recall': 0.8867924528301887, 'f1-score': 0.8703703703703703, 'support': 53.0}, np.str_('Smart People'): {'precision': 0.6551724137931034, 'recall': 0.5, 'f1-score': 0.5671641791044776, 'support': 38.0}, 'accuracy': 0.7491749174917491, 'macro avg': {'precision': 0.7324878535225469, 'recall': 0.7494773863404235, 'f1-score': 0.7337986461526711, 'support': 606.0}, 'weighted avg': {'precision': 0.7622040463729424, 'recall': 0.7491749174917491, 'f1-score': 0.7481607138207707, 'support': 606.0}}\" of type <class 'dict'> for key \"eval/detailed_report\" as a scalar. This invocation of Tensorboard's writer.add_scalar() is incorrect so we dropped this attribute.\n",
            "Trainer is attempting to log a value of \"{np.str_('Irrelevant'): {'precision': 0.8578947368421053, 'recall': 0.8190954773869347, 'f1-score': 0.8380462724935732, 'support': 199.0}, np.str_('Smart Economy'): {'precision': 0.7419354838709677, 'recall': 0.7540983606557377, 'f1-score': 0.7479674796747967, 'support': 61.0}, np.str_('Smart Environment'): {'precision': 0.75, 'recall': 0.7924528301886793, 'f1-score': 0.7706422018348624, 'support': 53.0}, np.str_('Smart Governance'): {'precision': 0.7018633540372671, 'recall': 0.7847222222222222, 'f1-score': 0.740983606557377, 'support': 144.0}, np.str_('Smart Living'): {'precision': 0.6785714285714286, 'recall': 0.6551724137931034, 'f1-score': 0.6666666666666666, 'support': 58.0}, np.str_('Smart Mobility'): {'precision': 0.8363636363636363, 'recall': 0.8679245283018868, 'f1-score': 0.8518518518518519, 'support': 53.0}, np.str_('Smart People'): {'precision': 0.6538461538461539, 'recall': 0.4473684210526316, 'f1-score': 0.53125, 'support': 38.0}, 'accuracy': 0.7673267326732673, 'macro avg': {'precision': 0.7457821133616512, 'recall': 0.7315477505144566, 'f1-score': 0.7353440112970182, 'support': 606.0}, 'weighted avg': {'precision': 0.7678680025736697, 'recall': 0.7673267326732673, 'f1-score': 0.7655861639318622, 'support': 606.0}}\" of type <class 'dict'> for key \"eval/detailed_report\" as a scalar. This invocation of Tensorboard's writer.add_scalar() is incorrect so we dropped this attribute.\n",
            "Trainer is attempting to log a value of \"{np.str_('Irrelevant'): {'precision': 0.8195121951219512, 'recall': 0.8442211055276382, 'f1-score': 0.8316831683168316, 'support': 199.0}, np.str_('Smart Economy'): {'precision': 0.7758620689655172, 'recall': 0.7377049180327869, 'f1-score': 0.7563025210084033, 'support': 61.0}, np.str_('Smart Environment'): {'precision': 0.7377049180327869, 'recall': 0.8490566037735849, 'f1-score': 0.7894736842105263, 'support': 53.0}, np.str_('Smart Governance'): {'precision': 0.75, 'recall': 0.75, 'f1-score': 0.75, 'support': 144.0}, np.str_('Smart Living'): {'precision': 0.6349206349206349, 'recall': 0.6896551724137931, 'f1-score': 0.6611570247933884, 'support': 58.0}, np.str_('Smart Mobility'): {'precision': 0.8679245283018868, 'recall': 0.8679245283018868, 'f1-score': 0.8679245283018868, 'support': 53.0}, np.str_('Smart People'): {'precision': 0.7272727272727273, 'recall': 0.42105263157894735, 'f1-score': 0.5333333333333333, 'support': 38.0}, 'accuracy': 0.7722772277227723, 'macro avg': {'precision': 0.7590281532307863, 'recall': 0.7370878513755196, 'f1-score': 0.7414106085663386, 'support': 606.0}, 'weighted avg': {'precision': 0.7722287692304669, 'recall': 0.7722772277227723, 'f1-score': 0.7691341314264079, 'support': 606.0}}\" of type <class 'dict'> for key \"eval/detailed_report\" as a scalar. This invocation of Tensorboard's writer.add_scalar() is incorrect so we dropped this attribute.\n",
            "Trainer is attempting to log a value of \"{np.str_('Irrelevant'): {'precision': 0.8195121951219512, 'recall': 0.8442211055276382, 'f1-score': 0.8316831683168316, 'support': 199.0}, np.str_('Smart Economy'): {'precision': 0.7580645161290323, 'recall': 0.7704918032786885, 'f1-score': 0.7642276422764228, 'support': 61.0}, np.str_('Smart Environment'): {'precision': 0.7377049180327869, 'recall': 0.8490566037735849, 'f1-score': 0.7894736842105263, 'support': 53.0}, np.str_('Smart Governance'): {'precision': 0.7622377622377622, 'recall': 0.7569444444444444, 'f1-score': 0.759581881533101, 'support': 144.0}, np.str_('Smart Living'): {'precision': 0.6557377049180327, 'recall': 0.6896551724137931, 'f1-score': 0.6722689075630253, 'support': 58.0}, np.str_('Smart Mobility'): {'precision': 0.88, 'recall': 0.8301886792452831, 'f1-score': 0.8543689320388349, 'support': 53.0}, np.str_('Smart People'): {'precision': 0.6666666666666666, 'recall': 0.42105263157894735, 'f1-score': 0.5161290322580645, 'support': 38.0}, 'accuracy': 0.7739273927392739, 'macro avg': {'precision': 0.7542748233008904, 'recall': 0.7373729200374827, 'f1-score': 0.7411047497424009, 'support': 606.0}, 'weighted avg': {'precision': 0.7725933679037854, 'recall': 0.7739273927392739, 'f1-score': 0.7710078979213794, 'support': 606.0}}\" of type <class 'dict'> for key \"eval/detailed_report\" as a scalar. This invocation of Tensorboard's writer.add_scalar() is incorrect so we dropped this attribute.\n"
          ]
        },
        {
          "data": {
            "text/html": [
              "\n",
              "    <div>\n",
              "      \n",
              "      <progress value='38' max='38' style='width:300px; height:20px; vertical-align: middle;'></progress>\n",
              "      [38/38 00:02]\n",
              "    </div>\n",
              "    "
            ],
            "text/plain": [
              "<IPython.core.display.HTML object>"
            ]
          },
          "metadata": {},
          "output_type": "display_data"
        },
        {
          "metadata": {
            "tags": null
          },
          "name": "stderr",
          "output_type": "stream",
          "text": [
            "Trainer is attempting to log a value of \"{np.str_('Irrelevant'): {'precision': 0.8195121951219512, 'recall': 0.8442211055276382, 'f1-score': 0.8316831683168316, 'support': 199.0}, np.str_('Smart Economy'): {'precision': 0.7758620689655172, 'recall': 0.7377049180327869, 'f1-score': 0.7563025210084033, 'support': 61.0}, np.str_('Smart Environment'): {'precision': 0.7377049180327869, 'recall': 0.8490566037735849, 'f1-score': 0.7894736842105263, 'support': 53.0}, np.str_('Smart Governance'): {'precision': 0.75, 'recall': 0.75, 'f1-score': 0.75, 'support': 144.0}, np.str_('Smart Living'): {'precision': 0.6349206349206349, 'recall': 0.6896551724137931, 'f1-score': 0.6611570247933884, 'support': 58.0}, np.str_('Smart Mobility'): {'precision': 0.8679245283018868, 'recall': 0.8679245283018868, 'f1-score': 0.8679245283018868, 'support': 53.0}, np.str_('Smart People'): {'precision': 0.7272727272727273, 'recall': 0.42105263157894735, 'f1-score': 0.5333333333333333, 'support': 38.0}, 'accuracy': 0.7722772277227723, 'macro avg': {'precision': 0.7590281532307863, 'recall': 0.7370878513755196, 'f1-score': 0.7414106085663386, 'support': 606.0}, 'weighted avg': {'precision': 0.7722287692304669, 'recall': 0.7722772277227723, 'f1-score': 0.7691341314264079, 'support': 606.0}}\" of type <class 'dict'> for key \"eval/detailed_report\" as a scalar. This invocation of Tensorboard's writer.add_scalar() is incorrect so we dropped this attribute.\n"
          ]
        },
        {
          "metadata": {
            "tags": null
          },
          "name": "stdout",
          "output_type": "stream",
          "text": [
            "Fold 2 complete. Evaluation results: {'eval_loss': 1.139531135559082, 'eval_macro_f1': 0.7414106085663386, 'eval_detailed_report': {np.str_('Irrelevant'): {'precision': 0.8195121951219512, 'recall': 0.8442211055276382, 'f1-score': 0.8316831683168316, 'support': 199.0}, np.str_('Smart Economy'): {'precision': 0.7758620689655172, 'recall': 0.7377049180327869, 'f1-score': 0.7563025210084033, 'support': 61.0}, np.str_('Smart Environment'): {'precision': 0.7377049180327869, 'recall': 0.8490566037735849, 'f1-score': 0.7894736842105263, 'support': 53.0}, np.str_('Smart Governance'): {'precision': 0.75, 'recall': 0.75, 'f1-score': 0.75, 'support': 144.0}, np.str_('Smart Living'): {'precision': 0.6349206349206349, 'recall': 0.6896551724137931, 'f1-score': 0.6611570247933884, 'support': 58.0}, np.str_('Smart Mobility'): {'precision': 0.8679245283018868, 'recall': 0.8679245283018868, 'f1-score': 0.8679245283018868, 'support': 53.0}, np.str_('Smart People'): {'precision': 0.7272727272727273, 'recall': 0.42105263157894735, 'f1-score': 0.5333333333333333, 'support': 38.0}, 'accuracy': 0.7722772277227723, 'macro avg': {'precision': 0.7590281532307863, 'recall': 0.7370878513755196, 'f1-score': 0.7414106085663386, 'support': 606.0}, 'weighted avg': {'precision': 0.7722287692304669, 'recall': 0.7722772277227723, 'f1-score': 0.7691341314264079, 'support': 606.0}}, 'eval_runtime': 2.5206, 'eval_samples_per_second': 240.417, 'eval_steps_per_second': 15.076, 'epoch': 5.0}\n",
            "--- Running Fold 3/5 ---\n"
          ]
        },
        {
          "metadata": {
            "tags": null
          },
          "name": "stderr",
          "output_type": "stream",
          "text": [
            "Some weights of BertForSequenceClassification were not initialized from the model checkpoint at indobenchmark/indobert-base-p1 and are newly initialized: ['classifier.bias', 'classifier.weight']\n",
            "You should probably TRAIN this model on a down-stream task to be able to use it for predictions and inference.\n"
          ]
        },
        {
          "data": {
            "text/html": [
              "\n",
              "    <div>\n",
              "      \n",
              "      <progress value='1740' max='1740' style='width:300px; height:20px; vertical-align: middle;'></progress>\n",
              "      [1740/1740 08:29, Epoch 5/5]\n",
              "    </div>\n",
              "    <table border=\"1\" class=\"dataframe\">\n",
              "  <thead>\n",
              " <tr style=\"text-align: left;\">\n",
              "      <th>Epoch</th>\n",
              "      <th>Training Loss</th>\n",
              "      <th>Validation Loss</th>\n",
              "      <th>Macro F1</th>\n",
              "      <th>Detailed Report</th>\n",
              "    </tr>\n",
              "  </thead>\n",
              "  <tbody>\n",
              "    <tr>\n",
              "      <td>1</td>\n",
              "      <td>0.296600</td>\n",
              "      <td>0.835847</td>\n",
              "      <td>0.744393</td>\n",
              "      <td>{np.str_('Irrelevant'): {'precision': 0.8218390804597702, 'recall': 0.7185929648241206, 'f1-score': 0.7667560321715817, 'support': 199.0}, np.str_('Smart Economy'): {'precision': 0.7538461538461538, 'recall': 0.8032786885245902, 'f1-score': 0.7777777777777778, 'support': 61.0}, np.str_('Smart Environment'): {'precision': 0.7666666666666667, 'recall': 0.8679245283018868, 'f1-score': 0.8141592920353983, 'support': 53.0}, np.str_('Smart Governance'): {'precision': 0.8155339805825242, 'recall': 0.5793103448275863, 'f1-score': 0.6774193548387096, 'support': 145.0}, np.str_('Smart Living'): {'precision': 0.5684210526315789, 'recall': 0.9473684210526315, 'f1-score': 0.7105263157894737, 'support': 57.0}, np.str_('Smart Mobility'): {'precision': 0.765625, 'recall': 0.9245283018867925, 'f1-score': 0.8376068376068376, 'support': 53.0}, np.str_('Smart People'): {'precision': 0.5777777777777777, 'recall': 0.6842105263157895, 'f1-score': 0.6265060240963856, 'support': 38.0}, 'accuracy': 0.7442244224422442, 'macro avg': {'precision': 0.724244244566353, 'recall': 0.7893162536761995, 'f1-score': 0.7443930906165948, 'support': 606.0}, 'weighted avg': {'precision': 0.7646040156261792, 'recall': 0.7442244224422442, 'f1-score': 0.7427484077308635, 'support': 606.0}}</td>\n",
              "    </tr>\n",
              "    <tr>\n",
              "      <td>2</td>\n",
              "      <td>0.076000</td>\n",
              "      <td>1.016939</td>\n",
              "      <td>0.739964</td>\n",
              "      <td>{np.str_('Irrelevant'): {'precision': 0.8105263157894737, 'recall': 0.7738693467336684, 'f1-score': 0.7917737789203085, 'support': 199.0}, np.str_('Smart Economy'): {'precision': 0.6626506024096386, 'recall': 0.9016393442622951, 'f1-score': 0.7638888888888888, 'support': 61.0}, np.str_('Smart Environment'): {'precision': 0.7666666666666667, 'recall': 0.8679245283018868, 'f1-score': 0.8141592920353983, 'support': 53.0}, np.str_('Smart Governance'): {'precision': 0.8095238095238095, 'recall': 0.5862068965517241, 'f1-score': 0.68, 'support': 145.0}, np.str_('Smart Living'): {'precision': 0.5783132530120482, 'recall': 0.8421052631578947, 'f1-score': 0.6857142857142857, 'support': 57.0}, np.str_('Smart Mobility'): {'precision': 0.7931034482758621, 'recall': 0.8679245283018868, 'f1-score': 0.8288288288288288, 'support': 53.0}, np.str_('Smart People'): {'precision': 0.7407407407407407, 'recall': 0.5263157894736842, 'f1-score': 0.6153846153846154, 'support': 38.0}, 'accuracy': 0.7491749174917491, 'macro avg': {'precision': 0.7373606909168914, 'recall': 0.7665693852547201, 'f1-score': 0.7399642413960466, 'support': 606.0}, 'weighted avg': {'precision': 0.7638237551680438, 'recall': 0.7491749174917491, 'f1-score': 0.746384330533824, 'support': 606.0}}</td>\n",
              "    </tr>\n",
              "    <tr>\n",
              "      <td>3</td>\n",
              "      <td>0.040800</td>\n",
              "      <td>1.038042</td>\n",
              "      <td>0.731698</td>\n",
              "      <td>{np.str_('Irrelevant'): {'precision': 0.8192090395480226, 'recall': 0.7286432160804021, 'f1-score': 0.7712765957446809, 'support': 199.0}, np.str_('Smart Economy'): {'precision': 0.8163265306122449, 'recall': 0.6557377049180327, 'f1-score': 0.7272727272727273, 'support': 61.0}, np.str_('Smart Environment'): {'precision': 0.7704918032786885, 'recall': 0.8867924528301887, 'f1-score': 0.8245614035087719, 'support': 53.0}, np.str_('Smart Governance'): {'precision': 0.6385542168674698, 'recall': 0.7310344827586207, 'f1-score': 0.6816720257234726, 'support': 145.0}, np.str_('Smart Living'): {'precision': 0.6865671641791045, 'recall': 0.8070175438596491, 'f1-score': 0.7419354838709677, 'support': 57.0}, np.str_('Smart Mobility'): {'precision': 0.7962962962962963, 'recall': 0.8113207547169812, 'f1-score': 0.8037383177570093, 'support': 53.0}, np.str_('Smart People'): {'precision': 0.625, 'recall': 0.5263157894736842, 'f1-score': 0.5714285714285714, 'support': 38.0}, 'accuracy': 0.7376237623762376, 'macro avg': {'precision': 0.7360635786831181, 'recall': 0.7352659920910797, 'f1-score': 0.731697875043743, 'support': 606.0}, 'weighted avg': {'precision': 0.7447738883149665, 'recall': 0.7376237623762376, 'f1-score': 0.7376148781662519, 'support': 606.0}}</td>\n",
              "    </tr>\n",
              "    <tr>\n",
              "      <td>4</td>\n",
              "      <td>0.050200</td>\n",
              "      <td>1.182932</td>\n",
              "      <td>0.738307</td>\n",
              "      <td>{np.str_('Irrelevant'): {'precision': 0.8043478260869565, 'recall': 0.7437185929648241, 'f1-score': 0.7728459530026109, 'support': 199.0}, np.str_('Smart Economy'): {'precision': 0.8695652173913043, 'recall': 0.6557377049180327, 'f1-score': 0.7476635514018691, 'support': 61.0}, np.str_('Smart Environment'): {'precision': 0.8518518518518519, 'recall': 0.8679245283018868, 'f1-score': 0.8598130841121495, 'support': 53.0}, np.str_('Smart Governance'): {'precision': 0.6120218579234973, 'recall': 0.7724137931034483, 'f1-score': 0.6829268292682927, 'support': 145.0}, np.str_('Smart Living'): {'precision': 0.6935483870967742, 'recall': 0.7543859649122807, 'f1-score': 0.7226890756302521, 'support': 57.0}, np.str_('Smart Mobility'): {'precision': 0.803921568627451, 'recall': 0.7735849056603774, 'f1-score': 0.7884615384615384, 'support': 53.0}, np.str_('Smart People'): {'precision': 0.7307692307692307, 'recall': 0.5, 'f1-score': 0.59375, 'support': 38.0}, 'accuracy': 0.740924092409241, 'macro avg': {'precision': 0.7665751342495808, 'recall': 0.72396649855155, 'f1-score': 0.738307147410959, 'support': 606.0}, 'weighted avg': {'precision': 0.7539758171125923, 'recall': 0.740924092409241, 'f1-score': 0.7418193792644652, 'support': 606.0}}</td>\n",
              "    </tr>\n",
              "    <tr>\n",
              "      <td>5</td>\n",
              "      <td>0.001300</td>\n",
              "      <td>1.123580</td>\n",
              "      <td>0.749622</td>\n",
              "      <td>{np.str_('Irrelevant'): {'precision': 0.7777777777777778, 'recall': 0.8090452261306532, 'f1-score': 0.7931034482758621, 'support': 199.0}, np.str_('Smart Economy'): {'precision': 0.84, 'recall': 0.6885245901639344, 'f1-score': 0.7567567567567568, 'support': 61.0}, np.str_('Smart Environment'): {'precision': 0.8245614035087719, 'recall': 0.8867924528301887, 'f1-score': 0.8545454545454545, 'support': 53.0}, np.str_('Smart Governance'): {'precision': 0.7027027027027027, 'recall': 0.7172413793103448, 'f1-score': 0.7098976109215017, 'support': 145.0}, np.str_('Smart Living'): {'precision': 0.7333333333333333, 'recall': 0.7719298245614035, 'f1-score': 0.7521367521367521, 'support': 57.0}, np.str_('Smart Mobility'): {'precision': 0.8301886792452831, 'recall': 0.8301886792452831, 'f1-score': 0.8301886792452831, 'support': 53.0}, np.str_('Smart People'): {'precision': 0.6129032258064516, 'recall': 0.5, 'f1-score': 0.5507246376811594, 'support': 38.0}, 'accuracy': 0.7607260726072608, 'macro avg': {'precision': 0.7602095889106172, 'recall': 0.7433888788916868, 'f1-score': 0.7496219056518242, 'support': 606.0}, 'weighted avg': {'precision': 0.7602339053403957, 'recall': 0.7607260726072608, 'f1-score': 0.7591008946324497, 'support': 606.0}}</td>\n",
              "    </tr>\n",
              "  </tbody>\n",
              "</table><p>"
            ],
            "text/plain": [
              "<IPython.core.display.HTML object>"
            ]
          },
          "metadata": {},
          "output_type": "display_data"
        },
        {
          "metadata": {
            "tags": null
          },
          "name": "stderr",
          "output_type": "stream",
          "text": [
            "Trainer is attempting to log a value of \"{np.str_('Irrelevant'): {'precision': 0.8218390804597702, 'recall': 0.7185929648241206, 'f1-score': 0.7667560321715817, 'support': 199.0}, np.str_('Smart Economy'): {'precision': 0.7538461538461538, 'recall': 0.8032786885245902, 'f1-score': 0.7777777777777778, 'support': 61.0}, np.str_('Smart Environment'): {'precision': 0.7666666666666667, 'recall': 0.8679245283018868, 'f1-score': 0.8141592920353983, 'support': 53.0}, np.str_('Smart Governance'): {'precision': 0.8155339805825242, 'recall': 0.5793103448275863, 'f1-score': 0.6774193548387096, 'support': 145.0}, np.str_('Smart Living'): {'precision': 0.5684210526315789, 'recall': 0.9473684210526315, 'f1-score': 0.7105263157894737, 'support': 57.0}, np.str_('Smart Mobility'): {'precision': 0.765625, 'recall': 0.9245283018867925, 'f1-score': 0.8376068376068376, 'support': 53.0}, np.str_('Smart People'): {'precision': 0.5777777777777777, 'recall': 0.6842105263157895, 'f1-score': 0.6265060240963856, 'support': 38.0}, 'accuracy': 0.7442244224422442, 'macro avg': {'precision': 0.724244244566353, 'recall': 0.7893162536761995, 'f1-score': 0.7443930906165948, 'support': 606.0}, 'weighted avg': {'precision': 0.7646040156261792, 'recall': 0.7442244224422442, 'f1-score': 0.7427484077308635, 'support': 606.0}}\" of type <class 'dict'> for key \"eval/detailed_report\" as a scalar. This invocation of Tensorboard's writer.add_scalar() is incorrect so we dropped this attribute.\n",
            "Trainer is attempting to log a value of \"{np.str_('Irrelevant'): {'precision': 0.8105263157894737, 'recall': 0.7738693467336684, 'f1-score': 0.7917737789203085, 'support': 199.0}, np.str_('Smart Economy'): {'precision': 0.6626506024096386, 'recall': 0.9016393442622951, 'f1-score': 0.7638888888888888, 'support': 61.0}, np.str_('Smart Environment'): {'precision': 0.7666666666666667, 'recall': 0.8679245283018868, 'f1-score': 0.8141592920353983, 'support': 53.0}, np.str_('Smart Governance'): {'precision': 0.8095238095238095, 'recall': 0.5862068965517241, 'f1-score': 0.68, 'support': 145.0}, np.str_('Smart Living'): {'precision': 0.5783132530120482, 'recall': 0.8421052631578947, 'f1-score': 0.6857142857142857, 'support': 57.0}, np.str_('Smart Mobility'): {'precision': 0.7931034482758621, 'recall': 0.8679245283018868, 'f1-score': 0.8288288288288288, 'support': 53.0}, np.str_('Smart People'): {'precision': 0.7407407407407407, 'recall': 0.5263157894736842, 'f1-score': 0.6153846153846154, 'support': 38.0}, 'accuracy': 0.7491749174917491, 'macro avg': {'precision': 0.7373606909168914, 'recall': 0.7665693852547201, 'f1-score': 0.7399642413960466, 'support': 606.0}, 'weighted avg': {'precision': 0.7638237551680438, 'recall': 0.7491749174917491, 'f1-score': 0.746384330533824, 'support': 606.0}}\" of type <class 'dict'> for key \"eval/detailed_report\" as a scalar. This invocation of Tensorboard's writer.add_scalar() is incorrect so we dropped this attribute.\n",
            "Trainer is attempting to log a value of \"{np.str_('Irrelevant'): {'precision': 0.8192090395480226, 'recall': 0.7286432160804021, 'f1-score': 0.7712765957446809, 'support': 199.0}, np.str_('Smart Economy'): {'precision': 0.8163265306122449, 'recall': 0.6557377049180327, 'f1-score': 0.7272727272727273, 'support': 61.0}, np.str_('Smart Environment'): {'precision': 0.7704918032786885, 'recall': 0.8867924528301887, 'f1-score': 0.8245614035087719, 'support': 53.0}, np.str_('Smart Governance'): {'precision': 0.6385542168674698, 'recall': 0.7310344827586207, 'f1-score': 0.6816720257234726, 'support': 145.0}, np.str_('Smart Living'): {'precision': 0.6865671641791045, 'recall': 0.8070175438596491, 'f1-score': 0.7419354838709677, 'support': 57.0}, np.str_('Smart Mobility'): {'precision': 0.7962962962962963, 'recall': 0.8113207547169812, 'f1-score': 0.8037383177570093, 'support': 53.0}, np.str_('Smart People'): {'precision': 0.625, 'recall': 0.5263157894736842, 'f1-score': 0.5714285714285714, 'support': 38.0}, 'accuracy': 0.7376237623762376, 'macro avg': {'precision': 0.7360635786831181, 'recall': 0.7352659920910797, 'f1-score': 0.731697875043743, 'support': 606.0}, 'weighted avg': {'precision': 0.7447738883149665, 'recall': 0.7376237623762376, 'f1-score': 0.7376148781662519, 'support': 606.0}}\" of type <class 'dict'> for key \"eval/detailed_report\" as a scalar. This invocation of Tensorboard's writer.add_scalar() is incorrect so we dropped this attribute.\n",
            "Trainer is attempting to log a value of \"{np.str_('Irrelevant'): {'precision': 0.8043478260869565, 'recall': 0.7437185929648241, 'f1-score': 0.7728459530026109, 'support': 199.0}, np.str_('Smart Economy'): {'precision': 0.8695652173913043, 'recall': 0.6557377049180327, 'f1-score': 0.7476635514018691, 'support': 61.0}, np.str_('Smart Environment'): {'precision': 0.8518518518518519, 'recall': 0.8679245283018868, 'f1-score': 0.8598130841121495, 'support': 53.0}, np.str_('Smart Governance'): {'precision': 0.6120218579234973, 'recall': 0.7724137931034483, 'f1-score': 0.6829268292682927, 'support': 145.0}, np.str_('Smart Living'): {'precision': 0.6935483870967742, 'recall': 0.7543859649122807, 'f1-score': 0.7226890756302521, 'support': 57.0}, np.str_('Smart Mobility'): {'precision': 0.803921568627451, 'recall': 0.7735849056603774, 'f1-score': 0.7884615384615384, 'support': 53.0}, np.str_('Smart People'): {'precision': 0.7307692307692307, 'recall': 0.5, 'f1-score': 0.59375, 'support': 38.0}, 'accuracy': 0.740924092409241, 'macro avg': {'precision': 0.7665751342495808, 'recall': 0.72396649855155, 'f1-score': 0.738307147410959, 'support': 606.0}, 'weighted avg': {'precision': 0.7539758171125923, 'recall': 0.740924092409241, 'f1-score': 0.7418193792644652, 'support': 606.0}}\" of type <class 'dict'> for key \"eval/detailed_report\" as a scalar. This invocation of Tensorboard's writer.add_scalar() is incorrect so we dropped this attribute.\n",
            "Trainer is attempting to log a value of \"{np.str_('Irrelevant'): {'precision': 0.7777777777777778, 'recall': 0.8090452261306532, 'f1-score': 0.7931034482758621, 'support': 199.0}, np.str_('Smart Economy'): {'precision': 0.84, 'recall': 0.6885245901639344, 'f1-score': 0.7567567567567568, 'support': 61.0}, np.str_('Smart Environment'): {'precision': 0.8245614035087719, 'recall': 0.8867924528301887, 'f1-score': 0.8545454545454545, 'support': 53.0}, np.str_('Smart Governance'): {'precision': 0.7027027027027027, 'recall': 0.7172413793103448, 'f1-score': 0.7098976109215017, 'support': 145.0}, np.str_('Smart Living'): {'precision': 0.7333333333333333, 'recall': 0.7719298245614035, 'f1-score': 0.7521367521367521, 'support': 57.0}, np.str_('Smart Mobility'): {'precision': 0.8301886792452831, 'recall': 0.8301886792452831, 'f1-score': 0.8301886792452831, 'support': 53.0}, np.str_('Smart People'): {'precision': 0.6129032258064516, 'recall': 0.5, 'f1-score': 0.5507246376811594, 'support': 38.0}, 'accuracy': 0.7607260726072608, 'macro avg': {'precision': 0.7602095889106172, 'recall': 0.7433888788916868, 'f1-score': 0.7496219056518242, 'support': 606.0}, 'weighted avg': {'precision': 0.7602339053403957, 'recall': 0.7607260726072608, 'f1-score': 0.7591008946324497, 'support': 606.0}}\" of type <class 'dict'> for key \"eval/detailed_report\" as a scalar. This invocation of Tensorboard's writer.add_scalar() is incorrect so we dropped this attribute.\n"
          ]
        },
        {
          "data": {
            "text/html": [
              "\n",
              "    <div>\n",
              "      \n",
              "      <progress value='38' max='38' style='width:300px; height:20px; vertical-align: middle;'></progress>\n",
              "      [38/38 00:02]\n",
              "    </div>\n",
              "    "
            ],
            "text/plain": [
              "<IPython.core.display.HTML object>"
            ]
          },
          "metadata": {},
          "output_type": "display_data"
        },
        {
          "metadata": {
            "tags": null
          },
          "name": "stderr",
          "output_type": "stream",
          "text": [
            "Trainer is attempting to log a value of \"{np.str_('Irrelevant'): {'precision': 0.7777777777777778, 'recall': 0.8090452261306532, 'f1-score': 0.7931034482758621, 'support': 199.0}, np.str_('Smart Economy'): {'precision': 0.84, 'recall': 0.6885245901639344, 'f1-score': 0.7567567567567568, 'support': 61.0}, np.str_('Smart Environment'): {'precision': 0.8245614035087719, 'recall': 0.8867924528301887, 'f1-score': 0.8545454545454545, 'support': 53.0}, np.str_('Smart Governance'): {'precision': 0.7027027027027027, 'recall': 0.7172413793103448, 'f1-score': 0.7098976109215017, 'support': 145.0}, np.str_('Smart Living'): {'precision': 0.7333333333333333, 'recall': 0.7719298245614035, 'f1-score': 0.7521367521367521, 'support': 57.0}, np.str_('Smart Mobility'): {'precision': 0.8301886792452831, 'recall': 0.8301886792452831, 'f1-score': 0.8301886792452831, 'support': 53.0}, np.str_('Smart People'): {'precision': 0.6129032258064516, 'recall': 0.5, 'f1-score': 0.5507246376811594, 'support': 38.0}, 'accuracy': 0.7607260726072608, 'macro avg': {'precision': 0.7602095889106172, 'recall': 0.7433888788916868, 'f1-score': 0.7496219056518242, 'support': 606.0}, 'weighted avg': {'precision': 0.7602339053403957, 'recall': 0.7607260726072608, 'f1-score': 0.7591008946324497, 'support': 606.0}}\" of type <class 'dict'> for key \"eval/detailed_report\" as a scalar. This invocation of Tensorboard's writer.add_scalar() is incorrect so we dropped this attribute.\n"
          ]
        },
        {
          "metadata": {
            "tags": null
          },
          "name": "stdout",
          "output_type": "stream",
          "text": [
            "Fold 3 complete. Evaluation results: {'eval_loss': 1.123579502105713, 'eval_macro_f1': 0.7496219056518242, 'eval_detailed_report': {np.str_('Irrelevant'): {'precision': 0.7777777777777778, 'recall': 0.8090452261306532, 'f1-score': 0.7931034482758621, 'support': 199.0}, np.str_('Smart Economy'): {'precision': 0.84, 'recall': 0.6885245901639344, 'f1-score': 0.7567567567567568, 'support': 61.0}, np.str_('Smart Environment'): {'precision': 0.8245614035087719, 'recall': 0.8867924528301887, 'f1-score': 0.8545454545454545, 'support': 53.0}, np.str_('Smart Governance'): {'precision': 0.7027027027027027, 'recall': 0.7172413793103448, 'f1-score': 0.7098976109215017, 'support': 145.0}, np.str_('Smart Living'): {'precision': 0.7333333333333333, 'recall': 0.7719298245614035, 'f1-score': 0.7521367521367521, 'support': 57.0}, np.str_('Smart Mobility'): {'precision': 0.8301886792452831, 'recall': 0.8301886792452831, 'f1-score': 0.8301886792452831, 'support': 53.0}, np.str_('Smart People'): {'precision': 0.6129032258064516, 'recall': 0.5, 'f1-score': 0.5507246376811594, 'support': 38.0}, 'accuracy': 0.7607260726072608, 'macro avg': {'precision': 0.7602095889106172, 'recall': 0.7433888788916868, 'f1-score': 0.7496219056518242, 'support': 606.0}, 'weighted avg': {'precision': 0.7602339053403957, 'recall': 0.7607260726072608, 'f1-score': 0.7591008946324497, 'support': 606.0}}, 'eval_runtime': 2.7264, 'eval_samples_per_second': 222.275, 'eval_steps_per_second': 13.938, 'epoch': 5.0}\n",
            "--- Running Fold 4/5 ---\n"
          ]
        },
        {
          "metadata": {
            "tags": null
          },
          "name": "stderr",
          "output_type": "stream",
          "text": [
            "Some weights of BertForSequenceClassification were not initialized from the model checkpoint at indobenchmark/indobert-base-p1 and are newly initialized: ['classifier.bias', 'classifier.weight']\n",
            "You should probably TRAIN this model on a down-stream task to be able to use it for predictions and inference.\n"
          ]
        },
        {
          "data": {
            "text/html": [
              "\n",
              "    <div>\n",
              "      \n",
              "      <progress value='1740' max='1740' style='width:300px; height:20px; vertical-align: middle;'></progress>\n",
              "      [1740/1740 08:27, Epoch 5/5]\n",
              "    </div>\n",
              "    <table border=\"1\" class=\"dataframe\">\n",
              "  <thead>\n",
              " <tr style=\"text-align: left;\">\n",
              "      <th>Epoch</th>\n",
              "      <th>Training Loss</th>\n",
              "      <th>Validation Loss</th>\n",
              "      <th>Macro F1</th>\n",
              "      <th>Detailed Report</th>\n",
              "    </tr>\n",
              "  </thead>\n",
              "  <tbody>\n",
              "    <tr>\n",
              "      <td>1</td>\n",
              "      <td>0.282300</td>\n",
              "      <td>1.001855</td>\n",
              "      <td>0.690265</td>\n",
              "      <td>{np.str_('Irrelevant'): {'precision': 0.7988505747126436, 'recall': 0.702020202020202, 'f1-score': 0.7473118279569892, 'support': 198.0}, np.str_('Smart Economy'): {'precision': 0.5974025974025974, 'recall': 0.7419354838709677, 'f1-score': 0.6618705035971223, 'support': 62.0}, np.str_('Smart Environment'): {'precision': 0.8070175438596491, 'recall': 0.8679245283018868, 'f1-score': 0.8363636363636363, 'support': 53.0}, np.str_('Smart Governance'): {'precision': 0.8372093023255814, 'recall': 0.5, 'f1-score': 0.6260869565217392, 'support': 144.0}, np.str_('Smart Living'): {'precision': 0.43373493975903615, 'recall': 0.631578947368421, 'f1-score': 0.5142857142857142, 'support': 57.0}, np.str_('Smart Mobility'): {'precision': 0.7246376811594203, 'recall': 0.9433962264150944, 'f1-score': 0.819672131147541, 'support': 53.0}, np.str_('Smart People'): {'precision': 0.5166666666666667, 'recall': 0.7948717948717948, 'f1-score': 0.6262626262626263, 'support': 39.0}, 'accuracy': 0.693069306930693, 'macro avg': {'precision': 0.6736456151265136, 'recall': 0.7402467404069096, 'f1-score': 0.6902647708764812, 'support': 606.0}, 'weighted avg': {'precision': 0.7290761268304025, 'recall': 0.693069306930693, 'f1-score': 0.694172704148938, 'support': 606.0}}</td>\n",
              "    </tr>\n",
              "    <tr>\n",
              "      <td>2</td>\n",
              "      <td>0.132600</td>\n",
              "      <td>0.949177</td>\n",
              "      <td>0.752696</td>\n",
              "      <td>{np.str_('Irrelevant'): {'precision': 0.7375565610859729, 'recall': 0.8232323232323232, 'f1-score': 0.7780429594272077, 'support': 198.0}, np.str_('Smart Economy'): {'precision': 0.75, 'recall': 0.6290322580645161, 'f1-score': 0.6842105263157895, 'support': 62.0}, np.str_('Smart Environment'): {'precision': 0.84, 'recall': 0.7924528301886793, 'f1-score': 0.8155339805825242, 'support': 53.0}, np.str_('Smart Governance'): {'precision': 0.7948717948717948, 'recall': 0.6458333333333334, 'f1-score': 0.7126436781609196, 'support': 144.0}, np.str_('Smart Living'): {'precision': 0.6285714285714286, 'recall': 0.7719298245614035, 'f1-score': 0.6929133858267716, 'support': 57.0}, np.str_('Smart Mobility'): {'precision': 0.8305084745762712, 'recall': 0.9245283018867925, 'f1-score': 0.875, 'support': 53.0}, np.str_('Smart People'): {'precision': 0.7297297297297297, 'recall': 0.6923076923076923, 'f1-score': 0.7105263157894737, 'support': 39.0}, 'accuracy': 0.7541254125412541, 'macro avg': {'precision': 0.7587482841193138, 'recall': 0.7541880805106772, 'f1-score': 0.7526958351575265, 'support': 606.0}, 'weighted avg': {'precision': 0.7587833623715089, 'recall': 0.7541254125412541, 'f1-score': 0.7523088094589566, 'support': 606.0}}</td>\n",
              "    </tr>\n",
              "    <tr>\n",
              "      <td>3</td>\n",
              "      <td>0.015700</td>\n",
              "      <td>1.084889</td>\n",
              "      <td>0.737220</td>\n",
              "      <td>{np.str_('Irrelevant'): {'precision': 0.7755102040816326, 'recall': 0.7676767676767676, 'f1-score': 0.7715736040609137, 'support': 198.0}, np.str_('Smart Economy'): {'precision': 0.7, 'recall': 0.6774193548387096, 'f1-score': 0.6885245901639344, 'support': 62.0}, np.str_('Smart Environment'): {'precision': 0.6811594202898551, 'recall': 0.8867924528301887, 'f1-score': 0.7704918032786885, 'support': 53.0}, np.str_('Smart Governance'): {'precision': 0.7786259541984732, 'recall': 0.7083333333333334, 'f1-score': 0.7418181818181818, 'support': 144.0}, np.str_('Smart Living'): {'precision': 0.6037735849056604, 'recall': 0.5614035087719298, 'f1-score': 0.5818181818181818, 'support': 57.0}, np.str_('Smart Mobility'): {'precision': 0.8032786885245902, 'recall': 0.9245283018867925, 'f1-score': 0.8596491228070176, 'support': 53.0}, np.str_('Smart People'): {'precision': 0.7777777777777778, 'recall': 0.717948717948718, 'f1-score': 0.7466666666666667, 'support': 39.0}, 'accuracy': 0.7458745874587459, 'macro avg': {'precision': 0.7314465185397127, 'recall': 0.74915749104092, 'f1-score': 0.737220307230512, 'support': 606.0}, 'weighted avg': {'precision': 0.746694398107038, 'recall': 0.7458745874587459, 'f1-score': 0.7441634023469007, 'support': 606.0}}</td>\n",
              "    </tr>\n",
              "    <tr>\n",
              "      <td>4</td>\n",
              "      <td>0.002400</td>\n",
              "      <td>1.181189</td>\n",
              "      <td>0.737738</td>\n",
              "      <td>{np.str_('Irrelevant'): {'precision': 0.8165680473372781, 'recall': 0.696969696969697, 'f1-score': 0.7520435967302452, 'support': 198.0}, np.str_('Smart Economy'): {'precision': 0.6774193548387096, 'recall': 0.6774193548387096, 'f1-score': 0.6774193548387096, 'support': 62.0}, np.str_('Smart Environment'): {'precision': 0.7592592592592593, 'recall': 0.7735849056603774, 'f1-score': 0.7663551401869159, 'support': 53.0}, np.str_('Smart Governance'): {'precision': 0.7414965986394558, 'recall': 0.7569444444444444, 'f1-score': 0.7491408934707904, 'support': 144.0}, np.str_('Smart Living'): {'precision': 0.5714285714285714, 'recall': 0.7017543859649122, 'f1-score': 0.6299212598425197, 'support': 57.0}, np.str_('Smart Mobility'): {'precision': 0.8305084745762712, 'recall': 0.9245283018867925, 'f1-score': 0.875, 'support': 53.0}, np.str_('Smart People'): {'precision': 0.6666666666666666, 'recall': 0.7692307692307693, 'f1-score': 0.7142857142857143, 'support': 39.0}, 'accuracy': 0.740924092409241, 'macro avg': {'precision': 0.7233352818208875, 'recall': 0.7572045512851002, 'f1-score': 0.7377379941935563, 'support': 606.0}, 'weighted avg': {'precision': 0.7479952178903867, 'recall': 0.740924092409241, 'f1-score': 0.7418075873109825, 'support': 606.0}}</td>\n",
              "    </tr>\n",
              "    <tr>\n",
              "      <td>5</td>\n",
              "      <td>0.001500</td>\n",
              "      <td>1.168160</td>\n",
              "      <td>0.735785</td>\n",
              "      <td>{np.str_('Irrelevant'): {'precision': 0.7801047120418848, 'recall': 0.7525252525252525, 'f1-score': 0.7660668380462725, 'support': 198.0}, np.str_('Smart Economy'): {'precision': 0.7169811320754716, 'recall': 0.6129032258064516, 'f1-score': 0.6608695652173913, 'support': 62.0}, np.str_('Smart Environment'): {'precision': 0.7547169811320755, 'recall': 0.7547169811320755, 'f1-score': 0.7547169811320755, 'support': 53.0}, np.str_('Smart Governance'): {'precision': 0.7397260273972602, 'recall': 0.75, 'f1-score': 0.7448275862068966, 'support': 144.0}, np.str_('Smart Living'): {'precision': 0.578125, 'recall': 0.6491228070175439, 'f1-score': 0.6115702479338843, 'support': 57.0}, np.str_('Smart Mobility'): {'precision': 0.8571428571428571, 'recall': 0.9056603773584906, 'f1-score': 0.8807339449541285, 'support': 53.0}, np.str_('Smart People'): {'precision': 0.6976744186046512, 'recall': 0.7692307692307693, 'f1-score': 0.7317073170731707, 'support': 39.0}, 'accuracy': 0.7425742574257426, 'macro avg': {'precision': 0.7320673040563144, 'recall': 0.7420227732957976, 'f1-score': 0.7357846400805456, 'support': 606.0}, 'weighted avg': {'precision': 0.7442658578751332, 'recall': 0.7425742574257426, 'f1-score': 0.7425500131536092, 'support': 606.0}}</td>\n",
              "    </tr>\n",
              "  </tbody>\n",
              "</table><p>"
            ],
            "text/plain": [
              "<IPython.core.display.HTML object>"
            ]
          },
          "metadata": {},
          "output_type": "display_data"
        },
        {
          "metadata": {
            "tags": null
          },
          "name": "stderr",
          "output_type": "stream",
          "text": [
            "Trainer is attempting to log a value of \"{np.str_('Irrelevant'): {'precision': 0.7988505747126436, 'recall': 0.702020202020202, 'f1-score': 0.7473118279569892, 'support': 198.0}, np.str_('Smart Economy'): {'precision': 0.5974025974025974, 'recall': 0.7419354838709677, 'f1-score': 0.6618705035971223, 'support': 62.0}, np.str_('Smart Environment'): {'precision': 0.8070175438596491, 'recall': 0.8679245283018868, 'f1-score': 0.8363636363636363, 'support': 53.0}, np.str_('Smart Governance'): {'precision': 0.8372093023255814, 'recall': 0.5, 'f1-score': 0.6260869565217392, 'support': 144.0}, np.str_('Smart Living'): {'precision': 0.43373493975903615, 'recall': 0.631578947368421, 'f1-score': 0.5142857142857142, 'support': 57.0}, np.str_('Smart Mobility'): {'precision': 0.7246376811594203, 'recall': 0.9433962264150944, 'f1-score': 0.819672131147541, 'support': 53.0}, np.str_('Smart People'): {'precision': 0.5166666666666667, 'recall': 0.7948717948717948, 'f1-score': 0.6262626262626263, 'support': 39.0}, 'accuracy': 0.693069306930693, 'macro avg': {'precision': 0.6736456151265136, 'recall': 0.7402467404069096, 'f1-score': 0.6902647708764812, 'support': 606.0}, 'weighted avg': {'precision': 0.7290761268304025, 'recall': 0.693069306930693, 'f1-score': 0.694172704148938, 'support': 606.0}}\" of type <class 'dict'> for key \"eval/detailed_report\" as a scalar. This invocation of Tensorboard's writer.add_scalar() is incorrect so we dropped this attribute.\n",
            "Trainer is attempting to log a value of \"{np.str_('Irrelevant'): {'precision': 0.7375565610859729, 'recall': 0.8232323232323232, 'f1-score': 0.7780429594272077, 'support': 198.0}, np.str_('Smart Economy'): {'precision': 0.75, 'recall': 0.6290322580645161, 'f1-score': 0.6842105263157895, 'support': 62.0}, np.str_('Smart Environment'): {'precision': 0.84, 'recall': 0.7924528301886793, 'f1-score': 0.8155339805825242, 'support': 53.0}, np.str_('Smart Governance'): {'precision': 0.7948717948717948, 'recall': 0.6458333333333334, 'f1-score': 0.7126436781609196, 'support': 144.0}, np.str_('Smart Living'): {'precision': 0.6285714285714286, 'recall': 0.7719298245614035, 'f1-score': 0.6929133858267716, 'support': 57.0}, np.str_('Smart Mobility'): {'precision': 0.8305084745762712, 'recall': 0.9245283018867925, 'f1-score': 0.875, 'support': 53.0}, np.str_('Smart People'): {'precision': 0.7297297297297297, 'recall': 0.6923076923076923, 'f1-score': 0.7105263157894737, 'support': 39.0}, 'accuracy': 0.7541254125412541, 'macro avg': {'precision': 0.7587482841193138, 'recall': 0.7541880805106772, 'f1-score': 0.7526958351575265, 'support': 606.0}, 'weighted avg': {'precision': 0.7587833623715089, 'recall': 0.7541254125412541, 'f1-score': 0.7523088094589566, 'support': 606.0}}\" of type <class 'dict'> for key \"eval/detailed_report\" as a scalar. This invocation of Tensorboard's writer.add_scalar() is incorrect so we dropped this attribute.\n",
            "Trainer is attempting to log a value of \"{np.str_('Irrelevant'): {'precision': 0.7755102040816326, 'recall': 0.7676767676767676, 'f1-score': 0.7715736040609137, 'support': 198.0}, np.str_('Smart Economy'): {'precision': 0.7, 'recall': 0.6774193548387096, 'f1-score': 0.6885245901639344, 'support': 62.0}, np.str_('Smart Environment'): {'precision': 0.6811594202898551, 'recall': 0.8867924528301887, 'f1-score': 0.7704918032786885, 'support': 53.0}, np.str_('Smart Governance'): {'precision': 0.7786259541984732, 'recall': 0.7083333333333334, 'f1-score': 0.7418181818181818, 'support': 144.0}, np.str_('Smart Living'): {'precision': 0.6037735849056604, 'recall': 0.5614035087719298, 'f1-score': 0.5818181818181818, 'support': 57.0}, np.str_('Smart Mobility'): {'precision': 0.8032786885245902, 'recall': 0.9245283018867925, 'f1-score': 0.8596491228070176, 'support': 53.0}, np.str_('Smart People'): {'precision': 0.7777777777777778, 'recall': 0.717948717948718, 'f1-score': 0.7466666666666667, 'support': 39.0}, 'accuracy': 0.7458745874587459, 'macro avg': {'precision': 0.7314465185397127, 'recall': 0.74915749104092, 'f1-score': 0.737220307230512, 'support': 606.0}, 'weighted avg': {'precision': 0.746694398107038, 'recall': 0.7458745874587459, 'f1-score': 0.7441634023469007, 'support': 606.0}}\" of type <class 'dict'> for key \"eval/detailed_report\" as a scalar. This invocation of Tensorboard's writer.add_scalar() is incorrect so we dropped this attribute.\n",
            "Trainer is attempting to log a value of \"{np.str_('Irrelevant'): {'precision': 0.8165680473372781, 'recall': 0.696969696969697, 'f1-score': 0.7520435967302452, 'support': 198.0}, np.str_('Smart Economy'): {'precision': 0.6774193548387096, 'recall': 0.6774193548387096, 'f1-score': 0.6774193548387096, 'support': 62.0}, np.str_('Smart Environment'): {'precision': 0.7592592592592593, 'recall': 0.7735849056603774, 'f1-score': 0.7663551401869159, 'support': 53.0}, np.str_('Smart Governance'): {'precision': 0.7414965986394558, 'recall': 0.7569444444444444, 'f1-score': 0.7491408934707904, 'support': 144.0}, np.str_('Smart Living'): {'precision': 0.5714285714285714, 'recall': 0.7017543859649122, 'f1-score': 0.6299212598425197, 'support': 57.0}, np.str_('Smart Mobility'): {'precision': 0.8305084745762712, 'recall': 0.9245283018867925, 'f1-score': 0.875, 'support': 53.0}, np.str_('Smart People'): {'precision': 0.6666666666666666, 'recall': 0.7692307692307693, 'f1-score': 0.7142857142857143, 'support': 39.0}, 'accuracy': 0.740924092409241, 'macro avg': {'precision': 0.7233352818208875, 'recall': 0.7572045512851002, 'f1-score': 0.7377379941935563, 'support': 606.0}, 'weighted avg': {'precision': 0.7479952178903867, 'recall': 0.740924092409241, 'f1-score': 0.7418075873109825, 'support': 606.0}}\" of type <class 'dict'> for key \"eval/detailed_report\" as a scalar. This invocation of Tensorboard's writer.add_scalar() is incorrect so we dropped this attribute.\n",
            "Trainer is attempting to log a value of \"{np.str_('Irrelevant'): {'precision': 0.7801047120418848, 'recall': 0.7525252525252525, 'f1-score': 0.7660668380462725, 'support': 198.0}, np.str_('Smart Economy'): {'precision': 0.7169811320754716, 'recall': 0.6129032258064516, 'f1-score': 0.6608695652173913, 'support': 62.0}, np.str_('Smart Environment'): {'precision': 0.7547169811320755, 'recall': 0.7547169811320755, 'f1-score': 0.7547169811320755, 'support': 53.0}, np.str_('Smart Governance'): {'precision': 0.7397260273972602, 'recall': 0.75, 'f1-score': 0.7448275862068966, 'support': 144.0}, np.str_('Smart Living'): {'precision': 0.578125, 'recall': 0.6491228070175439, 'f1-score': 0.6115702479338843, 'support': 57.0}, np.str_('Smart Mobility'): {'precision': 0.8571428571428571, 'recall': 0.9056603773584906, 'f1-score': 0.8807339449541285, 'support': 53.0}, np.str_('Smart People'): {'precision': 0.6976744186046512, 'recall': 0.7692307692307693, 'f1-score': 0.7317073170731707, 'support': 39.0}, 'accuracy': 0.7425742574257426, 'macro avg': {'precision': 0.7320673040563144, 'recall': 0.7420227732957976, 'f1-score': 0.7357846400805456, 'support': 606.0}, 'weighted avg': {'precision': 0.7442658578751332, 'recall': 0.7425742574257426, 'f1-score': 0.7425500131536092, 'support': 606.0}}\" of type <class 'dict'> for key \"eval/detailed_report\" as a scalar. This invocation of Tensorboard's writer.add_scalar() is incorrect so we dropped this attribute.\n"
          ]
        },
        {
          "data": {
            "text/html": [
              "\n",
              "    <div>\n",
              "      \n",
              "      <progress value='38' max='38' style='width:300px; height:20px; vertical-align: middle;'></progress>\n",
              "      [38/38 00:02]\n",
              "    </div>\n",
              "    "
            ],
            "text/plain": [
              "<IPython.core.display.HTML object>"
            ]
          },
          "metadata": {},
          "output_type": "display_data"
        },
        {
          "metadata": {
            "tags": null
          },
          "name": "stderr",
          "output_type": "stream",
          "text": [
            "Trainer is attempting to log a value of \"{np.str_('Irrelevant'): {'precision': 0.7375565610859729, 'recall': 0.8232323232323232, 'f1-score': 0.7780429594272077, 'support': 198.0}, np.str_('Smart Economy'): {'precision': 0.75, 'recall': 0.6290322580645161, 'f1-score': 0.6842105263157895, 'support': 62.0}, np.str_('Smart Environment'): {'precision': 0.84, 'recall': 0.7924528301886793, 'f1-score': 0.8155339805825242, 'support': 53.0}, np.str_('Smart Governance'): {'precision': 0.7948717948717948, 'recall': 0.6458333333333334, 'f1-score': 0.7126436781609196, 'support': 144.0}, np.str_('Smart Living'): {'precision': 0.6285714285714286, 'recall': 0.7719298245614035, 'f1-score': 0.6929133858267716, 'support': 57.0}, np.str_('Smart Mobility'): {'precision': 0.8305084745762712, 'recall': 0.9245283018867925, 'f1-score': 0.875, 'support': 53.0}, np.str_('Smart People'): {'precision': 0.7297297297297297, 'recall': 0.6923076923076923, 'f1-score': 0.7105263157894737, 'support': 39.0}, 'accuracy': 0.7541254125412541, 'macro avg': {'precision': 0.7587482841193138, 'recall': 0.7541880805106772, 'f1-score': 0.7526958351575265, 'support': 606.0}, 'weighted avg': {'precision': 0.7587833623715089, 'recall': 0.7541254125412541, 'f1-score': 0.7523088094589566, 'support': 606.0}}\" of type <class 'dict'> for key \"eval/detailed_report\" as a scalar. This invocation of Tensorboard's writer.add_scalar() is incorrect so we dropped this attribute.\n"
          ]
        },
        {
          "metadata": {
            "tags": null
          },
          "name": "stdout",
          "output_type": "stream",
          "text": [
            "Fold 4 complete. Evaluation results: {'eval_loss': 0.9491768479347229, 'eval_macro_f1': 0.7526958351575265, 'eval_detailed_report': {np.str_('Irrelevant'): {'precision': 0.7375565610859729, 'recall': 0.8232323232323232, 'f1-score': 0.7780429594272077, 'support': 198.0}, np.str_('Smart Economy'): {'precision': 0.75, 'recall': 0.6290322580645161, 'f1-score': 0.6842105263157895, 'support': 62.0}, np.str_('Smart Environment'): {'precision': 0.84, 'recall': 0.7924528301886793, 'f1-score': 0.8155339805825242, 'support': 53.0}, np.str_('Smart Governance'): {'precision': 0.7948717948717948, 'recall': 0.6458333333333334, 'f1-score': 0.7126436781609196, 'support': 144.0}, np.str_('Smart Living'): {'precision': 0.6285714285714286, 'recall': 0.7719298245614035, 'f1-score': 0.6929133858267716, 'support': 57.0}, np.str_('Smart Mobility'): {'precision': 0.8305084745762712, 'recall': 0.9245283018867925, 'f1-score': 0.875, 'support': 53.0}, np.str_('Smart People'): {'precision': 0.7297297297297297, 'recall': 0.6923076923076923, 'f1-score': 0.7105263157894737, 'support': 39.0}, 'accuracy': 0.7541254125412541, 'macro avg': {'precision': 0.7587482841193138, 'recall': 0.7541880805106772, 'f1-score': 0.7526958351575265, 'support': 606.0}, 'weighted avg': {'precision': 0.7587833623715089, 'recall': 0.7541254125412541, 'f1-score': 0.7523088094589566, 'support': 606.0}}, 'eval_runtime': 2.5763, 'eval_samples_per_second': 235.217, 'eval_steps_per_second': 14.75, 'epoch': 5.0}\n",
            "--- Running Fold 5/5 ---\n"
          ]
        },
        {
          "metadata": {
            "tags": null
          },
          "name": "stderr",
          "output_type": "stream",
          "text": [
            "Some weights of BertForSequenceClassification were not initialized from the model checkpoint at indobenchmark/indobert-base-p1 and are newly initialized: ['classifier.bias', 'classifier.weight']\n",
            "You should probably TRAIN this model on a down-stream task to be able to use it for predictions and inference.\n"
          ]
        },
        {
          "data": {
            "text/html": [
              "\n",
              "    <div>\n",
              "      \n",
              "      <progress value='1429' max='1740' style='width:300px; height:20px; vertical-align: middle;'></progress>\n",
              "      [1429/1740 07:03 < 01:32, 3.37 it/s, Epoch 4.10/5]\n",
              "    </div>\n",
              "    <table border=\"1\" class=\"dataframe\">\n",
              "  <thead>\n",
              " <tr style=\"text-align: left;\">\n",
              "      <th>Epoch</th>\n",
              "      <th>Training Loss</th>\n",
              "      <th>Validation Loss</th>\n",
              "      <th>Macro F1</th>\n",
              "      <th>Detailed Report</th>\n",
              "    </tr>\n",
              "  </thead>\n",
              "  <tbody>\n",
              "    <tr>\n",
              "      <td>1</td>\n",
              "      <td>0.239400</td>\n",
              "      <td>0.903596</td>\n",
              "      <td>0.703700</td>\n",
              "      <td>{np.str_('Irrelevant'): {'precision': 0.7953216374269005, 'recall': 0.6868686868686869, 'f1-score': 0.7371273712737128, 'support': 198.0}, np.str_('Smart Economy'): {'precision': 0.6363636363636364, 'recall': 0.8032786885245902, 'f1-score': 0.7101449275362319, 'support': 61.0}, np.str_('Smart Environment'): {'precision': 0.7796610169491526, 'recall': 0.8679245283018868, 'f1-score': 0.8214285714285714, 'support': 53.0}, np.str_('Smart Governance'): {'precision': 0.83, 'recall': 0.5763888888888888, 'f1-score': 0.680327868852459, 'support': 144.0}, np.str_('Smart Living'): {'precision': 0.4927536231884058, 'recall': 0.5862068965517241, 'f1-score': 0.5354330708661418, 'support': 58.0}, np.str_('Smart Mobility'): {'precision': 0.8103448275862069, 'recall': 0.8867924528301887, 'f1-score': 0.8468468468468469, 'support': 53.0}, np.str_('Smart People'): {'precision': 0.4583333333333333, 'recall': 0.8461538461538461, 'f1-score': 0.5945945945945946, 'support': 39.0}, 'accuracy': 0.7062706270627063, 'macro avg': {'precision': 0.6861111535496621, 'recall': 0.7505162840171159, 'f1-score': 0.7037004644855083, 'support': 606.0}, 'weighted avg': {'precision': 0.7368595477458906, 'recall': 0.7062706270627063, 'f1-score': 0.7094062337866038, 'support': 606.0}}</td>\n",
              "    </tr>\n",
              "    <tr>\n",
              "      <td>2</td>\n",
              "      <td>0.126400</td>\n",
              "      <td>1.049845</td>\n",
              "      <td>0.722179</td>\n",
              "      <td>{np.str_('Irrelevant'): {'precision': 0.8414634146341463, 'recall': 0.696969696969697, 'f1-score': 0.7624309392265194, 'support': 198.0}, np.str_('Smart Economy'): {'precision': 0.7241379310344828, 'recall': 0.6885245901639344, 'f1-score': 0.7058823529411765, 'support': 61.0}, np.str_('Smart Environment'): {'precision': 0.7619047619047619, 'recall': 0.9056603773584906, 'f1-score': 0.8275862068965517, 'support': 53.0}, np.str_('Smart Governance'): {'precision': 0.6470588235294118, 'recall': 0.8402777777777778, 'f1-score': 0.7311178247734139, 'support': 144.0}, np.str_('Smart Living'): {'precision': 0.6666666666666666, 'recall': 0.5172413793103449, 'f1-score': 0.5825242718446602, 'support': 58.0}, np.str_('Smart Mobility'): {'precision': 0.8545454545454545, 'recall': 0.8867924528301887, 'f1-score': 0.8703703703703703, 'support': 53.0}, np.str_('Smart People'): {'precision': 0.6176470588235294, 'recall': 0.5384615384615384, 'f1-score': 0.5753424657534246, 'support': 39.0}, 'accuracy': 0.7376237623762376, 'macro avg': {'precision': 0.7304891587340647, 'recall': 0.7248468304102816, 'f1-score': 0.7221792045437309, 'support': 606.0}, 'weighted avg': {'precision': 0.7465105675108012, 'recall': 0.7376237623762376, 'f1-score': 0.7351775227560312, 'support': 606.0}}</td>\n",
              "    </tr>\n",
              "    <tr>\n",
              "      <td>3</td>\n",
              "      <td>0.014200</td>\n",
              "      <td>1.119253</td>\n",
              "      <td>0.720429</td>\n",
              "      <td>{np.str_('Irrelevant'): {'precision': 0.7892156862745098, 'recall': 0.8131313131313131, 'f1-score': 0.8009950248756219, 'support': 198.0}, np.str_('Smart Economy'): {'precision': 0.6875, 'recall': 0.7213114754098361, 'f1-score': 0.704, 'support': 61.0}, np.str_('Smart Environment'): {'precision': 0.7586206896551724, 'recall': 0.8301886792452831, 'f1-score': 0.7927927927927928, 'support': 53.0}, np.str_('Smart Governance'): {'precision': 0.7769230769230769, 'recall': 0.7013888888888888, 'f1-score': 0.7372262773722628, 'support': 144.0}, np.str_('Smart Living'): {'precision': 0.5689655172413793, 'recall': 0.5689655172413793, 'f1-score': 0.5689655172413793, 'support': 58.0}, np.str_('Smart Mobility'): {'precision': 0.8035714285714286, 'recall': 0.8490566037735849, 'f1-score': 0.8256880733944955, 'support': 53.0}, np.str_('Smart People'): {'precision': 0.6388888888888888, 'recall': 0.5897435897435898, 'f1-score': 0.6133333333333333, 'support': 39.0}, 'accuracy': 0.7442244224422442, 'macro avg': {'precision': 0.7176693267934936, 'recall': 0.7248265810619821, 'f1-score': 0.7204287170014122, 'support': 606.0}, 'weighted avg': {'precision': 0.7438811516368854, 'recall': 0.7442244224422442, 'f1-score': 0.7432361134899427, 'support': 606.0}}</td>\n",
              "    </tr>\n",
              "    <tr>\n",
              "      <td>4</td>\n",
              "      <td>0.004000</td>\n",
              "      <td>1.182754</td>\n",
              "      <td>0.741785</td>\n",
              "      <td>{np.str_('Irrelevant'): {'precision': 0.8279569892473119, 'recall': 0.7777777777777778, 'f1-score': 0.8020833333333334, 'support': 198.0}, np.str_('Smart Economy'): {'precision': 0.7301587301587301, 'recall': 0.7540983606557377, 'f1-score': 0.7419354838709677, 'support': 61.0}, np.str_('Smart Environment'): {'precision': 0.7619047619047619, 'recall': 0.9056603773584906, 'f1-score': 0.8275862068965517, 'support': 53.0}, np.str_('Smart Governance'): {'precision': 0.7569444444444444, 'recall': 0.7569444444444444, 'f1-score': 0.7569444444444444, 'support': 144.0}, np.str_('Smart Living'): {'precision': 0.5932203389830508, 'recall': 0.603448275862069, 'f1-score': 0.5982905982905983, 'support': 58.0}, np.str_('Smart Mobility'): {'precision': 0.8214285714285714, 'recall': 0.8679245283018868, 'f1-score': 0.8440366972477065, 'support': 53.0}, np.str_('Smart People'): {'precision': 0.6571428571428571, 'recall': 0.5897435897435898, 'f1-score': 0.6216216216216216, 'support': 39.0}, 'accuracy': 0.7607260726072608, 'macro avg': {'precision': 0.7355366704728183, 'recall': 0.7507996220205708, 'f1-score': 0.7417854836721748, 'support': 606.0}, 'weighted avg': {'precision': 0.7614309969750913, 'recall': 0.7607260726072608, 'f1-score': 0.7600836243892287, 'support': 606.0}}</td>\n",
              "    </tr>\n",
              "  </tbody>\n",
              "</table><p>"
            ],
            "text/plain": [
              "<IPython.core.display.HTML object>"
            ]
          },
          "metadata": {},
          "output_type": "display_data"
        },
        {
          "metadata": {
            "tags": null
          },
          "name": "stderr",
          "output_type": "stream",
          "text": [
            "Trainer is attempting to log a value of \"{np.str_('Irrelevant'): {'precision': 0.7953216374269005, 'recall': 0.6868686868686869, 'f1-score': 0.7371273712737128, 'support': 198.0}, np.str_('Smart Economy'): {'precision': 0.6363636363636364, 'recall': 0.8032786885245902, 'f1-score': 0.7101449275362319, 'support': 61.0}, np.str_('Smart Environment'): {'precision': 0.7796610169491526, 'recall': 0.8679245283018868, 'f1-score': 0.8214285714285714, 'support': 53.0}, np.str_('Smart Governance'): {'precision': 0.83, 'recall': 0.5763888888888888, 'f1-score': 0.680327868852459, 'support': 144.0}, np.str_('Smart Living'): {'precision': 0.4927536231884058, 'recall': 0.5862068965517241, 'f1-score': 0.5354330708661418, 'support': 58.0}, np.str_('Smart Mobility'): {'precision': 0.8103448275862069, 'recall': 0.8867924528301887, 'f1-score': 0.8468468468468469, 'support': 53.0}, np.str_('Smart People'): {'precision': 0.4583333333333333, 'recall': 0.8461538461538461, 'f1-score': 0.5945945945945946, 'support': 39.0}, 'accuracy': 0.7062706270627063, 'macro avg': {'precision': 0.6861111535496621, 'recall': 0.7505162840171159, 'f1-score': 0.7037004644855083, 'support': 606.0}, 'weighted avg': {'precision': 0.7368595477458906, 'recall': 0.7062706270627063, 'f1-score': 0.7094062337866038, 'support': 606.0}}\" of type <class 'dict'> for key \"eval/detailed_report\" as a scalar. This invocation of Tensorboard's writer.add_scalar() is incorrect so we dropped this attribute.\n",
            "Trainer is attempting to log a value of \"{np.str_('Irrelevant'): {'precision': 0.8414634146341463, 'recall': 0.696969696969697, 'f1-score': 0.7624309392265194, 'support': 198.0}, np.str_('Smart Economy'): {'precision': 0.7241379310344828, 'recall': 0.6885245901639344, 'f1-score': 0.7058823529411765, 'support': 61.0}, np.str_('Smart Environment'): {'precision': 0.7619047619047619, 'recall': 0.9056603773584906, 'f1-score': 0.8275862068965517, 'support': 53.0}, np.str_('Smart Governance'): {'precision': 0.6470588235294118, 'recall': 0.8402777777777778, 'f1-score': 0.7311178247734139, 'support': 144.0}, np.str_('Smart Living'): {'precision': 0.6666666666666666, 'recall': 0.5172413793103449, 'f1-score': 0.5825242718446602, 'support': 58.0}, np.str_('Smart Mobility'): {'precision': 0.8545454545454545, 'recall': 0.8867924528301887, 'f1-score': 0.8703703703703703, 'support': 53.0}, np.str_('Smart People'): {'precision': 0.6176470588235294, 'recall': 0.5384615384615384, 'f1-score': 0.5753424657534246, 'support': 39.0}, 'accuracy': 0.7376237623762376, 'macro avg': {'precision': 0.7304891587340647, 'recall': 0.7248468304102816, 'f1-score': 0.7221792045437309, 'support': 606.0}, 'weighted avg': {'precision': 0.7465105675108012, 'recall': 0.7376237623762376, 'f1-score': 0.7351775227560312, 'support': 606.0}}\" of type <class 'dict'> for key \"eval/detailed_report\" as a scalar. This invocation of Tensorboard's writer.add_scalar() is incorrect so we dropped this attribute.\n",
            "Trainer is attempting to log a value of \"{np.str_('Irrelevant'): {'precision': 0.7892156862745098, 'recall': 0.8131313131313131, 'f1-score': 0.8009950248756219, 'support': 198.0}, np.str_('Smart Economy'): {'precision': 0.6875, 'recall': 0.7213114754098361, 'f1-score': 0.704, 'support': 61.0}, np.str_('Smart Environment'): {'precision': 0.7586206896551724, 'recall': 0.8301886792452831, 'f1-score': 0.7927927927927928, 'support': 53.0}, np.str_('Smart Governance'): {'precision': 0.7769230769230769, 'recall': 0.7013888888888888, 'f1-score': 0.7372262773722628, 'support': 144.0}, np.str_('Smart Living'): {'precision': 0.5689655172413793, 'recall': 0.5689655172413793, 'f1-score': 0.5689655172413793, 'support': 58.0}, np.str_('Smart Mobility'): {'precision': 0.8035714285714286, 'recall': 0.8490566037735849, 'f1-score': 0.8256880733944955, 'support': 53.0}, np.str_('Smart People'): {'precision': 0.6388888888888888, 'recall': 0.5897435897435898, 'f1-score': 0.6133333333333333, 'support': 39.0}, 'accuracy': 0.7442244224422442, 'macro avg': {'precision': 0.7176693267934936, 'recall': 0.7248265810619821, 'f1-score': 0.7204287170014122, 'support': 606.0}, 'weighted avg': {'precision': 0.7438811516368854, 'recall': 0.7442244224422442, 'f1-score': 0.7432361134899427, 'support': 606.0}}\" of type <class 'dict'> for key \"eval/detailed_report\" as a scalar. This invocation of Tensorboard's writer.add_scalar() is incorrect so we dropped this attribute.\n",
            "Trainer is attempting to log a value of \"{np.str_('Irrelevant'): {'precision': 0.8279569892473119, 'recall': 0.7777777777777778, 'f1-score': 0.8020833333333334, 'support': 198.0}, np.str_('Smart Economy'): {'precision': 0.7301587301587301, 'recall': 0.7540983606557377, 'f1-score': 0.7419354838709677, 'support': 61.0}, np.str_('Smart Environment'): {'precision': 0.7619047619047619, 'recall': 0.9056603773584906, 'f1-score': 0.8275862068965517, 'support': 53.0}, np.str_('Smart Governance'): {'precision': 0.7569444444444444, 'recall': 0.7569444444444444, 'f1-score': 0.7569444444444444, 'support': 144.0}, np.str_('Smart Living'): {'precision': 0.5932203389830508, 'recall': 0.603448275862069, 'f1-score': 0.5982905982905983, 'support': 58.0}, np.str_('Smart Mobility'): {'precision': 0.8214285714285714, 'recall': 0.8679245283018868, 'f1-score': 0.8440366972477065, 'support': 53.0}, np.str_('Smart People'): {'precision': 0.6571428571428571, 'recall': 0.5897435897435898, 'f1-score': 0.6216216216216216, 'support': 39.0}, 'accuracy': 0.7607260726072608, 'macro avg': {'precision': 0.7355366704728183, 'recall': 0.7507996220205708, 'f1-score': 0.7417854836721748, 'support': 606.0}, 'weighted avg': {'precision': 0.7614309969750913, 'recall': 0.7607260726072608, 'f1-score': 0.7600836243892287, 'support': 606.0}}\" of type <class 'dict'> for key \"eval/detailed_report\" as a scalar. This invocation of Tensorboard's writer.add_scalar() is incorrect so we dropped this attribute.\n"
          ]
        },
        {
          "output_type": "display_data",
          "data": {
            "text/plain": [
              "<IPython.core.display.HTML object>"
            ],
            "text/html": [
              "\n",
              "    <div>\n",
              "      \n",
              "      <progress value='1740' max='1740' style='width:300px; height:20px; vertical-align: middle;'></progress>\n",
              "      [1740/1740 08:39, Epoch 5/5]\n",
              "    </div>\n",
              "    <table border=\"1\" class=\"dataframe\">\n",
              "  <thead>\n",
              " <tr style=\"text-align: left;\">\n",
              "      <th>Epoch</th>\n",
              "      <th>Training Loss</th>\n",
              "      <th>Validation Loss</th>\n",
              "      <th>Macro F1</th>\n",
              "      <th>Detailed Report</th>\n",
              "    </tr>\n",
              "  </thead>\n",
              "  <tbody>\n",
              "    <tr>\n",
              "      <td>1</td>\n",
              "      <td>0.239400</td>\n",
              "      <td>0.903596</td>\n",
              "      <td>0.703700</td>\n",
              "      <td>{np.str_('Irrelevant'): {'precision': 0.7953216374269005, 'recall': 0.6868686868686869, 'f1-score': 0.7371273712737128, 'support': 198.0}, np.str_('Smart Economy'): {'precision': 0.6363636363636364, 'recall': 0.8032786885245902, 'f1-score': 0.7101449275362319, 'support': 61.0}, np.str_('Smart Environment'): {'precision': 0.7796610169491526, 'recall': 0.8679245283018868, 'f1-score': 0.8214285714285714, 'support': 53.0}, np.str_('Smart Governance'): {'precision': 0.83, 'recall': 0.5763888888888888, 'f1-score': 0.680327868852459, 'support': 144.0}, np.str_('Smart Living'): {'precision': 0.4927536231884058, 'recall': 0.5862068965517241, 'f1-score': 0.5354330708661418, 'support': 58.0}, np.str_('Smart Mobility'): {'precision': 0.8103448275862069, 'recall': 0.8867924528301887, 'f1-score': 0.8468468468468469, 'support': 53.0}, np.str_('Smart People'): {'precision': 0.4583333333333333, 'recall': 0.8461538461538461, 'f1-score': 0.5945945945945946, 'support': 39.0}, 'accuracy': 0.7062706270627063, 'macro avg': {'precision': 0.6861111535496621, 'recall': 0.7505162840171159, 'f1-score': 0.7037004644855083, 'support': 606.0}, 'weighted avg': {'precision': 0.7368595477458906, 'recall': 0.7062706270627063, 'f1-score': 0.7094062337866038, 'support': 606.0}}</td>\n",
              "    </tr>\n",
              "    <tr>\n",
              "      <td>2</td>\n",
              "      <td>0.126400</td>\n",
              "      <td>1.049845</td>\n",
              "      <td>0.722179</td>\n",
              "      <td>{np.str_('Irrelevant'): {'precision': 0.8414634146341463, 'recall': 0.696969696969697, 'f1-score': 0.7624309392265194, 'support': 198.0}, np.str_('Smart Economy'): {'precision': 0.7241379310344828, 'recall': 0.6885245901639344, 'f1-score': 0.7058823529411765, 'support': 61.0}, np.str_('Smart Environment'): {'precision': 0.7619047619047619, 'recall': 0.9056603773584906, 'f1-score': 0.8275862068965517, 'support': 53.0}, np.str_('Smart Governance'): {'precision': 0.6470588235294118, 'recall': 0.8402777777777778, 'f1-score': 0.7311178247734139, 'support': 144.0}, np.str_('Smart Living'): {'precision': 0.6666666666666666, 'recall': 0.5172413793103449, 'f1-score': 0.5825242718446602, 'support': 58.0}, np.str_('Smart Mobility'): {'precision': 0.8545454545454545, 'recall': 0.8867924528301887, 'f1-score': 0.8703703703703703, 'support': 53.0}, np.str_('Smart People'): {'precision': 0.6176470588235294, 'recall': 0.5384615384615384, 'f1-score': 0.5753424657534246, 'support': 39.0}, 'accuracy': 0.7376237623762376, 'macro avg': {'precision': 0.7304891587340647, 'recall': 0.7248468304102816, 'f1-score': 0.7221792045437309, 'support': 606.0}, 'weighted avg': {'precision': 0.7465105675108012, 'recall': 0.7376237623762376, 'f1-score': 0.7351775227560312, 'support': 606.0}}</td>\n",
              "    </tr>\n",
              "    <tr>\n",
              "      <td>3</td>\n",
              "      <td>0.014200</td>\n",
              "      <td>1.119253</td>\n",
              "      <td>0.720429</td>\n",
              "      <td>{np.str_('Irrelevant'): {'precision': 0.7892156862745098, 'recall': 0.8131313131313131, 'f1-score': 0.8009950248756219, 'support': 198.0}, np.str_('Smart Economy'): {'precision': 0.6875, 'recall': 0.7213114754098361, 'f1-score': 0.704, 'support': 61.0}, np.str_('Smart Environment'): {'precision': 0.7586206896551724, 'recall': 0.8301886792452831, 'f1-score': 0.7927927927927928, 'support': 53.0}, np.str_('Smart Governance'): {'precision': 0.7769230769230769, 'recall': 0.7013888888888888, 'f1-score': 0.7372262773722628, 'support': 144.0}, np.str_('Smart Living'): {'precision': 0.5689655172413793, 'recall': 0.5689655172413793, 'f1-score': 0.5689655172413793, 'support': 58.0}, np.str_('Smart Mobility'): {'precision': 0.8035714285714286, 'recall': 0.8490566037735849, 'f1-score': 0.8256880733944955, 'support': 53.0}, np.str_('Smart People'): {'precision': 0.6388888888888888, 'recall': 0.5897435897435898, 'f1-score': 0.6133333333333333, 'support': 39.0}, 'accuracy': 0.7442244224422442, 'macro avg': {'precision': 0.7176693267934936, 'recall': 0.7248265810619821, 'f1-score': 0.7204287170014122, 'support': 606.0}, 'weighted avg': {'precision': 0.7438811516368854, 'recall': 0.7442244224422442, 'f1-score': 0.7432361134899427, 'support': 606.0}}</td>\n",
              "    </tr>\n",
              "    <tr>\n",
              "      <td>4</td>\n",
              "      <td>0.004000</td>\n",
              "      <td>1.182754</td>\n",
              "      <td>0.741785</td>\n",
              "      <td>{np.str_('Irrelevant'): {'precision': 0.8279569892473119, 'recall': 0.7777777777777778, 'f1-score': 0.8020833333333334, 'support': 198.0}, np.str_('Smart Economy'): {'precision': 0.7301587301587301, 'recall': 0.7540983606557377, 'f1-score': 0.7419354838709677, 'support': 61.0}, np.str_('Smart Environment'): {'precision': 0.7619047619047619, 'recall': 0.9056603773584906, 'f1-score': 0.8275862068965517, 'support': 53.0}, np.str_('Smart Governance'): {'precision': 0.7569444444444444, 'recall': 0.7569444444444444, 'f1-score': 0.7569444444444444, 'support': 144.0}, np.str_('Smart Living'): {'precision': 0.5932203389830508, 'recall': 0.603448275862069, 'f1-score': 0.5982905982905983, 'support': 58.0}, np.str_('Smart Mobility'): {'precision': 0.8214285714285714, 'recall': 0.8679245283018868, 'f1-score': 0.8440366972477065, 'support': 53.0}, np.str_('Smart People'): {'precision': 0.6571428571428571, 'recall': 0.5897435897435898, 'f1-score': 0.6216216216216216, 'support': 39.0}, 'accuracy': 0.7607260726072608, 'macro avg': {'precision': 0.7355366704728183, 'recall': 0.7507996220205708, 'f1-score': 0.7417854836721748, 'support': 606.0}, 'weighted avg': {'precision': 0.7614309969750913, 'recall': 0.7607260726072608, 'f1-score': 0.7600836243892287, 'support': 606.0}}</td>\n",
              "    </tr>\n",
              "    <tr>\n",
              "      <td>5</td>\n",
              "      <td>0.001200</td>\n",
              "      <td>1.174307</td>\n",
              "      <td>0.735685</td>\n",
              "      <td>{np.str_('Irrelevant'): {'precision': 0.8109452736318408, 'recall': 0.8232323232323232, 'f1-score': 0.8170426065162907, 'support': 198.0}, np.str_('Smart Economy'): {'precision': 0.7192982456140351, 'recall': 0.6721311475409836, 'f1-score': 0.6949152542372882, 'support': 61.0}, np.str_('Smart Environment'): {'precision': 0.7586206896551724, 'recall': 0.8301886792452831, 'f1-score': 0.7927927927927928, 'support': 53.0}, np.str_('Smart Governance'): {'precision': 0.782608695652174, 'recall': 0.75, 'f1-score': 0.7659574468085106, 'support': 144.0}, np.str_('Smart Living'): {'precision': 0.5862068965517241, 'recall': 0.5862068965517241, 'f1-score': 0.5862068965517241, 'support': 58.0}, np.str_('Smart Mobility'): {'precision': 0.8363636363636363, 'recall': 0.8679245283018868, 'f1-score': 0.8518518518518519, 'support': 53.0}, np.str_('Smart People'): {'precision': 0.6410256410256411, 'recall': 0.6410256410256411, 'f1-score': 0.6410256410256411, 'support': 39.0}, 'accuracy': 0.7607260726072608, 'macro avg': {'precision': 0.7335812969277463, 'recall': 0.7386727451282632, 'f1-score': 0.7356846413977286, 'support': 606.0}, 'weighted avg': {'precision': 0.7601884135552319, 'recall': 0.7607260726072608, 'f1-score': 0.760112714695201, 'support': 606.0}}</td>\n",
              "    </tr>\n",
              "  </tbody>\n",
              "</table><p>"
            ]
          },
          "metadata": {}
        },
        {
          "output_type": "stream",
          "name": "stderr",
          "text": [
            "Trainer is attempting to log a value of \"{np.str_('Irrelevant'): {'precision': 0.8109452736318408, 'recall': 0.8232323232323232, 'f1-score': 0.8170426065162907, 'support': 198.0}, np.str_('Smart Economy'): {'precision': 0.7192982456140351, 'recall': 0.6721311475409836, 'f1-score': 0.6949152542372882, 'support': 61.0}, np.str_('Smart Environment'): {'precision': 0.7586206896551724, 'recall': 0.8301886792452831, 'f1-score': 0.7927927927927928, 'support': 53.0}, np.str_('Smart Governance'): {'precision': 0.782608695652174, 'recall': 0.75, 'f1-score': 0.7659574468085106, 'support': 144.0}, np.str_('Smart Living'): {'precision': 0.5862068965517241, 'recall': 0.5862068965517241, 'f1-score': 0.5862068965517241, 'support': 58.0}, np.str_('Smart Mobility'): {'precision': 0.8363636363636363, 'recall': 0.8679245283018868, 'f1-score': 0.8518518518518519, 'support': 53.0}, np.str_('Smart People'): {'precision': 0.6410256410256411, 'recall': 0.6410256410256411, 'f1-score': 0.6410256410256411, 'support': 39.0}, 'accuracy': 0.7607260726072608, 'macro avg': {'precision': 0.7335812969277463, 'recall': 0.7386727451282632, 'f1-score': 0.7356846413977286, 'support': 606.0}, 'weighted avg': {'precision': 0.7601884135552319, 'recall': 0.7607260726072608, 'f1-score': 0.760112714695201, 'support': 606.0}}\" of type <class 'dict'> for key \"eval/detailed_report\" as a scalar. This invocation of Tensorboard's writer.add_scalar() is incorrect so we dropped this attribute.\n"
          ]
        },
        {
          "output_type": "display_data",
          "data": {
            "text/plain": [
              "<IPython.core.display.HTML object>"
            ],
            "text/html": [
              "\n",
              "    <div>\n",
              "      \n",
              "      <progress value='38' max='38' style='width:300px; height:20px; vertical-align: middle;'></progress>\n",
              "      [38/38 00:02]\n",
              "    </div>\n",
              "    "
            ]
          },
          "metadata": {}
        },
        {
          "output_type": "stream",
          "name": "stderr",
          "text": [
            "Trainer is attempting to log a value of \"{np.str_('Irrelevant'): {'precision': 0.8279569892473119, 'recall': 0.7777777777777778, 'f1-score': 0.8020833333333334, 'support': 198.0}, np.str_('Smart Economy'): {'precision': 0.7301587301587301, 'recall': 0.7540983606557377, 'f1-score': 0.7419354838709677, 'support': 61.0}, np.str_('Smart Environment'): {'precision': 0.7619047619047619, 'recall': 0.9056603773584906, 'f1-score': 0.8275862068965517, 'support': 53.0}, np.str_('Smart Governance'): {'precision': 0.7569444444444444, 'recall': 0.7569444444444444, 'f1-score': 0.7569444444444444, 'support': 144.0}, np.str_('Smart Living'): {'precision': 0.5932203389830508, 'recall': 0.603448275862069, 'f1-score': 0.5982905982905983, 'support': 58.0}, np.str_('Smart Mobility'): {'precision': 0.8214285714285714, 'recall': 0.8679245283018868, 'f1-score': 0.8440366972477065, 'support': 53.0}, np.str_('Smart People'): {'precision': 0.6571428571428571, 'recall': 0.5897435897435898, 'f1-score': 0.6216216216216216, 'support': 39.0}, 'accuracy': 0.7607260726072608, 'macro avg': {'precision': 0.7355366704728183, 'recall': 0.7507996220205708, 'f1-score': 0.7417854836721748, 'support': 606.0}, 'weighted avg': {'precision': 0.7614309969750913, 'recall': 0.7607260726072608, 'f1-score': 0.7600836243892287, 'support': 606.0}}\" of type <class 'dict'> for key \"eval/detailed_report\" as a scalar. This invocation of Tensorboard's writer.add_scalar() is incorrect so we dropped this attribute.\n"
          ]
        },
        {
          "output_type": "stream",
          "name": "stdout",
          "text": [
            "Fold 5 complete. Evaluation results: {'eval_loss': 1.1827536821365356, 'eval_macro_f1': 0.7417854836721748, 'eval_detailed_report': {np.str_('Irrelevant'): {'precision': 0.8279569892473119, 'recall': 0.7777777777777778, 'f1-score': 0.8020833333333334, 'support': 198.0}, np.str_('Smart Economy'): {'precision': 0.7301587301587301, 'recall': 0.7540983606557377, 'f1-score': 0.7419354838709677, 'support': 61.0}, np.str_('Smart Environment'): {'precision': 0.7619047619047619, 'recall': 0.9056603773584906, 'f1-score': 0.8275862068965517, 'support': 53.0}, np.str_('Smart Governance'): {'precision': 0.7569444444444444, 'recall': 0.7569444444444444, 'f1-score': 0.7569444444444444, 'support': 144.0}, np.str_('Smart Living'): {'precision': 0.5932203389830508, 'recall': 0.603448275862069, 'f1-score': 0.5982905982905983, 'support': 58.0}, np.str_('Smart Mobility'): {'precision': 0.8214285714285714, 'recall': 0.8679245283018868, 'f1-score': 0.8440366972477065, 'support': 53.0}, np.str_('Smart People'): {'precision': 0.6571428571428571, 'recall': 0.5897435897435898, 'f1-score': 0.6216216216216216, 'support': 39.0}, 'accuracy': 0.7607260726072608, 'macro avg': {'precision': 0.7355366704728183, 'recall': 0.7507996220205708, 'f1-score': 0.7417854836721748, 'support': 606.0}, 'weighted avg': {'precision': 0.7614309969750913, 'recall': 0.7607260726072608, 'f1-score': 0.7600836243892287, 'support': 606.0}}, 'eval_runtime': 2.7412, 'eval_samples_per_second': 221.073, 'eval_steps_per_second': 13.863, 'epoch': 5.0}\n",
            "\n",
            "✅ 5-fold cross-validation process for IndoBERT finished.\n"
          ]
        }
      ]
    },
    {
      "cell_type": "code",
      "source": [
        "# Extract the 'eval_macro_f1' score from each fold's result\n",
        "macro_f1_scores = [result['eval_macro_f1'] for result in fold_results]\n",
        "\n",
        "# Calculate the mean and standard deviation\n",
        "mean_macro_f1 = np.mean(macro_f1_scores)\n",
        "std_macro_f1 = np.std(macro_f1_scores)\n",
        "\n",
        "print(\"--- Final Aggregated Results (5-Fold CV) for IndoBERT (Improved) ---\")\n",
        "print(f\"Macro F1-Score = {mean_macro_f1:.4f} ± {std_macro_f1:.4f}\")"
      ],
      "metadata": {
        "colab": {
          "base_uri": "https://localhost:8080/"
        },
        "id": "DvCIHnTrGTRG",
        "outputId": "2b3a6a1f-c95c-4681-887f-6e5f167bdcdd"
      },
      "execution_count": null,
      "outputs": [
        {
          "output_type": "stream",
          "name": "stdout",
          "text": [
            "--- Final Aggregated Results (5-Fold CV) for IndoBERT (Improved) ---\n",
            "Macro F1-Score = 0.7453 ± 0.0049\n"
          ]
        }
      ]
    },
    {
      "cell_type": "code",
      "source": [
        "# Prepare the results dictionary for saving\n",
        "final_results = {\n",
        "    'model': 'IndoBERT (Improved)',\n",
        "    'mean_macro_f1': mean_macro_f1,\n",
        "    'std_dev_macro_f1': std_macro_f1,\n",
        "    'results_per_fold': fold_results\n",
        "}\n",
        "\n",
        "# Define the output file path\n",
        "results_file_path = os.path.join(GDRIVE_PATH, 'results_indobert.json')\n",
        "\n",
        "# Save to a JSON file\n",
        "with open(results_file_path, 'w') as f:\n",
        "    json.dump(final_results, f, indent=4)\n",
        "\n",
        "print(f\"\\n✅ Final results for IndoBERT have been saved to: '{results_file_path}'\")"
      ],
      "metadata": {
        "colab": {
          "base_uri": "https://localhost:8080/"
        },
        "id": "1SdyvhprGYcO",
        "outputId": "58c804b1-024b-4bf9-c934-313bf5d18540"
      },
      "execution_count": null,
      "outputs": [
        {
          "output_type": "stream",
          "name": "stdout",
          "text": [
            "\n",
            "✅ Final results for IndoBERT have been saved to: '/content/drive/MyDrive/eecsi_revise/results_indobert.json'\n"
          ]
        }
      ]
    }
  ]
}